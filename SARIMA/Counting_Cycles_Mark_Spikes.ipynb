{
 "cells": [
  {
   "cell_type": "code",
   "execution_count": 37,
   "metadata": {},
   "outputs": [
    {
     "name": "stdout",
     "output_type": "stream",
     "text": [
      "Collecting pmdarima\n",
      "  Downloading pmdarima-2.0.2-cp39-cp39-win_amd64.whl (572 kB)\n",
      "     ------------------------------------ 572.0/572.0 kB 642.0 kB/s eta 0:00:00\n",
      "Requirement already satisfied: scikit-learn>=0.22 in c:\\users\\mosac\\anaconda3\\lib\\site-packages (from pmdarima) (1.0.2)\n",
      "Requirement already satisfied: urllib3 in c:\\users\\mosac\\anaconda3\\lib\\site-packages (from pmdarima) (1.26.11)\n",
      "Requirement already satisfied: Cython!=0.29.18,!=0.29.31,>=0.29 in c:\\users\\mosac\\anaconda3\\lib\\site-packages (from pmdarima) (0.29.32)\n",
      "Requirement already satisfied: setuptools!=50.0.0,>=38.6.0 in c:\\users\\mosac\\anaconda3\\lib\\site-packages (from pmdarima) (63.4.1)\n",
      "Requirement already satisfied: pandas>=0.19 in c:\\users\\mosac\\anaconda3\\lib\\site-packages (from pmdarima) (1.4.4)\n",
      "Requirement already satisfied: numpy>=1.21.2 in c:\\users\\mosac\\anaconda3\\lib\\site-packages (from pmdarima) (1.21.5)\n",
      "Requirement already satisfied: statsmodels>=0.13.2 in c:\\users\\mosac\\anaconda3\\lib\\site-packages (from pmdarima) (0.13.2)\n",
      "Requirement already satisfied: joblib>=0.11 in c:\\users\\mosac\\anaconda3\\lib\\site-packages (from pmdarima) (1.1.0)\n",
      "Requirement already satisfied: scipy>=1.3.2 in c:\\users\\mosac\\anaconda3\\lib\\site-packages (from pmdarima) (1.9.1)\n",
      "Requirement already satisfied: pytz>=2020.1 in c:\\users\\mosac\\anaconda3\\lib\\site-packages (from pandas>=0.19->pmdarima) (2022.1)\n",
      "Requirement already satisfied: python-dateutil>=2.8.1 in c:\\users\\mosac\\anaconda3\\lib\\site-packages (from pandas>=0.19->pmdarima) (2.8.2)\n",
      "Requirement already satisfied: threadpoolctl>=2.0.0 in c:\\users\\mosac\\anaconda3\\lib\\site-packages (from scikit-learn>=0.22->pmdarima) (2.2.0)\n",
      "Requirement already satisfied: patsy>=0.5.2 in c:\\users\\mosac\\anaconda3\\lib\\site-packages (from statsmodels>=0.13.2->pmdarima) (0.5.2)\n",
      "Requirement already satisfied: packaging>=21.3 in c:\\users\\mosac\\anaconda3\\lib\\site-packages (from statsmodels>=0.13.2->pmdarima) (21.3)\n",
      "Requirement already satisfied: pyparsing!=3.0.5,>=2.0.2 in c:\\users\\mosac\\anaconda3\\lib\\site-packages (from packaging>=21.3->statsmodels>=0.13.2->pmdarima) (3.0.9)\n",
      "Requirement already satisfied: six in c:\\users\\mosac\\anaconda3\\lib\\site-packages (from patsy>=0.5.2->statsmodels>=0.13.2->pmdarima) (1.16.0)\n",
      "Installing collected packages: pmdarima\n",
      "Successfully installed pmdarima-2.0.2\n",
      "Note: you may need to restart the kernel to use updated packages.\n"
     ]
    }
   ],
   "source": [
    "%pip install pmdarima"
   ]
  },
  {
   "cell_type": "code",
   "execution_count": 209,
   "metadata": {},
   "outputs": [],
   "source": [
    "import mediapipe as mp\n",
    "import cv2\n",
    "import numpy as np\n",
    "import math\n",
    "from  matplotlib import pyplot as plt\n",
    "import matplotlib.image as mpimg\n",
    "import pandas as pd\n",
    "mp_drawing = mp.solutions.drawing_utils\n",
    "mp_pose = mp.solutions.pose\n",
    "from datetime import datetime\n",
    "import pandas as pd\n",
    "import statsmodels.api as sm\n",
    "from sklearn.model_selection import train_test_split \n",
    "from statsmodels.tsa.statespace.sarimax import SARIMAX\n",
    "from pmdarima import auto_arima\n",
    "from statsmodels.tsa.seasonal import seasonal_decompose\n",
    "from datetime import timedelta\n",
    "from statsmodels.tsa.arima.model import ARIMA"
   ]
  },
  {
   "cell_type": "code",
   "execution_count": 2,
   "metadata": {},
   "outputs": [],
   "source": [
    "def calculate_angle(a,b,c):\n",
    "    a = np.array(a) # First\n",
    "    b = np.array(b) # Mid\n",
    "    c = np.array(c) # End\n",
    "    \n",
    "    radians = np.arctan2(c[1]-b[1], c[0]-b[0]) - np.arctan2(a[1]-b[1], a[0]-b[0])\n",
    "    angle = np.abs(radians*180.0/np.pi)\n",
    "    \n",
    "    if angle >180.0:\n",
    "        angle = 360-angle\n",
    "        \n",
    "    return angle"
   ]
  },
  {
   "cell_type": "code",
   "execution_count": 309,
   "metadata": {},
   "outputs": [],
   "source": [
    "data = {\"dates\" : [],\n",
    "        \"values\" : [],\n",
    "        \"spike/deep\": []\n",
    "        }\n",
    "\n",
    "cap = cv2.VideoCapture(0)\n",
    "with mp_pose.Pose(min_detection_confidence=0.5, min_tracking_confidence=0.5) as pose:\n",
    "    counter = 0\n",
    "    iter = 0\n",
    "    while cap.isOpened():\n",
    "        ret, frame = cap.read()\n",
    "\n",
    "        image = cv2.cvtColor(frame, cv2.COLOR_BGR2RGB)\n",
    "        image.flags.writeable = False\n",
    "      \n",
    "        results = pose.process(image)\n",
    "\n",
    "        image.flags.writeable = True\n",
    "        image = cv2.cvtColor(image, cv2.COLOR_RGB2BGR)\n",
    "\n",
    "        #Extract landmarks\n",
    "\n",
    "        landmarks = results.pose_landmarks.landmark\n",
    "\n",
    "\n",
    "\n",
    "        mp_drawing.draw_landmarks(image, results.pose_landmarks, mp_pose.POSE_CONNECTIONS,\n",
    "                                mp_drawing.DrawingSpec(color=(245,117,66), thickness=2, circle_radius=2), \n",
    "                                mp_drawing.DrawingSpec(color=(245,66,230), thickness=2, circle_radius=2) \n",
    "                                 )\n",
    "\n",
    "\n",
    "        # Get coordinates\n",
    "        R_hip = [landmarks[mp_pose.PoseLandmark.RIGHT_HIP.value].x,landmarks[mp_pose.PoseLandmark.RIGHT_HIP.value].y]\n",
    "        R_knee = [landmarks[mp_pose.PoseLandmark.RIGHT_KNEE.value].x,landmarks[mp_pose.PoseLandmark.RIGHT_KNEE.value].y]\n",
    "        R_ankle = [landmarks[mp_pose.PoseLandmark.RIGHT_ANKLE.value].x,landmarks[mp_pose.PoseLandmark.RIGHT_ANKLE.value].y]\n",
    "        #Visibility Extraction\n",
    "        R_V = landmarks[mp_pose.PoseLandmark.RIGHT_HIP.value].visibility + landmarks[mp_pose.PoseLandmark.RIGHT_KNEE.value].visibility + landmarks[mp_pose.PoseLandmark.RIGHT_ANKLE.value].visibility\n",
    "        \n",
    "\n",
    "        L_hip = [landmarks[mp_pose.PoseLandmark.LEFT_HIP.value].x,landmarks[mp_pose.PoseLandmark.LEFT_HIP.value].y]\n",
    "        L_knee = [landmarks[mp_pose.PoseLandmark.LEFT_KNEE.value].x,landmarks[mp_pose.PoseLandmark.LEFT_KNEE.value].y]\n",
    "        L_ankle = [landmarks[mp_pose.PoseLandmark.LEFT_ANKLE.value].x,landmarks[mp_pose.PoseLandmark.LEFT_ANKLE.value].y]\n",
    "        #Visibility Extraction\n",
    "        L_V = landmarks[mp_pose.PoseLandmark.LEFT_HIP.value].visibility + landmarks[mp_pose.PoseLandmark.LEFT_KNEE.value].visibility + landmarks[mp_pose.PoseLandmark.LEFT_ANKLE.value].visibility\n",
    "               \n",
    "        if R_V > L_V:\n",
    "            angle = calculate_angle(R_hip, R_knee, R_ankle)\n",
    "        else:\n",
    "            angle = calculate_angle(L_hip, L_knee, L_ankle)\n",
    "        counter+=1\n",
    "\n",
    "                    # Visualize angle\n",
    "        cv2.putText(image, str(angle), \n",
    "                        #tuple(np.multiply(L_knee, [1280, 720]).astype(int)), \n",
    "                        tuple(np.multiply(L_knee, [640, 480]).astype(int)), \n",
    "                        cv2.FONT_HERSHEY_SIMPLEX, 0.5, (255, 255, 255), 2, cv2.LINE_AA\n",
    "\n",
    "                            )\n",
    "        if counter == 4:\n",
    "            counter = 0\n",
    "            iter += 1\n",
    "\n",
    "        \"\"\" \n",
    "        c = 0\n",
    "        avg_y = 0\n",
    "        for i in range(11):\n",
    "            if landmarks[i+11].visibility > 0.9:\n",
    "                avg_y += landmarks[i+11].y\n",
    "                c += 1\n",
    "        avg_y / c\n",
    "        \"\"\"\n",
    "\n",
    "        avg_y = (landmarks[11].y + landmarks[13].y + landmarks[15].y)/3\n",
    "\n",
    "        if angle > 160:\n",
    "            data[\"spike/deep\"].append(1)\n",
    "            data[\"values\"].append(1-avg_y)\n",
    "            data[\"dates\"].append(datetime.today().strftime(\"%H:%M:%S:%f\"))\n",
    "        elif angle < 110:\n",
    "            data[\"spike/deep\"].append(-1)\n",
    "            data[\"values\"].append(1-avg_y)\n",
    "            data[\"dates\"].append(datetime.today().strftime(\"%H:%M:%S:%f\"))\n",
    "        else:\n",
    "            data[\"spike/deep\"].append(0)\n",
    "            data[\"values\"].append(1-avg_y)\n",
    "            data[\"dates\"].append(datetime.today().strftime(\"%H:%M:%S:%f\"))\n",
    "            \n",
    "                \n",
    "        \n",
    "        cv2.imshow('Mediapipe Feed', image)\n",
    "        \n",
    "        if (cv2.waitKey(10) & 0xFF == ord('q') | (iter == 100)):\n",
    "            break\n",
    "\n",
    "    cap.release()\n",
    "    cv2.destroyAllWindows()"
   ]
  },
  {
   "cell_type": "code",
   "execution_count": 310,
   "metadata": {},
   "outputs": [
    {
     "name": "stdout",
     "output_type": "stream",
     "text": [
      "47.0\n"
     ]
    }
   ],
   "source": [
    "sum = 0\n",
    "for i in range(len(data)-1):\n",
    "    d1 = datetime.strptime(data[\"dates\"][i], \"%H:%M:%S:%f\")\n",
    "    d2 = datetime.strptime(data[\"dates\"][i+1], \"%H:%M:%S:%f\")\n",
    "    delta = d2 - d1\n",
    "    delta_ms = round(delta.microseconds,0) / 1000\n",
    "    sum = sum + delta_ms\n",
    "avg_ms = sum // len(data)-1\n",
    "print(avg_ms)"
   ]
  },
  {
   "cell_type": "code",
   "execution_count": 311,
   "metadata": {},
   "outputs": [],
   "source": [
    "for i in range(100):\n",
    "    #index = 121 - i\n",
    "    d1 = datetime.strptime(data[\"dates\"][-1], \"%H:%M:%S:%f\")\n",
    "    sum = d1 + timedelta(milliseconds=avg_ms)\n",
    "    data[\"dates\"].append(datetime.strftime(sum,\"%H:%M:%S:%f\"))\n",
    "    data[\"values\"].append(0)\n",
    "    data[\"spike/deep\"].append(0)\n",
    "    #data[\"values\"].append(data[\"values\"][len(data)-index:][0])\n",
    "    #data[\"spike/deep\"].append(data[\"spike/deep\"][len(data)-index:][0])"
   ]
  },
  {
   "cell_type": "code",
   "execution_count": 312,
   "metadata": {},
   "outputs": [],
   "source": [
    "#To Dataframe\n",
    "df = pd.DataFrame(data = data)\n",
    "\n",
    "#df_raw = df_raw.drop(index=range(28))\n",
    "\n",
    "#without Outliers\n",
    "#df = df_raw[(df_raw['values'] > df_raw['values'].quantile(q=0.75)) |\n",
    "#            (df_raw['values'] < df_raw['values'].quantile(q=0.25)) ]"
   ]
  },
  {
   "cell_type": "code",
   "execution_count": 313,
   "metadata": {},
   "outputs": [],
   "source": [
    "df.to_csv(\"Squats_Unfiltered.csv\" , index = False)"
   ]
  },
  {
   "cell_type": "code",
   "execution_count": 318,
   "metadata": {},
   "outputs": [
    {
     "data": {
      "text/plain": [
       "<AxesSubplot:xlabel='dates'>"
      ]
     },
     "execution_count": 318,
     "metadata": {},
     "output_type": "execute_result"
    }
   ],
   "source": [
    "%matplotlib qt\n",
    "df.plot(kind='line', y = \"values\", x = \"dates\", style='-o')"
   ]
  },
  {
   "cell_type": "code",
   "execution_count": 319,
   "metadata": {},
   "outputs": [],
   "source": [
    "res = seasonal_decompose(df[\"values\"][:len(df)-100],model = \"additive\",period=21)\n",
    "res.plot();"
   ]
  },
  {
   "cell_type": "code",
   "execution_count": 158,
   "metadata": {},
   "outputs": [
    {
     "name": "stdout",
     "output_type": "stream",
     "text": [
      "Performing stepwise search to minimize aic\n",
      " ARIMA(2,0,2)(1,0,1)[21] intercept   : AIC=-3340.973, Time=2.86 sec\n",
      " ARIMA(0,0,0)(0,0,0)[21] intercept   : AIC=-970.869, Time=0.10 sec\n",
      " ARIMA(1,0,0)(1,0,0)[21] intercept   : AIC=inf, Time=0.86 sec\n",
      " ARIMA(0,0,1)(0,0,1)[21] intercept   : AIC=-1787.728, Time=0.79 sec\n",
      " ARIMA(0,0,0)(0,0,0)[21]             : AIC=192.497, Time=0.06 sec\n",
      " ARIMA(2,0,2)(0,0,1)[21] intercept   : AIC=-3361.812, Time=2.23 sec\n",
      " ARIMA(2,0,2)(0,0,0)[21] intercept   : AIC=-3341.220, Time=0.92 sec\n",
      " ARIMA(2,0,2)(0,0,2)[21] intercept   : AIC=-3365.128, Time=9.63 sec\n",
      " ARIMA(2,0,2)(1,0,2)[21] intercept   : AIC=-3365.331, Time=12.09 sec\n",
      " ARIMA(2,0,2)(2,0,2)[21] intercept   : AIC=inf, Time=15.47 sec\n",
      " ARIMA(2,0,2)(2,0,1)[21] intercept   : AIC=-3362.992, Time=9.72 sec\n",
      " ARIMA(1,0,2)(1,0,2)[21] intercept   : AIC=-3391.799, Time=9.46 sec\n",
      " ARIMA(1,0,2)(0,0,2)[21] intercept   : AIC=-3390.975, Time=9.26 sec\n",
      " ARIMA(1,0,2)(1,0,1)[21] intercept   : AIC=-3370.643, Time=1.80 sec\n",
      " ARIMA(1,0,2)(2,0,2)[21] intercept   : AIC=inf, Time=4.98 sec\n",
      " ARIMA(1,0,2)(0,0,1)[21] intercept   : AIC=-3390.751, Time=1.86 sec\n",
      " ARIMA(1,0,2)(2,0,1)[21] intercept   : AIC=-3391.520, Time=12.26 sec\n",
      " ARIMA(0,0,2)(1,0,2)[21] intercept   : AIC=-2289.382, Time=10.80 sec\n",
      " ARIMA(1,0,1)(1,0,2)[21] intercept   : AIC=-3365.359, Time=8.35 sec\n",
      " ARIMA(1,0,3)(1,0,2)[21] intercept   : AIC=inf, Time=15.49 sec\n",
      " ARIMA(0,0,1)(1,0,2)[21] intercept   : AIC=inf, Time=11.93 sec\n",
      " ARIMA(0,0,3)(1,0,2)[21] intercept   : AIC=-2602.803, Time=12.14 sec\n",
      " ARIMA(2,0,1)(1,0,2)[21] intercept   : AIC=inf, Time=12.53 sec\n",
      " ARIMA(2,0,3)(1,0,2)[21] intercept   : AIC=inf, Time=19.91 sec\n",
      " ARIMA(1,0,2)(1,0,2)[21]             : AIC=-3391.916, Time=5.06 sec\n",
      " ARIMA(1,0,2)(0,0,2)[21]             : AIC=-3390.691, Time=3.61 sec\n",
      " ARIMA(1,0,2)(1,0,1)[21]             : AIC=-3391.790, Time=1.60 sec\n",
      " ARIMA(1,0,2)(2,0,2)[21]             : AIC=inf, Time=9.98 sec\n",
      " ARIMA(1,0,2)(0,0,1)[21]             : AIC=-3390.294, Time=0.82 sec\n",
      " ARIMA(1,0,2)(2,0,1)[21]             : AIC=-3391.602, Time=6.06 sec\n",
      " ARIMA(0,0,2)(1,0,2)[21]             : AIC=-2148.309, Time=7.66 sec\n",
      " ARIMA(1,0,1)(1,0,2)[21]             : AIC=-3362.608, Time=3.57 sec\n",
      " ARIMA(2,0,2)(1,0,2)[21]             : AIC=-3517.939, Time=6.75 sec\n",
      " ARIMA(2,0,2)(0,0,2)[21]             : AIC=-3529.343, Time=5.97 sec\n",
      " ARIMA(2,0,2)(0,0,1)[21]             : AIC=-3521.659, Time=1.11 sec\n",
      " ARIMA(2,0,2)(1,0,1)[21]             : AIC=-3518.474, Time=1.37 sec\n",
      " ARIMA(2,0,1)(0,0,2)[21]             : AIC=-3524.485, Time=3.25 sec\n",
      " ARIMA(3,0,2)(0,0,2)[21]             : AIC=-3516.247, Time=5.71 sec\n",
      " ARIMA(2,0,3)(0,0,2)[21]             : AIC=-3577.967, Time=5.40 sec\n",
      " ARIMA(2,0,3)(0,0,1)[21]             : AIC=-3580.026, Time=1.36 sec\n",
      " ARIMA(2,0,3)(0,0,0)[21]             : AIC=-3582.515, Time=0.47 sec\n",
      " ARIMA(2,0,3)(1,0,0)[21]             : AIC=-3569.982, Time=2.03 sec\n",
      " ARIMA(2,0,3)(1,0,1)[21]             : AIC=-3578.967, Time=2.60 sec\n",
      " ARIMA(1,0,3)(0,0,0)[21]             : AIC=-3426.106, Time=0.45 sec\n",
      " ARIMA(2,0,2)(0,0,0)[21]             : AIC=-3521.818, Time=0.39 sec\n",
      " ARIMA(3,0,3)(0,0,0)[21]             : AIC=-3607.964, Time=0.68 sec\n",
      " ARIMA(3,0,3)(1,0,0)[21]             : AIC=-3592.912, Time=1.89 sec\n",
      " ARIMA(3,0,3)(0,0,1)[21]             : AIC=-3601.555, Time=1.75 sec\n",
      " ARIMA(3,0,3)(1,0,1)[21]             : AIC=-3593.303, Time=2.05 sec\n",
      " ARIMA(3,0,2)(0,0,0)[21]             : AIC=-3578.361, Time=0.48 sec\n",
      " ARIMA(4,0,3)(0,0,0)[21]             : AIC=-3570.280, Time=0.63 sec\n",
      " ARIMA(3,0,4)(0,0,0)[21]             : AIC=-3586.975, Time=0.64 sec\n",
      " ARIMA(2,0,4)(0,0,0)[21]             : AIC=-3594.835, Time=0.57 sec\n",
      " ARIMA(4,0,2)(0,0,0)[21]             : AIC=-3555.263, Time=0.54 sec\n",
      " ARIMA(4,0,4)(0,0,0)[21]             : AIC=-3602.135, Time=0.68 sec\n",
      " ARIMA(3,0,3)(0,0,0)[21] intercept   : AIC=-3330.147, Time=1.21 sec\n",
      "\n",
      "Best model:  ARIMA(3,0,3)(0,0,0)[21]          \n",
      "Total fit time: 271.931 seconds\n"
     ]
    },
    {
     "data": {
      "text/html": [
       "<table class=\"simpletable\">\n",
       "<caption>SARIMAX Results</caption>\n",
       "<tr>\n",
       "  <th>Dep. Variable:</th>           <td>y</td>        <th>  No. Observations:  </th>    <td>570</td>   \n",
       "</tr>\n",
       "<tr>\n",
       "  <th>Model:</th>           <td>SARIMAX(3, 0, 3)</td> <th>  Log Likelihood     </th> <td>1810.982</td> \n",
       "</tr>\n",
       "<tr>\n",
       "  <th>Date:</th>            <td>Thu, 09 Mar 2023</td> <th>  AIC                </th> <td>-3607.964</td>\n",
       "</tr>\n",
       "<tr>\n",
       "  <th>Time:</th>                <td>18:07:54</td>     <th>  BIC                </th> <td>-3577.545</td>\n",
       "</tr>\n",
       "<tr>\n",
       "  <th>Sample:</th>                  <td>0</td>        <th>  HQIC               </th> <td>-3596.095</td>\n",
       "</tr>\n",
       "<tr>\n",
       "  <th></th>                      <td> - 570</td>      <th>                     </th>     <td> </td>    \n",
       "</tr>\n",
       "<tr>\n",
       "  <th>Covariance Type:</th>        <td>opg</td>       <th>                     </th>     <td> </td>    \n",
       "</tr>\n",
       "</table>\n",
       "<table class=\"simpletable\">\n",
       "<tr>\n",
       "     <td></td>       <th>coef</th>     <th>std err</th>      <th>z</th>      <th>P>|z|</th>  <th>[0.025</th>    <th>0.975]</th>  \n",
       "</tr>\n",
       "<tr>\n",
       "  <th>ar.L1</th>  <td>    2.7575</td> <td>    0.045</td> <td>   61.839</td> <td> 0.000</td> <td>    2.670</td> <td>    2.845</td>\n",
       "</tr>\n",
       "<tr>\n",
       "  <th>ar.L2</th>  <td>   -2.5791</td> <td>    0.086</td> <td>  -30.068</td> <td> 0.000</td> <td>   -2.747</td> <td>   -2.411</td>\n",
       "</tr>\n",
       "<tr>\n",
       "  <th>ar.L3</th>  <td>    0.8212</td> <td>    0.042</td> <td>   19.725</td> <td> 0.000</td> <td>    0.740</td> <td>    0.903</td>\n",
       "</tr>\n",
       "<tr>\n",
       "  <th>ma.L1</th>  <td>   -1.5746</td> <td>    0.063</td> <td>  -24.880</td> <td> 0.000</td> <td>   -1.699</td> <td>   -1.451</td>\n",
       "</tr>\n",
       "<tr>\n",
       "  <th>ma.L2</th>  <td>    0.7102</td> <td>    0.098</td> <td>    7.280</td> <td> 0.000</td> <td>    0.519</td> <td>    0.901</td>\n",
       "</tr>\n",
       "<tr>\n",
       "  <th>ma.L3</th>  <td>    0.0782</td> <td>    0.054</td> <td>    1.443</td> <td> 0.149</td> <td>   -0.028</td> <td>    0.184</td>\n",
       "</tr>\n",
       "<tr>\n",
       "  <th>sigma2</th> <td>    0.0001</td> <td> 4.43e-06</td> <td>   22.688</td> <td> 0.000</td> <td> 9.18e-05</td> <td>    0.000</td>\n",
       "</tr>\n",
       "</table>\n",
       "<table class=\"simpletable\">\n",
       "<tr>\n",
       "  <th>Ljung-Box (L1) (Q):</th>     <td>0.06</td> <th>  Jarque-Bera (JB):  </th> <td>1009.29</td>\n",
       "</tr>\n",
       "<tr>\n",
       "  <th>Prob(Q):</th>                <td>0.81</td> <th>  Prob(JB):          </th>  <td>0.00</td>  \n",
       "</tr>\n",
       "<tr>\n",
       "  <th>Heteroskedasticity (H):</th> <td>0.31</td> <th>  Skew:              </th>  <td>-0.44</td> \n",
       "</tr>\n",
       "<tr>\n",
       "  <th>Prob(H) (two-sided):</th>    <td>0.00</td> <th>  Kurtosis:          </th>  <td>9.46</td>  \n",
       "</tr>\n",
       "</table><br/><br/>Warnings:<br/>[1] Covariance matrix calculated using the outer product of gradients (complex-step)."
      ],
      "text/plain": [
       "<class 'statsmodels.iolib.summary.Summary'>\n",
       "\"\"\"\n",
       "                               SARIMAX Results                                \n",
       "==============================================================================\n",
       "Dep. Variable:                      y   No. Observations:                  570\n",
       "Model:               SARIMAX(3, 0, 3)   Log Likelihood                1810.982\n",
       "Date:                Thu, 09 Mar 2023   AIC                          -3607.964\n",
       "Time:                        18:07:54   BIC                          -3577.545\n",
       "Sample:                             0   HQIC                         -3596.095\n",
       "                                - 570                                         \n",
       "Covariance Type:                  opg                                         \n",
       "==============================================================================\n",
       "                 coef    std err          z      P>|z|      [0.025      0.975]\n",
       "------------------------------------------------------------------------------\n",
       "ar.L1          2.7575      0.045     61.839      0.000       2.670       2.845\n",
       "ar.L2         -2.5791      0.086    -30.068      0.000      -2.747      -2.411\n",
       "ar.L3          0.8212      0.042     19.725      0.000       0.740       0.903\n",
       "ma.L1         -1.5746      0.063    -24.880      0.000      -1.699      -1.451\n",
       "ma.L2          0.7102      0.098      7.280      0.000       0.519       0.901\n",
       "ma.L3          0.0782      0.054      1.443      0.149      -0.028       0.184\n",
       "sigma2         0.0001   4.43e-06     22.688      0.000    9.18e-05       0.000\n",
       "===================================================================================\n",
       "Ljung-Box (L1) (Q):                   0.06   Jarque-Bera (JB):              1009.29\n",
       "Prob(Q):                              0.81   Prob(JB):                         0.00\n",
       "Heteroskedasticity (H):               0.31   Skew:                            -0.44\n",
       "Prob(H) (two-sided):                  0.00   Kurtosis:                         9.46\n",
       "===================================================================================\n",
       "\n",
       "Warnings:\n",
       "[1] Covariance matrix calculated using the outer product of gradients (complex-step).\n",
       "\"\"\""
      ]
     },
     "execution_count": 158,
     "metadata": {},
     "output_type": "execute_result"
    }
   ],
   "source": [
    "############## NO SPIKES / DEEPS ##################\n",
    "auto_arima(df[\"values\"][:len(df)-100], m=21,trace=True, seasonal=True).summary()"
   ]
  },
  {
   "cell_type": "code",
   "execution_count": null,
   "metadata": {},
   "outputs": [],
   "source": [
    "\"\"\"for i in range(100):\n",
    "    index = 100 - i\n",
    "    if data[\"values\"][len(df)-index:][0] == 0:\n",
    "       data[\"values\"][len(df)-index:][0] = data[\"values\"][len(df)-index-17:][0]\n",
    "       print(data[\"values\"][len(df)-index-17:][0])\n",
    "\"\"\""
   ]
  },
  {
   "cell_type": "code",
   "execution_count": 96,
   "metadata": {},
   "outputs": [],
   "source": [
    "df.to_csv(\"1.csv\")"
   ]
  },
  {
   "cell_type": "code",
   "execution_count": 320,
   "metadata": {},
   "outputs": [
    {
     "name": "stderr",
     "output_type": "stream",
     "text": [
      "c:\\Users\\mosac\\anaconda3\\lib\\site-packages\\statsmodels\\tsa\\statespace\\sarimax.py:966: UserWarning: Non-stationary starting autoregressive parameters found. Using zeros as starting parameters.\n",
      "  warn('Non-stationary starting autoregressive parameters'\n"
     ]
    }
   ],
   "source": [
    "############## NO SPIKES / DEEPS ##################\n",
    "train_df = df.iloc[:len(df)-100]\n",
    "test_df = df.iloc[len(df)-100:]\n",
    "model = SARIMAX(train_df[\"values\"], order=(70, 1, 1))\n",
    "res = model.fit()\n",
    "start = len(train_df)\n",
    "end = len(train_df) + len(test_df) -1\n",
    "prediction = res.predict(start, end).rename(\"prediction\")\n",
    "ax = df[\"values\"].plot(legend=True,figsize=(16,8))\n",
    "prediction.plot(legend=True)\n"
   ]
  },
  {
   "cell_type": "code",
   "execution_count": 329,
   "metadata": {},
   "outputs": [
    {
     "name": "stdout",
     "output_type": "stream",
     "text": [
      "0.6427576846799165\n"
     ]
    }
   ],
   "source": [
    "############## NO SPIKES / DEEPS ##################\n",
    "from statsmodels.tools.eval_measures import rmse\n",
    "accuracy_no_deeps = 1- rmse(test_df[\"values\"], prediction)\n",
    "print(accuracy_no_deeps)"
   ]
  },
  {
   "cell_type": "code",
   "execution_count": 269,
   "metadata": {},
   "outputs": [
    {
     "name": "stdout",
     "output_type": "stream",
     "text": [
      "Performing stepwise search to minimize aic\n",
      " ARIMA(2,0,2)(0,0,0)[0] intercept   : AIC=-1769.123, Time=0.59 sec\n",
      " ARIMA(0,0,0)(0,0,0)[0] intercept   : AIC=-567.943, Time=0.07 sec\n",
      " ARIMA(1,0,0)(0,0,0)[0] intercept   : AIC=-1695.878, Time=0.05 sec\n",
      " ARIMA(0,0,1)(0,0,0)[0] intercept   : AIC=-1012.066, Time=0.27 sec\n",
      " ARIMA(0,0,0)(0,0,0)[0]             : AIC=331.628, Time=0.03 sec\n",
      " ARIMA(1,0,2)(0,0,0)[0] intercept   : AIC=-1781.975, Time=0.34 sec\n",
      " ARIMA(0,0,2)(0,0,0)[0] intercept   : AIC=-1295.928, Time=0.20 sec\n",
      " ARIMA(1,0,1)(0,0,0)[0] intercept   : AIC=-1770.561, Time=0.28 sec\n",
      " ARIMA(1,0,3)(0,0,0)[0] intercept   : AIC=-1823.179, Time=0.38 sec\n",
      " ARIMA(0,0,3)(0,0,0)[0] intercept   : AIC=inf, Time=0.45 sec\n",
      " ARIMA(2,0,3)(0,0,0)[0] intercept   : AIC=inf, Time=1.01 sec\n",
      " ARIMA(1,0,4)(0,0,0)[0] intercept   : AIC=-1857.999, Time=0.52 sec\n",
      " ARIMA(0,0,4)(0,0,0)[0] intercept   : AIC=-1575.606, Time=0.50 sec\n",
      " ARIMA(2,0,4)(0,0,0)[0] intercept   : AIC=inf, Time=1.16 sec\n",
      " ARIMA(1,0,5)(0,0,0)[0] intercept   : AIC=-1869.049, Time=0.67 sec\n",
      " ARIMA(0,0,5)(0,0,0)[0] intercept   : AIC=-1671.846, Time=0.65 sec\n",
      " ARIMA(2,0,5)(0,0,0)[0] intercept   : AIC=inf, Time=0.92 sec\n",
      " ARIMA(1,0,5)(0,0,0)[0]             : AIC=-1859.729, Time=0.39 sec\n",
      "\n",
      "Best model:  ARIMA(1,0,5)(0,0,0)[0] intercept\n",
      "Total fit time: 8.480 seconds\n"
     ]
    },
    {
     "data": {
      "text/html": [
       "<table class=\"simpletable\">\n",
       "<caption>SARIMAX Results</caption>\n",
       "<tr>\n",
       "  <th>Dep. Variable:</th>           <td>y</td>        <th>  No. Observations:  </th>    <td>375</td>   \n",
       "</tr>\n",
       "<tr>\n",
       "  <th>Model:</th>           <td>SARIMAX(1, 0, 5)</td> <th>  Log Likelihood     </th>  <td>942.525</td> \n",
       "</tr>\n",
       "<tr>\n",
       "  <th>Date:</th>            <td>Thu, 09 Mar 2023</td> <th>  AIC                </th> <td>-1869.049</td>\n",
       "</tr>\n",
       "<tr>\n",
       "  <th>Time:</th>                <td>14:50:20</td>     <th>  BIC                </th> <td>-1837.634</td>\n",
       "</tr>\n",
       "<tr>\n",
       "  <th>Sample:</th>                  <td>0</td>        <th>  HQIC               </th> <td>-1856.577</td>\n",
       "</tr>\n",
       "<tr>\n",
       "  <th></th>                      <td> - 375</td>      <th>                     </th>     <td> </td>    \n",
       "</tr>\n",
       "<tr>\n",
       "  <th>Covariance Type:</th>        <td>opg</td>       <th>                     </th>     <td> </td>    \n",
       "</tr>\n",
       "</table>\n",
       "<table class=\"simpletable\">\n",
       "<tr>\n",
       "      <td></td>         <th>coef</th>     <th>std err</th>      <th>z</th>      <th>P>|z|</th>  <th>[0.025</th>    <th>0.975]</th>  \n",
       "</tr>\n",
       "<tr>\n",
       "  <th>intercept</th> <td>    0.0149</td> <td>    0.013</td> <td>    1.175</td> <td> 0.240</td> <td>   -0.010</td> <td>    0.040</td>\n",
       "</tr>\n",
       "<tr>\n",
       "  <th>ar.L1</th>     <td>    0.9559</td> <td>    0.032</td> <td>   30.154</td> <td> 0.000</td> <td>    0.894</td> <td>    1.018</td>\n",
       "</tr>\n",
       "<tr>\n",
       "  <th>ma.L1</th>     <td>    0.2676</td> <td>    0.108</td> <td>    2.488</td> <td> 0.013</td> <td>    0.057</td> <td>    0.478</td>\n",
       "</tr>\n",
       "<tr>\n",
       "  <th>ma.L2</th>     <td>    0.2343</td> <td>    0.067</td> <td>    3.495</td> <td> 0.000</td> <td>    0.103</td> <td>    0.366</td>\n",
       "</tr>\n",
       "<tr>\n",
       "  <th>ma.L3</th>     <td>    0.3576</td> <td>    0.048</td> <td>    7.522</td> <td> 0.000</td> <td>    0.264</td> <td>    0.451</td>\n",
       "</tr>\n",
       "<tr>\n",
       "  <th>ma.L4</th>     <td>    0.3231</td> <td>    0.062</td> <td>    5.223</td> <td> 0.000</td> <td>    0.202</td> <td>    0.444</td>\n",
       "</tr>\n",
       "<tr>\n",
       "  <th>ma.L5</th>     <td>    0.1514</td> <td>    0.085</td> <td>    1.786</td> <td> 0.074</td> <td>   -0.015</td> <td>    0.318</td>\n",
       "</tr>\n",
       "<tr>\n",
       "  <th>sigma2</th>    <td>    0.0004</td> <td> 1.24e-05</td> <td>   30.066</td> <td> 0.000</td> <td>    0.000</td> <td>    0.000</td>\n",
       "</tr>\n",
       "</table>\n",
       "<table class=\"simpletable\">\n",
       "<tr>\n",
       "  <th>Ljung-Box (L1) (Q):</th>     <td>0.46</td> <th>  Jarque-Bera (JB):  </th> <td>9920.20</td>\n",
       "</tr>\n",
       "<tr>\n",
       "  <th>Prob(Q):</th>                <td>0.50</td> <th>  Prob(JB):          </th>  <td>0.00</td>  \n",
       "</tr>\n",
       "<tr>\n",
       "  <th>Heteroskedasticity (H):</th> <td>0.80</td> <th>  Skew:              </th>  <td>2.74</td>  \n",
       "</tr>\n",
       "<tr>\n",
       "  <th>Prob(H) (two-sided):</th>    <td>0.21</td> <th>  Kurtosis:          </th>  <td>27.60</td> \n",
       "</tr>\n",
       "</table><br/><br/>Warnings:<br/>[1] Covariance matrix calculated using the outer product of gradients (complex-step)."
      ],
      "text/plain": [
       "<class 'statsmodels.iolib.summary.Summary'>\n",
       "\"\"\"\n",
       "                               SARIMAX Results                                \n",
       "==============================================================================\n",
       "Dep. Variable:                      y   No. Observations:                  375\n",
       "Model:               SARIMAX(1, 0, 5)   Log Likelihood                 942.525\n",
       "Date:                Thu, 09 Mar 2023   AIC                          -1869.049\n",
       "Time:                        14:50:20   BIC                          -1837.634\n",
       "Sample:                             0   HQIC                         -1856.577\n",
       "                                - 375                                         \n",
       "Covariance Type:                  opg                                         \n",
       "==============================================================================\n",
       "                 coef    std err          z      P>|z|      [0.025      0.975]\n",
       "------------------------------------------------------------------------------\n",
       "intercept      0.0149      0.013      1.175      0.240      -0.010       0.040\n",
       "ar.L1          0.9559      0.032     30.154      0.000       0.894       1.018\n",
       "ma.L1          0.2676      0.108      2.488      0.013       0.057       0.478\n",
       "ma.L2          0.2343      0.067      3.495      0.000       0.103       0.366\n",
       "ma.L3          0.3576      0.048      7.522      0.000       0.264       0.451\n",
       "ma.L4          0.3231      0.062      5.223      0.000       0.202       0.444\n",
       "ma.L5          0.1514      0.085      1.786      0.074      -0.015       0.318\n",
       "sigma2         0.0004   1.24e-05     30.066      0.000       0.000       0.000\n",
       "===================================================================================\n",
       "Ljung-Box (L1) (Q):                   0.46   Jarque-Bera (JB):              9920.20\n",
       "Prob(Q):                              0.50   Prob(JB):                         0.00\n",
       "Heteroskedasticity (H):               0.80   Skew:                             2.74\n",
       "Prob(H) (two-sided):                  0.21   Kurtosis:                        27.60\n",
       "===================================================================================\n",
       "\n",
       "Warnings:\n",
       "[1] Covariance matrix calculated using the outer product of gradients (complex-step).\n",
       "\"\"\""
      ]
     },
     "execution_count": 269,
     "metadata": {},
     "output_type": "execute_result"
    }
   ],
   "source": [
    "############## WITH SPIKES / DEEPS ##################\n",
    "auto_arima(df[\"values\"][:len(df)-100], exogenous=df[\"spike/deep\"], seasonal=True , start_q=0,max_q= 1, trace  =True).summary()"
   ]
  },
  {
   "cell_type": "code",
   "execution_count": 377,
   "metadata": {},
   "outputs": [
    {
     "name": "stderr",
     "output_type": "stream",
     "text": [
      "c:\\Users\\mosac\\anaconda3\\lib\\site-packages\\statsmodels\\base\\model.py:604: ConvergenceWarning: Maximum Likelihood optimization failed to converge. Check mle_retvals\n",
      "  warnings.warn(\"Maximum Likelihood optimization failed to \"\n"
     ]
    },
    {
     "data": {
      "text/plain": [
       "<AxesSubplot:>"
      ]
     },
     "execution_count": 377,
     "metadata": {},
     "output_type": "execute_result"
    }
   ],
   "source": [
    "############## WITH SPIKES / DEEPS ##################\n",
    "train_df = df.iloc[:len(df)-100]\n",
    "test_df = df.iloc[len(df)-100:] \n",
    "model = SARIMAX(endog=train_df[\"values\"], order=(30,1, 0), exog=train_df[\"spike/deep\"])\n",
    "res = model.fit()\n",
    "start = len(train_df)\n",
    "end = len(train_df) + len(test_df) -1\n",
    "prediction = res.predict(start, end,exog = test_df[\"spike/deep\"]).rename(\"prediction\")\n",
    "ax = df[\"values\"].plot(legend=True,figsize=(16,8))\n",
    "prediction.plot(legend=True)"
   ]
  },
  {
   "cell_type": "code",
   "execution_count": null,
   "metadata": {},
   "outputs": [],
   "source": [
    "############## WITH SPIKES / DEEPS ##################\n",
    "\n",
    "# Need to make sure to truncate it in the right place\n",
    "#prediction"
   ]
  },
  {
   "cell_type": "code",
   "execution_count": 99,
   "metadata": {},
   "outputs": [
    {
     "name": "stdout",
     "output_type": "stream",
     "text": [
      "0.9173200783498131\n"
     ]
    }
   ],
   "source": [
    "############## WITH SPIKES / DEEPS ##################\n",
    "accuracy = 1- rmse(test_df[\"values\"], prediction)\n",
    "print(accuracy)"
   ]
  },
  {
   "cell_type": "code",
   "execution_count": 75,
   "metadata": {},
   "outputs": [],
   "source": [
    "# Old Version Of \"calculate_decay_rate()\"\n",
    "def calculate_decay_rate(df):\n",
    "    decay = []\n",
    "    #average decay rate\n",
    "    for i in range(1,len(df) -1 ):\n",
    "        x1 = df[\"spike/deep\"][i]\n",
    "        x2 = df[\"spike/deep\"][i+1]\n",
    "        if (x1 == 1) and (x2 == 0):\n",
    "            x1_index = i\n",
    "        elif (x1 == 0)  and (x2 == 1):\n",
    "            decay.append(x1_index/i)\n",
    "    decay.append(1)\n",
    "    return decay\n"
   ]
  },
  {
   "cell_type": "code",
   "execution_count": 265,
   "metadata": {},
   "outputs": [],
   "source": [
    "def insert_missing_rows(df,lead):\n",
    "    for i in range(lead):\n",
    "        d = datetime.strptime(df[\"dates\"][-1], \"%H:%M:%S:%f\")\n",
    "        sum = d + timedelta(seconds=1)\n",
    "        df[\"dates\"].append(datetime.strftime(sum,\"%H:%M:%S:%f\"))\n",
    "        df[\"values\"].append(0)\n",
    "    return df\n"
   ]
  },
  {
   "cell_type": "code",
   "execution_count": 266,
   "metadata": {},
   "outputs": [],
   "source": [
    "#New Verson Of calculate_decay_rate()\n",
    "def calculate_decay_rate(df,lead):\n",
    "    decay = {\"dates\" : [],\n",
    "            \"values\" : []\n",
    "        }\n",
    "    #average decay rate\n",
    "    for i in range(1,len(df) -1 ):\n",
    "        x1 = df[\"spike/deep\"][i]\n",
    "        x2 = df[\"spike/deep\"][i+1]\n",
    "        if (x1 == 1) and (x2 == 0):\n",
    "            x1_index = i\n",
    "        elif (x1 == 0)  and (x2 == 1):\n",
    "            if len(decay[\"dates\"]) == 0:\n",
    "                decay[\"dates\"].append(datetime.today().strftime(\"%H:%M:%S:%f\"))\n",
    "                decay[\"values\"].append(x1_index/i)\n",
    "            else:\n",
    "                d = datetime.strptime(decay[\"dates\"][-1], \"%H:%M:%S:%f\")\n",
    "                sum = d + timedelta(seconds=1)\n",
    "                decay[\"dates\"].append(datetime.strftime(sum,\"%H:%M:%S:%f\"))\n",
    "                decay[\"values\"].append(x1_index/i)\n",
    "\n",
    "    return decay\n"
   ]
  },
  {
   "cell_type": "code",
   "execution_count": 267,
   "metadata": {},
   "outputs": [],
   "source": [
    "def add_sec(date):\n",
    "    d = datetime.strptime(date, \"%H:%M:%S:%f\")\n",
    "    return d + timedelta(seconds=1)\n"
   ]
  },
  {
   "cell_type": "code",
   "execution_count": 268,
   "metadata": {},
   "outputs": [],
   "source": [
    "def add_points(df,lead):\n",
    "    new = {\"dates\" : [],\n",
    "            \"values\" : []\n",
    "        }\n",
    "    for i in range(len(df)-1):\n",
    "        x1 = df[i]      #left\n",
    "        x2 = df[i+1]    #right\n",
    "        m = (x1+x2)/2   #middle\n",
    "        lm = (x1+m)/2   #left_middle\n",
    "        rm = (m+x2)/2   #right_middle\n",
    "        if len(new[\"dates\"]) == 0:\n",
    "            new[\"dates\"].append(datetime.today().strftime(\"%H:%M:%S:%f\"))\n",
    "            new[\"values\"].append(x1)\n",
    "            new[\"dates\"].append(datetime.strftime(add_sec(new[\"dates\"][-1]),\"%H:%M:%S:%f\"))\n",
    "            new[\"values\"].append(lm)\n",
    "            new[\"dates\"].append(datetime.strftime(add_sec(new[\"dates\"][-1]),\"%H:%M:%S:%f\"))\n",
    "            new[\"values\"].append(m)\n",
    "            new[\"dates\"].append(datetime.strftime(add_sec(new[\"dates\"][-1]),\"%H:%M:%S:%f\"))\n",
    "            new[\"values\"].append(rm)\n",
    "            new[\"dates\"].append(datetime.strftime(add_sec(new[\"dates\"][-1]),\"%H:%M:%S:%f\"))\n",
    "            new[\"values\"].append(x2)\n",
    "        else:\n",
    "            new[\"dates\"].append(datetime.strftime(add_sec(new[\"dates\"][-1]),\"%H:%M:%S:%f\"))\n",
    "            new[\"values\"].append(lm)\n",
    "            new[\"dates\"].append(datetime.strftime(add_sec(new[\"dates\"][-1]),\"%H:%M:%S:%f\"))\n",
    "            new[\"values\"].append(m)\n",
    "            new[\"dates\"].append(datetime.strftime(add_sec(new[\"dates\"][-1]),\"%H:%M:%S:%f\"))\n",
    "            new[\"values\"].append(rm)\n",
    "            new[\"dates\"].append(datetime.strftime(add_sec(new[\"dates\"][-1]),\"%H:%M:%S:%f\"))\n",
    "            new[\"values\"].append(x2)\n",
    "\n",
    "\n",
    "\n",
    "    return insert_missing_rows(new,lead)\n",
    "\n",
    "            "
   ]
  },
  {
   "cell_type": "code",
   "execution_count": 293,
   "metadata": {},
   "outputs": [],
   "source": [
    "lead = 10\n",
    "res = calculate_decay_rate(df,lead)\n",
    "res_df = pd.DataFrame(data = res)\n",
    "new = add_points(res_df[\"values\"],lead)\n",
    "new_res_df = pd.DataFrame(data = new)\n",
    "\n",
    "ax = new_res_df[5:].plot(legend=True,figsize=(16,8))\n",
    "ax.set_xlim([5,len(new_res_df)-lead])\n",
    "\n",
    "res_df = new_res_df"
   ]
  },
  {
   "cell_type": "code",
   "execution_count": 294,
   "metadata": {},
   "outputs": [
    {
     "data": {
      "text/html": [
       "<table class=\"simpletable\">\n",
       "<caption>SARIMAX Results</caption>\n",
       "<tr>\n",
       "  <th>Dep. Variable:</th>           <td>y</td>        <th>  No. Observations:  </th>   <td>16</td>   \n",
       "</tr>\n",
       "<tr>\n",
       "  <th>Model:</th>           <td>SARIMAX(0, 2, 0)</td> <th>  Log Likelihood     </th> <td>32.424</td> \n",
       "</tr>\n",
       "<tr>\n",
       "  <th>Date:</th>            <td>Fri, 10 Mar 2023</td> <th>  AIC                </th> <td>-60.849</td>\n",
       "</tr>\n",
       "<tr>\n",
       "  <th>Time:</th>                <td>15:44:45</td>     <th>  BIC                </th> <td>-59.571</td>\n",
       "</tr>\n",
       "<tr>\n",
       "  <th>Sample:</th>                  <td>0</td>        <th>  HQIC               </th> <td>-60.967</td>\n",
       "</tr>\n",
       "<tr>\n",
       "  <th></th>                       <td> - 16</td>      <th>                     </th>    <td> </td>   \n",
       "</tr>\n",
       "<tr>\n",
       "  <th>Covariance Type:</th>        <td>opg</td>       <th>                     </th>    <td> </td>   \n",
       "</tr>\n",
       "</table>\n",
       "<table class=\"simpletable\">\n",
       "<tr>\n",
       "     <td></td>       <th>coef</th>     <th>std err</th>      <th>z</th>      <th>P>|z|</th>  <th>[0.025</th>    <th>0.975]</th>  \n",
       "</tr>\n",
       "<tr>\n",
       "  <th>drift</th>  <td>   -0.0005</td> <td>    0.002</td> <td>   -0.245</td> <td> 0.806</td> <td>   -0.005</td> <td>    0.004</td>\n",
       "</tr>\n",
       "<tr>\n",
       "  <th>sigma2</th> <td>    0.0006</td> <td>    0.000</td> <td>    3.649</td> <td> 0.000</td> <td>    0.000</td> <td>    0.001</td>\n",
       "</tr>\n",
       "</table>\n",
       "<table class=\"simpletable\">\n",
       "<tr>\n",
       "  <th>Ljung-Box (L1) (Q):</th>     <td>0.11</td> <th>  Jarque-Bera (JB):  </th> <td>55.77</td>\n",
       "</tr>\n",
       "<tr>\n",
       "  <th>Prob(Q):</th>                <td>0.75</td> <th>  Prob(JB):          </th> <td>0.00</td> \n",
       "</tr>\n",
       "<tr>\n",
       "  <th>Heteroskedasticity (H):</th> <td>0.06</td> <th>  Skew:              </th> <td>-3.02</td>\n",
       "</tr>\n",
       "<tr>\n",
       "  <th>Prob(H) (two-sided):</th>    <td>0.01</td> <th>  Kurtosis:          </th> <td>10.69</td>\n",
       "</tr>\n",
       "</table><br/><br/>Warnings:<br/>[1] Covariance matrix calculated using the outer product of gradients (complex-step)."
      ],
      "text/plain": [
       "<class 'statsmodels.iolib.summary.Summary'>\n",
       "\"\"\"\n",
       "                               SARIMAX Results                                \n",
       "==============================================================================\n",
       "Dep. Variable:                      y   No. Observations:                   16\n",
       "Model:               SARIMAX(0, 2, 0)   Log Likelihood                  32.424\n",
       "Date:                Fri, 10 Mar 2023   AIC                            -60.849\n",
       "Time:                        15:44:45   BIC                            -59.571\n",
       "Sample:                             0   HQIC                           -60.967\n",
       "                                 - 16                                         \n",
       "Covariance Type:                  opg                                         \n",
       "==============================================================================\n",
       "                 coef    std err          z      P>|z|      [0.025      0.975]\n",
       "------------------------------------------------------------------------------\n",
       "drift         -0.0005      0.002     -0.245      0.806      -0.005       0.004\n",
       "sigma2         0.0006      0.000      3.649      0.000       0.000       0.001\n",
       "===================================================================================\n",
       "Ljung-Box (L1) (Q):                   0.11   Jarque-Bera (JB):                55.77\n",
       "Prob(Q):                              0.75   Prob(JB):                         0.00\n",
       "Heteroskedasticity (H):               0.06   Skew:                            -3.02\n",
       "Prob(H) (two-sided):                  0.01   Kurtosis:                        10.69\n",
       "===================================================================================\n",
       "\n",
       "Warnings:\n",
       "[1] Covariance matrix calculated using the outer product of gradients (complex-step).\n",
       "\"\"\""
      ]
     },
     "execution_count": 294,
     "metadata": {},
     "output_type": "execute_result"
    }
   ],
   "source": [
    "#Auto Arima To the dacay list\n",
    "train = res_df[1:-lead]\n",
    "test = res_df[-lead:]\n",
    "\n",
    "trend = []\n",
    "for i in range(lead -1):\n",
    "    trend.append(lead -1 -i)\n",
    "\n",
    "auto_arima(train[\"values\"], exogenous = trend,trend=\"t\").summary()"
   ]
  },
  {
   "cell_type": "code",
   "execution_count": 308,
   "metadata": {},
   "outputs": [
    {
     "data": {
      "text/plain": [
       "'\\n# summary stats of residuals\\nprint(residuals.describe())\\n'"
      ]
     },
     "execution_count": 308,
     "metadata": {},
     "output_type": "execute_result"
    }
   ],
   "source": [
    "from matplotlib import pyplot\n",
    "\n",
    "model = SARIMAX(endog=train[\"values\"], order=(0,2,0))\n",
    "model_fit = model.fit()\n",
    "\n",
    "start = len(train[\"values\"])\n",
    "end = len(train[\"values\"]) + lead\n",
    "prediction = model_fit.predict(start, end,exog=trend).rename(\"prediction\")\n",
    "\n",
    "ax = res_df[\"values\"][1:].plot(legend=True,figsize=(16,8))\n",
    "prediction.plot(legend=True)\n",
    "\n",
    "\"\"\"\n",
    "# summary of fit model\n",
    "print(model_fit.summary())\n",
    "\"\"\"\n",
    "# line plot of residuals\n",
    "residuals = pd.DataFrame(model_fit.resid)\n",
    "residuals.plot()\n",
    "\n",
    "# density plot of residuals\n",
    "residuals.plot(kind='kde')\n",
    "pyplot.show()\n",
    "\"\"\"\n",
    "# summary stats of residuals\n",
    "print(residuals.describe())\n",
    "\"\"\""
   ]
  },
  {
   "cell_type": "code",
   "execution_count": 317,
   "metadata": {},
   "outputs": [
    {
     "data": {
      "text/plain": [
       "326    0.793585\n",
       "327    0.787470\n",
       "328    0.775807\n",
       "329    0.762779\n",
       "330    0.760147\n",
       "         ...   \n",
       "421    0.623270\n",
       "422    0.629562\n",
       "423    0.638377\n",
       "424    0.646955\n",
       "425    0.656525\n",
       "Name: prediction, Length: 100, dtype: float64"
      ]
     },
     "execution_count": 317,
     "metadata": {},
     "output_type": "execute_result"
    }
   ],
   "source": [
    "prediction"
   ]
  }
 ],
 "metadata": {
  "kernelspec": {
   "display_name": "base",
   "language": "python",
   "name": "python3"
  },
  "language_info": {
   "codemirror_mode": {
    "name": "ipython",
    "version": 3
   },
   "file_extension": ".py",
   "mimetype": "text/x-python",
   "name": "python",
   "nbconvert_exporter": "python",
   "pygments_lexer": "ipython3",
   "version": "3.9.13"
  },
  "orig_nbformat": 4,
  "vscode": {
   "interpreter": {
    "hash": "f5b67c9e65e85b062b109a88586b2b67e0addb02b929eef4fdc3d6408875abdd"
   }
  }
 },
 "nbformat": 4,
 "nbformat_minor": 2
}
