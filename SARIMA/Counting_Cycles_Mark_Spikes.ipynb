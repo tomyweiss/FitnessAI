{
 "cells": [
  {
   "cell_type": "code",
   "execution_count": 37,
   "metadata": {},
   "outputs": [
    {
     "name": "stdout",
     "output_type": "stream",
     "text": [
      "Collecting pmdarima\n",
      "  Downloading pmdarima-2.0.2-cp39-cp39-win_amd64.whl (572 kB)\n",
      "     ------------------------------------ 572.0/572.0 kB 642.0 kB/s eta 0:00:00\n",
      "Requirement already satisfied: scikit-learn>=0.22 in c:\\users\\mosac\\anaconda3\\lib\\site-packages (from pmdarima) (1.0.2)\n",
      "Requirement already satisfied: urllib3 in c:\\users\\mosac\\anaconda3\\lib\\site-packages (from pmdarima) (1.26.11)\n",
      "Requirement already satisfied: Cython!=0.29.18,!=0.29.31,>=0.29 in c:\\users\\mosac\\anaconda3\\lib\\site-packages (from pmdarima) (0.29.32)\n",
      "Requirement already satisfied: setuptools!=50.0.0,>=38.6.0 in c:\\users\\mosac\\anaconda3\\lib\\site-packages (from pmdarima) (63.4.1)\n",
      "Requirement already satisfied: pandas>=0.19 in c:\\users\\mosac\\anaconda3\\lib\\site-packages (from pmdarima) (1.4.4)\n",
      "Requirement already satisfied: numpy>=1.21.2 in c:\\users\\mosac\\anaconda3\\lib\\site-packages (from pmdarima) (1.21.5)\n",
      "Requirement already satisfied: statsmodels>=0.13.2 in c:\\users\\mosac\\anaconda3\\lib\\site-packages (from pmdarima) (0.13.2)\n",
      "Requirement already satisfied: joblib>=0.11 in c:\\users\\mosac\\anaconda3\\lib\\site-packages (from pmdarima) (1.1.0)\n",
      "Requirement already satisfied: scipy>=1.3.2 in c:\\users\\mosac\\anaconda3\\lib\\site-packages (from pmdarima) (1.9.1)\n",
      "Requirement already satisfied: pytz>=2020.1 in c:\\users\\mosac\\anaconda3\\lib\\site-packages (from pandas>=0.19->pmdarima) (2022.1)\n",
      "Requirement already satisfied: python-dateutil>=2.8.1 in c:\\users\\mosac\\anaconda3\\lib\\site-packages (from pandas>=0.19->pmdarima) (2.8.2)\n",
      "Requirement already satisfied: threadpoolctl>=2.0.0 in c:\\users\\mosac\\anaconda3\\lib\\site-packages (from scikit-learn>=0.22->pmdarima) (2.2.0)\n",
      "Requirement already satisfied: patsy>=0.5.2 in c:\\users\\mosac\\anaconda3\\lib\\site-packages (from statsmodels>=0.13.2->pmdarima) (0.5.2)\n",
      "Requirement already satisfied: packaging>=21.3 in c:\\users\\mosac\\anaconda3\\lib\\site-packages (from statsmodels>=0.13.2->pmdarima) (21.3)\n",
      "Requirement already satisfied: pyparsing!=3.0.5,>=2.0.2 in c:\\users\\mosac\\anaconda3\\lib\\site-packages (from packaging>=21.3->statsmodels>=0.13.2->pmdarima) (3.0.9)\n",
      "Requirement already satisfied: six in c:\\users\\mosac\\anaconda3\\lib\\site-packages (from patsy>=0.5.2->statsmodels>=0.13.2->pmdarima) (1.16.0)\n",
      "Installing collected packages: pmdarima\n",
      "Successfully installed pmdarima-2.0.2\n",
      "Note: you may need to restart the kernel to use updated packages.\n"
     ]
    }
   ],
   "source": [
    "%pip install pmdarima"
   ]
  },
  {
   "cell_type": "code",
   "execution_count": 126,
   "metadata": {},
   "outputs": [],
   "source": [
    "import mediapipe as mp\n",
    "import cv2\n",
    "import numpy as np\n",
    "from  matplotlib import pyplot as plt\n",
    "import matplotlib.image as mpimg\n",
    "import pandas as pd\n",
    "mp_drawing = mp.solutions.drawing_utils\n",
    "mp_pose = mp.solutions.pose\n",
    "from datetime import datetime\n",
    "import pandas as pd\n",
    "import statsmodels.api as sm\n",
    "from sklearn.model_selection import train_test_split \n",
    "from statsmodels.tsa.statespace.sarimax import SARIMAX\n",
    "from pmdarima import auto_arima\n",
    "from statsmodels.tsa.seasonal import seasonal_decompose\n",
    "from datetime import timedelta"
   ]
  },
  {
   "cell_type": "code",
   "execution_count": 10,
   "metadata": {},
   "outputs": [],
   "source": [
    "def calculate_angle(a,b,c):\n",
    "    a = np.array(a) # First\n",
    "    b = np.array(b) # Mid\n",
    "    c = np.array(c) # End\n",
    "    \n",
    "    radians = np.arctan2(c[1]-b[1], c[0]-b[0]) - np.arctan2(a[1]-b[1], a[0]-b[0])\n",
    "    angle = np.abs(radians*180.0/np.pi)\n",
    "    \n",
    "    if angle >180.0:\n",
    "        angle = 360-angle\n",
    "        \n",
    "    return angle "
   ]
  },
  {
   "cell_type": "code",
   "execution_count": 399,
   "metadata": {},
   "outputs": [],
   "source": [
    "data = {\"dates\" : [],\n",
    "        \"values\" : [],\n",
    "        \"spike/deep\": []\n",
    "        }\n",
    "\n",
    "cap = cv2.VideoCapture(0)\n",
    "with mp_pose.Pose(min_detection_confidence=0.5, min_tracking_confidence=0.5) as pose:\n",
    "    counter = 0\n",
    "    iter = 0\n",
    "    while cap.isOpened():\n",
    "        ret, frame = cap.read()\n",
    "\n",
    "        image = cv2.cvtColor(frame, cv2.COLOR_BGR2RGB)\n",
    "        image.flags.writeable = False\n",
    "      \n",
    "        results = pose.process(image)\n",
    "\n",
    "        image.flags.writeable = True\n",
    "        image = cv2.cvtColor(image, cv2.COLOR_RGB2BGR)\n",
    "\n",
    "        #Extract landmarks\n",
    "        try:\n",
    "            landmarks = results.pose_landmarks.landmark\n",
    "        except:\n",
    "            pass\n",
    "\n",
    "\n",
    "        mp_drawing.draw_landmarks(image, results.pose_landmarks, mp_pose.POSE_CONNECTIONS,\n",
    "                                mp_drawing.DrawingSpec(color=(245,117,66), thickness=2, circle_radius=2), \n",
    "                                mp_drawing.DrawingSpec(color=(245,66,230), thickness=2, circle_radius=2) \n",
    "                                 )\n",
    "\n",
    "\n",
    "        # Get coordinates\n",
    "        R_hip = [landmarks[mp_pose.PoseLandmark.RIGHT_HIP.value].x,landmarks[mp_pose.PoseLandmark.RIGHT_HIP.value].y]\n",
    "        R_knee = [landmarks[mp_pose.PoseLandmark.RIGHT_KNEE.value].x,landmarks[mp_pose.PoseLandmark.RIGHT_KNEE.value].y]\n",
    "        R_ankle = [landmarks[mp_pose.PoseLandmark.RIGHT_ANKLE.value].x,landmarks[mp_pose.PoseLandmark.RIGHT_ANKLE.value].y]\n",
    "        #Visibility Extraction\n",
    "        R_V = landmarks[mp_pose.PoseLandmark.RIGHT_HIP.value].visibility + landmarks[mp_pose.PoseLandmark.RIGHT_KNEE.value].visibility + landmarks[mp_pose.PoseLandmark.RIGHT_ANKLE.value].visibility\n",
    "        \n",
    "\n",
    "        L_hip = [landmarks[mp_pose.PoseLandmark.LEFT_HIP.value].x,landmarks[mp_pose.PoseLandmark.LEFT_HIP.value].y]\n",
    "        L_knee = [landmarks[mp_pose.PoseLandmark.LEFT_KNEE.value].x,landmarks[mp_pose.PoseLandmark.LEFT_KNEE.value].y]\n",
    "        L_ankle = [landmarks[mp_pose.PoseLandmark.LEFT_ANKLE.value].x,landmarks[mp_pose.PoseLandmark.LEFT_ANKLE.value].y]\n",
    "        #Visibility Extraction\n",
    "        L_V = landmarks[mp_pose.PoseLandmark.LEFT_HIP.value].visibility + landmarks[mp_pose.PoseLandmark.LEFT_KNEE.value].visibility + landmarks[mp_pose.PoseLandmark.LEFT_ANKLE.value].visibility\n",
    "               \n",
    "        if R_V > L_V:\n",
    "            angle = calculate_angle(R_hip, R_knee, R_ankle)\n",
    "        else:\n",
    "            angle = calculate_angle(L_hip, L_knee, L_ankle)\n",
    "        counter+=1\n",
    "\n",
    "                    # Visualize angle\n",
    "        cv2.putText(image, str(angle), \n",
    "                        #tuple(np.multiply(L_knee, [1280, 720]).astype(int)), \n",
    "                        tuple(np.multiply(L_knee, [640, 480]).astype(int)), \n",
    "                        cv2.FONT_HERSHEY_SIMPLEX, 0.5, (255, 255, 255), 2, cv2.LINE_AA\n",
    "\n",
    "                            )\n",
    "        if counter == 4:\n",
    "            counter = 0\n",
    "            iter += 1\n",
    "\n",
    "        \"\"\" \n",
    "        c = 0\n",
    "        avg_y = 0\n",
    "        for i in range(11):\n",
    "            if landmarks[i+11].visibility > 0.9:\n",
    "                avg_y += landmarks[i+11].y\n",
    "                c += 1\n",
    "        avg_y / c\n",
    "        \"\"\"\n",
    "\n",
    "        avg_y = (landmarks[11].y + landmarks[13].y + landmarks[15].y)/3\n",
    "\n",
    "        if angle > 160:\n",
    "            data[\"spike/deep\"].append(-1)\n",
    "            data[\"values\"].append(avg_y)\n",
    "            data[\"dates\"].append(datetime.today().strftime(\"%H:%M:%S:%f\"))\n",
    "        elif angle < 110:\n",
    "            data[\"spike/deep\"].append(1)\n",
    "            data[\"values\"].append(avg_y)\n",
    "            data[\"dates\"].append(datetime.today().strftime(\"%H:%M:%S:%f\"))\n",
    "        else:\n",
    "            data[\"spike/deep\"].append(0)\n",
    "            data[\"values\"].append(avg_y)\n",
    "            data[\"dates\"].append(datetime.today().strftime(\"%H:%M:%S:%f\"))\n",
    "            \n",
    "                \n",
    "        \n",
    "        cv2.imshow('Mediapipe Feed', image)\n",
    "        \n",
    "        if (cv2.waitKey(10) & 0xFF == ord('q') | (iter == 100)):\n",
    "            break\n",
    "\n",
    "    cap.release()\n",
    "    cv2.destroyAllWindows()"
   ]
  },
  {
   "cell_type": "code",
   "execution_count": 400,
   "metadata": {},
   "outputs": [
    {
     "name": "stdout",
     "output_type": "stream",
     "text": [
      "52.0\n"
     ]
    }
   ],
   "source": [
    "sum = 0\n",
    "for i in range(len(data)-1):\n",
    "    d1 = datetime.strptime(data[\"dates\"][i], \"%H:%M:%S:%f\")\n",
    "    d2 = datetime.strptime(data[\"dates\"][i+1], \"%H:%M:%S:%f\")\n",
    "    delta = d2 - d1\n",
    "    delta_ms = round(delta.microseconds,0) / 1000\n",
    "    sum = sum + delta_ms\n",
    "avg_ms = sum // len(data)-1\n",
    "print(avg_ms)"
   ]
  },
  {
   "cell_type": "code",
   "execution_count": 401,
   "metadata": {},
   "outputs": [
    {
     "name": "stdout",
     "output_type": "stream",
     "text": [
      "1900-01-01 16:26:57.136752\n",
      "1900-01-01 16:26:57.188752\n",
      "1900-01-01 16:26:57.240752\n",
      "1900-01-01 16:26:57.292752\n",
      "1900-01-01 16:26:57.344752\n",
      "1900-01-01 16:26:57.396752\n",
      "1900-01-01 16:26:57.448752\n",
      "1900-01-01 16:26:57.500752\n",
      "1900-01-01 16:26:57.552752\n",
      "1900-01-01 16:26:57.604752\n",
      "1900-01-01 16:26:57.656752\n",
      "1900-01-01 16:26:57.708752\n",
      "1900-01-01 16:26:57.760752\n",
      "1900-01-01 16:26:57.812752\n",
      "1900-01-01 16:26:57.864752\n",
      "1900-01-01 16:26:57.916752\n",
      "1900-01-01 16:26:57.968752\n",
      "1900-01-01 16:26:58.020752\n",
      "1900-01-01 16:26:58.072752\n",
      "1900-01-01 16:26:58.124752\n",
      "1900-01-01 16:26:58.176752\n",
      "1900-01-01 16:26:58.228752\n",
      "1900-01-01 16:26:58.280752\n",
      "1900-01-01 16:26:58.332752\n",
      "1900-01-01 16:26:58.384752\n",
      "1900-01-01 16:26:58.436752\n",
      "1900-01-01 16:26:58.488752\n",
      "1900-01-01 16:26:58.540752\n",
      "1900-01-01 16:26:58.592752\n",
      "1900-01-01 16:26:58.644752\n",
      "1900-01-01 16:26:58.696752\n",
      "1900-01-01 16:26:58.748752\n",
      "1900-01-01 16:26:58.800752\n",
      "1900-01-01 16:26:58.852752\n",
      "1900-01-01 16:26:58.904752\n",
      "1900-01-01 16:26:58.956752\n",
      "1900-01-01 16:26:59.008752\n",
      "1900-01-01 16:26:59.060752\n",
      "1900-01-01 16:26:59.112752\n",
      "1900-01-01 16:26:59.164752\n",
      "1900-01-01 16:26:59.216752\n",
      "1900-01-01 16:26:59.268752\n",
      "1900-01-01 16:26:59.320752\n",
      "1900-01-01 16:26:59.372752\n",
      "1900-01-01 16:26:59.424752\n",
      "1900-01-01 16:26:59.476752\n",
      "1900-01-01 16:26:59.528752\n",
      "1900-01-01 16:26:59.580752\n",
      "1900-01-01 16:26:59.632752\n",
      "1900-01-01 16:26:59.684752\n",
      "1900-01-01 16:26:59.736752\n",
      "1900-01-01 16:26:59.788752\n",
      "1900-01-01 16:26:59.840752\n",
      "1900-01-01 16:26:59.892752\n",
      "1900-01-01 16:26:59.944752\n",
      "1900-01-01 16:26:59.996752\n",
      "1900-01-01 16:27:00.048752\n",
      "1900-01-01 16:27:00.100752\n",
      "1900-01-01 16:27:00.152752\n",
      "1900-01-01 16:27:00.204752\n",
      "1900-01-01 16:27:00.256752\n",
      "1900-01-01 16:27:00.308752\n",
      "1900-01-01 16:27:00.360752\n",
      "1900-01-01 16:27:00.412752\n",
      "1900-01-01 16:27:00.464752\n",
      "1900-01-01 16:27:00.516752\n",
      "1900-01-01 16:27:00.568752\n",
      "1900-01-01 16:27:00.620752\n",
      "1900-01-01 16:27:00.672752\n",
      "1900-01-01 16:27:00.724752\n"
     ]
    }
   ],
   "source": [
    "for i in range(70):\n",
    "    d1 = datetime.strptime(data[\"dates\"][-1], \"%H:%M:%S:%f\")\n",
    "    sum = d1 + timedelta(milliseconds=avg_ms)\n",
    "    data[\"dates\"].append(datetime.strftime(sum,\"%H:%M:%S:%f\"))\n",
    "    data[\"values\"].append(0)\n",
    "    data[\"spike/deep\"].append(0)\n",
    "    print(sum)"
   ]
  },
  {
   "cell_type": "code",
   "execution_count": 402,
   "metadata": {},
   "outputs": [],
   "source": [
    "#To Dataframe\n",
    "df = pd.DataFrame(data = data)\n",
    "\n",
    "#df_raw = df_raw.drop(index=range(28))\n",
    "\n",
    "#without Outliers\n",
    "#df = df_raw[(df_raw['values'] > df_raw['values'].quantile(q=0.75)) |\n",
    "#            (df_raw['values'] < df_raw['values'].quantile(q=0.25)) ]"
   ]
  },
  {
   "cell_type": "code",
   "execution_count": 403,
   "metadata": {},
   "outputs": [],
   "source": [
    "df.to_csv(\"Squats_Unfiltered.csv\" , index = False)"
   ]
  },
  {
   "cell_type": "code",
   "execution_count": 404,
   "metadata": {},
   "outputs": [
    {
     "data": {
      "text/plain": [
       "<AxesSubplot:xlabel='dates'>"
      ]
     },
     "execution_count": 404,
     "metadata": {},
     "output_type": "execute_result"
    }
   ],
   "source": [
    "%matplotlib qt\n",
    "df.plot(kind='line', y = \"values\", x = \"dates\", style='-o')"
   ]
  },
  {
   "cell_type": "code",
   "execution_count": 406,
   "metadata": {},
   "outputs": [],
   "source": [
    "res = seasonal_decompose(df[\"values\"][:len(df)-100],model = \"additive\",period=7)\n",
    "res.plot();"
   ]
  },
  {
   "cell_type": "code",
   "execution_count": 407,
   "metadata": {},
   "outputs": [
    {
     "name": "stdout",
     "output_type": "stream",
     "text": [
      "Performing stepwise search to minimize aic\n",
      " ARIMA(2,0,2)(0,0,0)[0] intercept   : AIC=-2238.469, Time=0.68 sec\n",
      " ARIMA(0,0,0)(0,0,0)[0] intercept   : AIC=-704.987, Time=0.09 sec\n",
      " ARIMA(1,0,0)(0,0,0)[0] intercept   : AIC=-2138.035, Time=0.10 sec\n",
      " ARIMA(0,0,1)(0,0,0)[0] intercept   : AIC=-1211.298, Time=0.13 sec\n",
      " ARIMA(0,0,0)(0,0,0)[0]             : AIC=343.722, Time=0.03 sec\n",
      " ARIMA(1,0,2)(0,0,0)[0] intercept   : AIC=-2268.007, Time=0.45 sec\n",
      " ARIMA(0,0,2)(0,0,0)[0] intercept   : AIC=-1579.339, Time=0.42 sec\n",
      " ARIMA(1,0,1)(0,0,0)[0] intercept   : AIC=-2227.001, Time=0.33 sec\n",
      " ARIMA(1,0,3)(0,0,0)[0] intercept   : AIC=-2293.145, Time=0.70 sec\n",
      " ARIMA(0,0,3)(0,0,0)[0] intercept   : AIC=-1799.575, Time=0.37 sec\n",
      " ARIMA(2,0,3)(0,0,0)[0] intercept   : AIC=-2271.928, Time=0.79 sec\n",
      " ARIMA(1,0,4)(0,0,0)[0] intercept   : AIC=-2334.528, Time=0.96 sec\n",
      " ARIMA(0,0,4)(0,0,0)[0] intercept   : AIC=-1952.427, Time=0.58 sec\n",
      " ARIMA(2,0,4)(0,0,0)[0] intercept   : AIC=-2293.559, Time=1.09 sec\n",
      " ARIMA(1,0,5)(0,0,0)[0] intercept   : AIC=-2371.985, Time=0.83 sec\n",
      " ARIMA(0,0,5)(0,0,0)[0] intercept   : AIC=-2042.109, Time=0.67 sec\n",
      " ARIMA(2,0,5)(0,0,0)[0] intercept   : AIC=-2468.646, Time=0.81 sec\n",
      " ARIMA(3,0,5)(0,0,0)[0] intercept   : AIC=-2319.081, Time=1.06 sec\n",
      " ARIMA(3,0,4)(0,0,0)[0] intercept   : AIC=-2276.323, Time=0.99 sec\n",
      " ARIMA(2,0,5)(0,0,0)[0]             : AIC=-2419.073, Time=0.53 sec\n",
      "\n",
      "Best model:  ARIMA(2,0,5)(0,0,0)[0] intercept\n",
      "Total fit time: 11.620 seconds\n"
     ]
    },
    {
     "data": {
      "text/html": [
       "<table class=\"simpletable\">\n",
       "<caption>SARIMAX Results</caption>\n",
       "<tr>\n",
       "  <th>Dep. Variable:</th>           <td>y</td>        <th>  No. Observations:  </th>    <td>423</td>   \n",
       "</tr>\n",
       "<tr>\n",
       "  <th>Model:</th>           <td>SARIMAX(2, 0, 5)</td> <th>  Log Likelihood     </th> <td>1243.323</td> \n",
       "</tr>\n",
       "<tr>\n",
       "  <th>Date:</th>            <td>Thu, 09 Mar 2023</td> <th>  AIC                </th> <td>-2468.646</td>\n",
       "</tr>\n",
       "<tr>\n",
       "  <th>Time:</th>                <td>16:28:38</td>     <th>  BIC                </th> <td>-2432.219</td>\n",
       "</tr>\n",
       "<tr>\n",
       "  <th>Sample:</th>                  <td>0</td>        <th>  HQIC               </th> <td>-2454.253</td>\n",
       "</tr>\n",
       "<tr>\n",
       "  <th></th>                      <td> - 423</td>      <th>                     </th>     <td> </td>    \n",
       "</tr>\n",
       "<tr>\n",
       "  <th>Covariance Type:</th>        <td>opg</td>       <th>                     </th>     <td> </td>    \n",
       "</tr>\n",
       "</table>\n",
       "<table class=\"simpletable\">\n",
       "<tr>\n",
       "      <td></td>         <th>coef</th>     <th>std err</th>      <th>z</th>      <th>P>|z|</th>  <th>[0.025</th>    <th>0.975]</th>  \n",
       "</tr>\n",
       "<tr>\n",
       "  <th>intercept</th> <td>    0.0101</td> <td>    0.001</td> <td>    7.430</td> <td> 0.000</td> <td>    0.007</td> <td>    0.013</td>\n",
       "</tr>\n",
       "<tr>\n",
       "  <th>ar.L1</th>     <td>    1.9260</td> <td>    0.022</td> <td>   86.291</td> <td> 0.000</td> <td>    1.882</td> <td>    1.970</td>\n",
       "</tr>\n",
       "<tr>\n",
       "  <th>ar.L2</th>     <td>   -0.9549</td> <td>    0.022</td> <td>  -43.657</td> <td> 0.000</td> <td>   -0.998</td> <td>   -0.912</td>\n",
       "</tr>\n",
       "<tr>\n",
       "  <th>ma.L1</th>     <td>   -0.9588</td> <td>    0.065</td> <td>  -14.807</td> <td> 0.000</td> <td>   -1.086</td> <td>   -0.832</td>\n",
       "</tr>\n",
       "<tr>\n",
       "  <th>ma.L2</th>     <td>    0.1813</td> <td>    0.095</td> <td>    1.907</td> <td> 0.056</td> <td>   -0.005</td> <td>    0.368</td>\n",
       "</tr>\n",
       "<tr>\n",
       "  <th>ma.L3</th>     <td>    0.1739</td> <td>    0.083</td> <td>    2.103</td> <td> 0.035</td> <td>    0.012</td> <td>    0.336</td>\n",
       "</tr>\n",
       "<tr>\n",
       "  <th>ma.L4</th>     <td>    0.0820</td> <td>    0.071</td> <td>    1.159</td> <td> 0.246</td> <td>   -0.057</td> <td>    0.221</td>\n",
       "</tr>\n",
       "<tr>\n",
       "  <th>ma.L5</th>     <td>   -0.0408</td> <td>    0.045</td> <td>   -0.901</td> <td> 0.368</td> <td>   -0.130</td> <td>    0.048</td>\n",
       "</tr>\n",
       "<tr>\n",
       "  <th>sigma2</th>    <td>    0.0002</td> <td> 9.42e-06</td> <td>   17.087</td> <td> 0.000</td> <td>    0.000</td> <td>    0.000</td>\n",
       "</tr>\n",
       "</table>\n",
       "<table class=\"simpletable\">\n",
       "<tr>\n",
       "  <th>Ljung-Box (L1) (Q):</th>     <td>2.13</td> <th>  Jarque-Bera (JB):  </th> <td>199.29</td>\n",
       "</tr>\n",
       "<tr>\n",
       "  <th>Prob(Q):</th>                <td>0.14</td> <th>  Prob(JB):          </th>  <td>0.00</td> \n",
       "</tr>\n",
       "<tr>\n",
       "  <th>Heteroskedasticity (H):</th> <td>0.68</td> <th>  Skew:              </th>  <td>0.72</td> \n",
       "</tr>\n",
       "<tr>\n",
       "  <th>Prob(H) (two-sided):</th>    <td>0.02</td> <th>  Kurtosis:          </th>  <td>6.04</td> \n",
       "</tr>\n",
       "</table><br/><br/>Warnings:<br/>[1] Covariance matrix calculated using the outer product of gradients (complex-step)."
      ],
      "text/plain": [
       "<class 'statsmodels.iolib.summary.Summary'>\n",
       "\"\"\"\n",
       "                               SARIMAX Results                                \n",
       "==============================================================================\n",
       "Dep. Variable:                      y   No. Observations:                  423\n",
       "Model:               SARIMAX(2, 0, 5)   Log Likelihood                1243.323\n",
       "Date:                Thu, 09 Mar 2023   AIC                          -2468.646\n",
       "Time:                        16:28:38   BIC                          -2432.219\n",
       "Sample:                             0   HQIC                         -2454.253\n",
       "                                - 423                                         \n",
       "Covariance Type:                  opg                                         \n",
       "==============================================================================\n",
       "                 coef    std err          z      P>|z|      [0.025      0.975]\n",
       "------------------------------------------------------------------------------\n",
       "intercept      0.0101      0.001      7.430      0.000       0.007       0.013\n",
       "ar.L1          1.9260      0.022     86.291      0.000       1.882       1.970\n",
       "ar.L2         -0.9549      0.022    -43.657      0.000      -0.998      -0.912\n",
       "ma.L1         -0.9588      0.065    -14.807      0.000      -1.086      -0.832\n",
       "ma.L2          0.1813      0.095      1.907      0.056      -0.005       0.368\n",
       "ma.L3          0.1739      0.083      2.103      0.035       0.012       0.336\n",
       "ma.L4          0.0820      0.071      1.159      0.246      -0.057       0.221\n",
       "ma.L5         -0.0408      0.045     -0.901      0.368      -0.130       0.048\n",
       "sigma2         0.0002   9.42e-06     17.087      0.000       0.000       0.000\n",
       "===================================================================================\n",
       "Ljung-Box (L1) (Q):                   2.13   Jarque-Bera (JB):               199.29\n",
       "Prob(Q):                              0.14   Prob(JB):                         0.00\n",
       "Heteroskedasticity (H):               0.68   Skew:                             0.72\n",
       "Prob(H) (two-sided):                  0.02   Kurtosis:                         6.04\n",
       "===================================================================================\n",
       "\n",
       "Warnings:\n",
       "[1] Covariance matrix calculated using the outer product of gradients (complex-step).\n",
       "\"\"\""
      ]
     },
     "execution_count": 407,
     "metadata": {},
     "output_type": "execute_result"
    }
   ],
   "source": [
    "############## NO SPIKES / DEEPS ##################\n",
    "auto_arima(df[\"values\"][:len(df)-100], trace=True, seasonal=True).summary()"
   ]
  },
  {
   "cell_type": "code",
   "execution_count": null,
   "metadata": {},
   "outputs": [],
   "source": [
    "for i in range(100):\n",
    "    index = 101 - i\n",
    "    data[\"values\"][len(df)-index:] = data[\"values\"][len(df)-index-17:]\n"
   ]
  },
  {
   "cell_type": "code",
   "execution_count": null,
   "metadata": {},
   "outputs": [],
   "source": [
    "df"
   ]
  },
  {
   "cell_type": "code",
   "execution_count": 390,
   "metadata": {},
   "outputs": [
    {
     "name": "stderr",
     "output_type": "stream",
     "text": [
      "c:\\Users\\mosac\\anaconda3\\lib\\site-packages\\statsmodels\\base\\model.py:604: ConvergenceWarning: Maximum Likelihood optimization failed to converge. Check mle_retvals\n",
      "  warnings.warn(\"Maximum Likelihood optimization failed to \"\n"
     ]
    },
    {
     "data": {
      "text/plain": [
       "<AxesSubplot:>"
      ]
     },
     "execution_count": 390,
     "metadata": {},
     "output_type": "execute_result"
    }
   ],
   "source": [
    "############## NO SPIKES / DEEPS ##################\n",
    "train_df = df.iloc[:len(df)-100]\n",
    "test_df = df.iloc[len(df)-100:]\n",
    "model = SARIMAX(train_df[\"values\"], order=(35,0, 0), trend='c')\n",
    "res = model.fit()\n",
    "start = len(train_df)\n",
    "end = len(train_df) + len(test_df) -1\n",
    "prediction = res.predict(start, end).rename(\"prediction\")\n",
    "ax = df[\"values\"].plot(legend=True,figsize=(16,8))\n",
    "prediction.plot(legend=True)\n"
   ]
  },
  {
   "cell_type": "code",
   "execution_count": 353,
   "metadata": {},
   "outputs": [
    {
     "data": {
      "text/plain": [
       "<AxesSubplot:>"
      ]
     },
     "execution_count": 353,
     "metadata": {},
     "output_type": "execute_result"
    }
   ],
   "source": [
    "############## NO SPIKES / DEEPS ##################\n",
    "train_df = df.iloc[:len(df)-100]\n",
    "test_df = df.iloc[len(df)-100:]\n",
    "model = SARIMAX(train_df[\"spike/deep\"], order=(20,0,1))\n",
    "res = model.fit()\n",
    "start = len(train_df)\n",
    "end = len(train_df) + len(test_df) -1\n",
    "prediction = res.predict(start, end).rename(\"prediction\")\n",
    "ax = df[\"spike/deep\"].plot(legend=True,figsize=(16,8))\n",
    "prediction.plot(legend=True)\n"
   ]
  },
  {
   "cell_type": "code",
   "execution_count": 329,
   "metadata": {},
   "outputs": [
    {
     "name": "stdout",
     "output_type": "stream",
     "text": [
      "0.6427576846799165\n"
     ]
    }
   ],
   "source": [
    "############## NO SPIKES / DEEPS ##################\n",
    "from statsmodels.tools.eval_measures import rmse\n",
    "accuracy_no_deeps = 1- rmse(test_df[\"values\"], prediction)\n",
    "print(accuracy_no_deeps)"
   ]
  },
  {
   "cell_type": "code",
   "execution_count": 269,
   "metadata": {},
   "outputs": [
    {
     "name": "stdout",
     "output_type": "stream",
     "text": [
      "Performing stepwise search to minimize aic\n",
      " ARIMA(2,0,2)(0,0,0)[0] intercept   : AIC=-1769.123, Time=0.59 sec\n",
      " ARIMA(0,0,0)(0,0,0)[0] intercept   : AIC=-567.943, Time=0.07 sec\n",
      " ARIMA(1,0,0)(0,0,0)[0] intercept   : AIC=-1695.878, Time=0.05 sec\n",
      " ARIMA(0,0,1)(0,0,0)[0] intercept   : AIC=-1012.066, Time=0.27 sec\n",
      " ARIMA(0,0,0)(0,0,0)[0]             : AIC=331.628, Time=0.03 sec\n",
      " ARIMA(1,0,2)(0,0,0)[0] intercept   : AIC=-1781.975, Time=0.34 sec\n",
      " ARIMA(0,0,2)(0,0,0)[0] intercept   : AIC=-1295.928, Time=0.20 sec\n",
      " ARIMA(1,0,1)(0,0,0)[0] intercept   : AIC=-1770.561, Time=0.28 sec\n",
      " ARIMA(1,0,3)(0,0,0)[0] intercept   : AIC=-1823.179, Time=0.38 sec\n",
      " ARIMA(0,0,3)(0,0,0)[0] intercept   : AIC=inf, Time=0.45 sec\n",
      " ARIMA(2,0,3)(0,0,0)[0] intercept   : AIC=inf, Time=1.01 sec\n",
      " ARIMA(1,0,4)(0,0,0)[0] intercept   : AIC=-1857.999, Time=0.52 sec\n",
      " ARIMA(0,0,4)(0,0,0)[0] intercept   : AIC=-1575.606, Time=0.50 sec\n",
      " ARIMA(2,0,4)(0,0,0)[0] intercept   : AIC=inf, Time=1.16 sec\n",
      " ARIMA(1,0,5)(0,0,0)[0] intercept   : AIC=-1869.049, Time=0.67 sec\n",
      " ARIMA(0,0,5)(0,0,0)[0] intercept   : AIC=-1671.846, Time=0.65 sec\n",
      " ARIMA(2,0,5)(0,0,0)[0] intercept   : AIC=inf, Time=0.92 sec\n",
      " ARIMA(1,0,5)(0,0,0)[0]             : AIC=-1859.729, Time=0.39 sec\n",
      "\n",
      "Best model:  ARIMA(1,0,5)(0,0,0)[0] intercept\n",
      "Total fit time: 8.480 seconds\n"
     ]
    },
    {
     "data": {
      "text/html": [
       "<table class=\"simpletable\">\n",
       "<caption>SARIMAX Results</caption>\n",
       "<tr>\n",
       "  <th>Dep. Variable:</th>           <td>y</td>        <th>  No. Observations:  </th>    <td>375</td>   \n",
       "</tr>\n",
       "<tr>\n",
       "  <th>Model:</th>           <td>SARIMAX(1, 0, 5)</td> <th>  Log Likelihood     </th>  <td>942.525</td> \n",
       "</tr>\n",
       "<tr>\n",
       "  <th>Date:</th>            <td>Thu, 09 Mar 2023</td> <th>  AIC                </th> <td>-1869.049</td>\n",
       "</tr>\n",
       "<tr>\n",
       "  <th>Time:</th>                <td>14:50:20</td>     <th>  BIC                </th> <td>-1837.634</td>\n",
       "</tr>\n",
       "<tr>\n",
       "  <th>Sample:</th>                  <td>0</td>        <th>  HQIC               </th> <td>-1856.577</td>\n",
       "</tr>\n",
       "<tr>\n",
       "  <th></th>                      <td> - 375</td>      <th>                     </th>     <td> </td>    \n",
       "</tr>\n",
       "<tr>\n",
       "  <th>Covariance Type:</th>        <td>opg</td>       <th>                     </th>     <td> </td>    \n",
       "</tr>\n",
       "</table>\n",
       "<table class=\"simpletable\">\n",
       "<tr>\n",
       "      <td></td>         <th>coef</th>     <th>std err</th>      <th>z</th>      <th>P>|z|</th>  <th>[0.025</th>    <th>0.975]</th>  \n",
       "</tr>\n",
       "<tr>\n",
       "  <th>intercept</th> <td>    0.0149</td> <td>    0.013</td> <td>    1.175</td> <td> 0.240</td> <td>   -0.010</td> <td>    0.040</td>\n",
       "</tr>\n",
       "<tr>\n",
       "  <th>ar.L1</th>     <td>    0.9559</td> <td>    0.032</td> <td>   30.154</td> <td> 0.000</td> <td>    0.894</td> <td>    1.018</td>\n",
       "</tr>\n",
       "<tr>\n",
       "  <th>ma.L1</th>     <td>    0.2676</td> <td>    0.108</td> <td>    2.488</td> <td> 0.013</td> <td>    0.057</td> <td>    0.478</td>\n",
       "</tr>\n",
       "<tr>\n",
       "  <th>ma.L2</th>     <td>    0.2343</td> <td>    0.067</td> <td>    3.495</td> <td> 0.000</td> <td>    0.103</td> <td>    0.366</td>\n",
       "</tr>\n",
       "<tr>\n",
       "  <th>ma.L3</th>     <td>    0.3576</td> <td>    0.048</td> <td>    7.522</td> <td> 0.000</td> <td>    0.264</td> <td>    0.451</td>\n",
       "</tr>\n",
       "<tr>\n",
       "  <th>ma.L4</th>     <td>    0.3231</td> <td>    0.062</td> <td>    5.223</td> <td> 0.000</td> <td>    0.202</td> <td>    0.444</td>\n",
       "</tr>\n",
       "<tr>\n",
       "  <th>ma.L5</th>     <td>    0.1514</td> <td>    0.085</td> <td>    1.786</td> <td> 0.074</td> <td>   -0.015</td> <td>    0.318</td>\n",
       "</tr>\n",
       "<tr>\n",
       "  <th>sigma2</th>    <td>    0.0004</td> <td> 1.24e-05</td> <td>   30.066</td> <td> 0.000</td> <td>    0.000</td> <td>    0.000</td>\n",
       "</tr>\n",
       "</table>\n",
       "<table class=\"simpletable\">\n",
       "<tr>\n",
       "  <th>Ljung-Box (L1) (Q):</th>     <td>0.46</td> <th>  Jarque-Bera (JB):  </th> <td>9920.20</td>\n",
       "</tr>\n",
       "<tr>\n",
       "  <th>Prob(Q):</th>                <td>0.50</td> <th>  Prob(JB):          </th>  <td>0.00</td>  \n",
       "</tr>\n",
       "<tr>\n",
       "  <th>Heteroskedasticity (H):</th> <td>0.80</td> <th>  Skew:              </th>  <td>2.74</td>  \n",
       "</tr>\n",
       "<tr>\n",
       "  <th>Prob(H) (two-sided):</th>    <td>0.21</td> <th>  Kurtosis:          </th>  <td>27.60</td> \n",
       "</tr>\n",
       "</table><br/><br/>Warnings:<br/>[1] Covariance matrix calculated using the outer product of gradients (complex-step)."
      ],
      "text/plain": [
       "<class 'statsmodels.iolib.summary.Summary'>\n",
       "\"\"\"\n",
       "                               SARIMAX Results                                \n",
       "==============================================================================\n",
       "Dep. Variable:                      y   No. Observations:                  375\n",
       "Model:               SARIMAX(1, 0, 5)   Log Likelihood                 942.525\n",
       "Date:                Thu, 09 Mar 2023   AIC                          -1869.049\n",
       "Time:                        14:50:20   BIC                          -1837.634\n",
       "Sample:                             0   HQIC                         -1856.577\n",
       "                                - 375                                         \n",
       "Covariance Type:                  opg                                         \n",
       "==============================================================================\n",
       "                 coef    std err          z      P>|z|      [0.025      0.975]\n",
       "------------------------------------------------------------------------------\n",
       "intercept      0.0149      0.013      1.175      0.240      -0.010       0.040\n",
       "ar.L1          0.9559      0.032     30.154      0.000       0.894       1.018\n",
       "ma.L1          0.2676      0.108      2.488      0.013       0.057       0.478\n",
       "ma.L2          0.2343      0.067      3.495      0.000       0.103       0.366\n",
       "ma.L3          0.3576      0.048      7.522      0.000       0.264       0.451\n",
       "ma.L4          0.3231      0.062      5.223      0.000       0.202       0.444\n",
       "ma.L5          0.1514      0.085      1.786      0.074      -0.015       0.318\n",
       "sigma2         0.0004   1.24e-05     30.066      0.000       0.000       0.000\n",
       "===================================================================================\n",
       "Ljung-Box (L1) (Q):                   0.46   Jarque-Bera (JB):              9920.20\n",
       "Prob(Q):                              0.50   Prob(JB):                         0.00\n",
       "Heteroskedasticity (H):               0.80   Skew:                             2.74\n",
       "Prob(H) (two-sided):                  0.21   Kurtosis:                        27.60\n",
       "===================================================================================\n",
       "\n",
       "Warnings:\n",
       "[1] Covariance matrix calculated using the outer product of gradients (complex-step).\n",
       "\"\"\""
      ]
     },
     "execution_count": 269,
     "metadata": {},
     "output_type": "execute_result"
    }
   ],
   "source": [
    "############## WITH SPIKES / DEEPS ##################\n",
    "auto_arima(df[\"values\"][:len(df)-100], exogenous=df[\"spike/deep\"], seasonal=True , start_q=0,max_q= 1, trace  =True).summary()"
   ]
  },
  {
   "cell_type": "code",
   "execution_count": 377,
   "metadata": {},
   "outputs": [
    {
     "name": "stderr",
     "output_type": "stream",
     "text": [
      "c:\\Users\\mosac\\anaconda3\\lib\\site-packages\\statsmodels\\base\\model.py:604: ConvergenceWarning: Maximum Likelihood optimization failed to converge. Check mle_retvals\n",
      "  warnings.warn(\"Maximum Likelihood optimization failed to \"\n"
     ]
    },
    {
     "data": {
      "text/plain": [
       "<AxesSubplot:>"
      ]
     },
     "execution_count": 377,
     "metadata": {},
     "output_type": "execute_result"
    }
   ],
   "source": [
    "############## WITH SPIKES / DEEPS ##################\n",
    "train_df = df.iloc[:len(df)-100]\n",
    "test_df = df.iloc[len(df)-100:] \n",
    "model = SARIMAX(endog=train_df[\"values\"], order=(30,1, 0), exog=train_df[\"spike/deep\"])\n",
    "res = model.fit()\n",
    "start = len(train_df)\n",
    "end = len(train_df) + len(test_df) -1\n",
    "prediction = res.predict(start, end,exog = test_df[\"spike/deep\"]).rename(\"prediction\")\n",
    "ax = df[\"values\"].plot(legend=True,figsize=(16,8))\n",
    "prediction.plot(legend=True)"
   ]
  },
  {
   "cell_type": "code",
   "execution_count": 226,
   "metadata": {},
   "outputs": [
    {
     "data": {
      "text/plain": [
       "375    0.224689\n",
       "376    0.223349\n",
       "377    0.220437\n",
       "378    0.219620\n",
       "379    0.218325\n",
       "380    0.217619\n",
       "381    0.216676\n",
       "382    0.216147\n",
       "383    0.215631\n",
       "384    0.215050\n",
       "385    0.214590\n",
       "386    0.214226\n",
       "387    0.213938\n",
       "388    0.213709\n",
       "389    0.213529\n",
       "390    0.213386\n",
       "391    0.213272\n",
       "392    0.213182\n",
       "393    0.213111\n",
       "394    0.213055\n",
       "395    0.213010\n",
       "396    0.212975\n",
       "397    0.212947\n",
       "398    0.212925\n",
       "399    0.212908\n",
       "400    0.212894\n",
       "401    0.212883\n",
       "402    0.212874\n",
       "403    0.212867\n",
       "404    0.212862\n",
       "Name: prediction, dtype: float64"
      ]
     },
     "execution_count": 226,
     "metadata": {},
     "output_type": "execute_result"
    }
   ],
   "source": [
    "############## WITH SPIKES / DEEPS ##################\n",
    "\n",
    "# Need to make sure to truncate it in the right place\n",
    "prediction"
   ]
  },
  {
   "cell_type": "code",
   "execution_count": 99,
   "metadata": {},
   "outputs": [
    {
     "name": "stdout",
     "output_type": "stream",
     "text": [
      "0.9173200783498131\n"
     ]
    }
   ],
   "source": [
    "accuracy = 1- rmse(test_df[\"values\"], prediction)\n",
    "print(accuracy)"
   ]
  }
 ],
 "metadata": {
  "kernelspec": {
   "display_name": "base",
   "language": "python",
   "name": "python3"
  },
  "language_info": {
   "codemirror_mode": {
    "name": "ipython",
    "version": 3
   },
   "file_extension": ".py",
   "mimetype": "text/x-python",
   "name": "python",
   "nbconvert_exporter": "python",
   "pygments_lexer": "ipython3",
   "version": "3.9.13"
  },
  "orig_nbformat": 4,
  "vscode": {
   "interpreter": {
    "hash": "f5b67c9e65e85b062b109a88586b2b67e0addb02b929eef4fdc3d6408875abdd"
   }
  }
 },
 "nbformat": 4,
 "nbformat_minor": 2
}
