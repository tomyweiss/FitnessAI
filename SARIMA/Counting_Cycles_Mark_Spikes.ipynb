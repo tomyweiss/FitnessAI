{
 "cells": [
  {
   "cell_type": "code",
   "execution_count": 37,
   "metadata": {},
   "outputs": [
    {
     "name": "stdout",
     "output_type": "stream",
     "text": [
      "Collecting pmdarima\n",
      "  Downloading pmdarima-2.0.2-cp39-cp39-win_amd64.whl (572 kB)\n",
      "     ------------------------------------ 572.0/572.0 kB 642.0 kB/s eta 0:00:00\n",
      "Requirement already satisfied: scikit-learn>=0.22 in c:\\users\\mosac\\anaconda3\\lib\\site-packages (from pmdarima) (1.0.2)\n",
      "Requirement already satisfied: urllib3 in c:\\users\\mosac\\anaconda3\\lib\\site-packages (from pmdarima) (1.26.11)\n",
      "Requirement already satisfied: Cython!=0.29.18,!=0.29.31,>=0.29 in c:\\users\\mosac\\anaconda3\\lib\\site-packages (from pmdarima) (0.29.32)\n",
      "Requirement already satisfied: setuptools!=50.0.0,>=38.6.0 in c:\\users\\mosac\\anaconda3\\lib\\site-packages (from pmdarima) (63.4.1)\n",
      "Requirement already satisfied: pandas>=0.19 in c:\\users\\mosac\\anaconda3\\lib\\site-packages (from pmdarima) (1.4.4)\n",
      "Requirement already satisfied: numpy>=1.21.2 in c:\\users\\mosac\\anaconda3\\lib\\site-packages (from pmdarima) (1.21.5)\n",
      "Requirement already satisfied: statsmodels>=0.13.2 in c:\\users\\mosac\\anaconda3\\lib\\site-packages (from pmdarima) (0.13.2)\n",
      "Requirement already satisfied: joblib>=0.11 in c:\\users\\mosac\\anaconda3\\lib\\site-packages (from pmdarima) (1.1.0)\n",
      "Requirement already satisfied: scipy>=1.3.2 in c:\\users\\mosac\\anaconda3\\lib\\site-packages (from pmdarima) (1.9.1)\n",
      "Requirement already satisfied: pytz>=2020.1 in c:\\users\\mosac\\anaconda3\\lib\\site-packages (from pandas>=0.19->pmdarima) (2022.1)\n",
      "Requirement already satisfied: python-dateutil>=2.8.1 in c:\\users\\mosac\\anaconda3\\lib\\site-packages (from pandas>=0.19->pmdarima) (2.8.2)\n",
      "Requirement already satisfied: threadpoolctl>=2.0.0 in c:\\users\\mosac\\anaconda3\\lib\\site-packages (from scikit-learn>=0.22->pmdarima) (2.2.0)\n",
      "Requirement already satisfied: patsy>=0.5.2 in c:\\users\\mosac\\anaconda3\\lib\\site-packages (from statsmodels>=0.13.2->pmdarima) (0.5.2)\n",
      "Requirement already satisfied: packaging>=21.3 in c:\\users\\mosac\\anaconda3\\lib\\site-packages (from statsmodels>=0.13.2->pmdarima) (21.3)\n",
      "Requirement already satisfied: pyparsing!=3.0.5,>=2.0.2 in c:\\users\\mosac\\anaconda3\\lib\\site-packages (from packaging>=21.3->statsmodels>=0.13.2->pmdarima) (3.0.9)\n",
      "Requirement already satisfied: six in c:\\users\\mosac\\anaconda3\\lib\\site-packages (from patsy>=0.5.2->statsmodels>=0.13.2->pmdarima) (1.16.0)\n",
      "Installing collected packages: pmdarima\n",
      "Successfully installed pmdarima-2.0.2\n",
      "Note: you may need to restart the kernel to use updated packages.\n"
     ]
    }
   ],
   "source": [
    "%pip install pmdarima"
   ]
  },
  {
   "cell_type": "code",
   "execution_count": 38,
   "metadata": {},
   "outputs": [],
   "source": [
    "import mediapipe as mp\n",
    "import cv2\n",
    "import numpy as np\n",
    "from  matplotlib import pyplot as plt\n",
    "import matplotlib.image as mpimg\n",
    "import pandas as pd\n",
    "mp_drawing = mp.solutions.drawing_utils\n",
    "mp_pose = mp.solutions.pose\n",
    "from datetime import datetime\n",
    "import pandas as pd\n",
    "import statsmodels.api as sm\n",
    "from sklearn.model_selection import train_test_split \n",
    "from statsmodels.tsa.statespace.sarimax import SARIMAX\n",
    "from pmdarima import auto_arima\n",
    "from statsmodels.tsa.seasonal import seasonal_decompose"
   ]
  },
  {
   "cell_type": "code",
   "execution_count": 22,
   "metadata": {},
   "outputs": [],
   "source": [
    "data = {\"dates\" : [],\n",
    "        \"values\" : [],\n",
    "        \"spike/deep\": []\n",
    "        }"
   ]
  },
  {
   "cell_type": "code",
   "execution_count": 10,
   "metadata": {},
   "outputs": [],
   "source": [
    "def calculate_angle(a,b,c):\n",
    "    a = np.array(a) # First\n",
    "    b = np.array(b) # Mid\n",
    "    c = np.array(c) # End\n",
    "    \n",
    "    radians = np.arctan2(c[1]-b[1], c[0]-b[0]) - np.arctan2(a[1]-b[1], a[0]-b[0])\n",
    "    angle = np.abs(radians*180.0/np.pi)\n",
    "    \n",
    "    if angle >180.0:\n",
    "        angle = 360-angle\n",
    "        \n",
    "    return angle "
   ]
  },
  {
   "cell_type": "code",
   "execution_count": 33,
   "metadata": {},
   "outputs": [],
   "source": [
    "data = {\"dates\" : [],\n",
    "        \"values\" : [],\n",
    "        \"spike/deep\": []\n",
    "        }\n",
    "\n",
    "cap = cv2.VideoCapture(0)\n",
    "with mp_pose.Pose(min_detection_confidence=0.5, min_tracking_confidence=0.5) as pose:\n",
    "    counter = 0\n",
    "    iter = 0\n",
    "    while cap.isOpened():\n",
    "        ret, frame = cap.read()\n",
    "\n",
    "        image = cv2.cvtColor(frame, cv2.COLOR_BGR2RGB)\n",
    "        image.flags.writeable = False\n",
    "      \n",
    "        results = pose.process(image)\n",
    "\n",
    "        image.flags.writeable = True\n",
    "        image = cv2.cvtColor(image, cv2.COLOR_RGB2BGR)\n",
    "\n",
    "        #Extract landmarks\n",
    "        try:\n",
    "            landmarks = results.pose_landmarks.landmark\n",
    "        except:\n",
    "            pass\n",
    "\n",
    "\n",
    "        mp_drawing.draw_landmarks(image, results.pose_landmarks, mp_pose.POSE_CONNECTIONS,\n",
    "                                mp_drawing.DrawingSpec(color=(245,117,66), thickness=2, circle_radius=2), \n",
    "                                mp_drawing.DrawingSpec(color=(245,66,230), thickness=2, circle_radius=2) \n",
    "                                 )       \n",
    "\n",
    "\n",
    "        # Get coordinates\n",
    "        R_hip = [landmarks[mp_pose.PoseLandmark.RIGHT_HIP.value].x,landmarks[mp_pose.PoseLandmark.RIGHT_HIP.value].y]\n",
    "        R_knee = [landmarks[mp_pose.PoseLandmark.RIGHT_KNEE.value].x,landmarks[mp_pose.PoseLandmark.RIGHT_KNEE.value].y]\n",
    "        R_ankle = [landmarks[mp_pose.PoseLandmark.RIGHT_ANKLE.value].x,landmarks[mp_pose.PoseLandmark.RIGHT_ANKLE.value].y]\n",
    "        #Visibility Extraction\n",
    "        R_V = landmarks[mp_pose.PoseLandmark.RIGHT_HIP.value].visibility + landmarks[mp_pose.PoseLandmark.RIGHT_KNEE.value].visibility + landmarks[mp_pose.PoseLandmark.RIGHT_ANKLE.value].visibility\n",
    "        \n",
    "\n",
    "        L_hip = [landmarks[mp_pose.PoseLandmark.LEFT_HIP.value].x,landmarks[mp_pose.PoseLandmark.LEFT_HIP.value].y]\n",
    "        L_knee = [landmarks[mp_pose.PoseLandmark.LEFT_KNEE.value].x,landmarks[mp_pose.PoseLandmark.LEFT_KNEE.value].y]\n",
    "        L_ankle = [landmarks[mp_pose.PoseLandmark.LEFT_ANKLE.value].x,landmarks[mp_pose.PoseLandmark.LEFT_ANKLE.value].y]\n",
    "        #Visibility Extraction\n",
    "        L_V = landmarks[mp_pose.PoseLandmark.LEFT_HIP.value].visibility + landmarks[mp_pose.PoseLandmark.LEFT_KNEE.value].visibility + landmarks[mp_pose.PoseLandmark.LEFT_ANKLE.value].visibility\n",
    "               \n",
    "        if R_V > L_V:\n",
    "            angle = calculate_angle(R_hip, R_knee, R_ankle)\n",
    "        else:\n",
    "            angle = calculate_angle(L_hip, L_knee, L_ankle)\n",
    "        counter+=1\n",
    "\n",
    "                    # Visualize angle\n",
    "        cv2.putText(image, str(angle), \n",
    "                        #tuple(np.multiply(L_knee, [1280, 720]).astype(int)), \n",
    "                        tuple(np.multiply(L_knee, [640, 480]).astype(int)), \n",
    "                        cv2.FONT_HERSHEY_SIMPLEX, 0.5, (255, 255, 255), 2, cv2.LINE_AA\n",
    "\n",
    "                            )\n",
    "        if counter == 4:\n",
    "            counter = 0\n",
    "            iter += 1\n",
    "            \n",
    "            c = 0\n",
    "            avg_y = 0\n",
    "            for i in range(11):\n",
    "                if landmarks[i+11].visibility > 0.9:\n",
    "                    avg_y += landmarks[i+11].y\n",
    "                    c += 1\n",
    "            avg_y / c\n",
    "            \n",
    "\n",
    "            avg_y = (landmarks[11].y + landmarks[13].y + landmarks[15].y)/3\n",
    "\n",
    "            if angle > 160:\n",
    "                data[\"spike/deep\"].append(-1)\n",
    "                data[\"values\"].append(avg_y)\n",
    "                data[\"dates\"].append(datetime.today().strftime(\"%H:%M:%S:%f\"))\n",
    "            elif angle < 110:\n",
    "                data[\"spike/deep\"].append(1)\n",
    "                data[\"values\"].append(avg_y)\n",
    "                data[\"dates\"].append(datetime.today().strftime(\"%H:%M:%S:%f\"))\n",
    "            else:\n",
    "                data[\"spike/deep\"].append(0)\n",
    "                data[\"values\"].append(avg_y)\n",
    "                data[\"dates\"].append(datetime.today().strftime(\"%H:%M:%S:%f\"))\n",
    "                \n",
    "                \n",
    "        \n",
    "        cv2.imshow('Mediapipe Feed', image)\n",
    "        \n",
    "        if (cv2.waitKey(10) & 0xFF == ord('q') | (iter == 100)):\n",
    "            break\n",
    "\n",
    "    cap.release()\n",
    "    cv2.destroyAllWindows()"
   ]
  },
  {
   "cell_type": "code",
   "execution_count": 101,
   "metadata": {},
   "outputs": [],
   "source": [
    "df.to_csv(\"Squats_filtered.csv\" , index = False)"
   ]
  },
  {
   "cell_type": "code",
   "execution_count": 34,
   "metadata": {},
   "outputs": [],
   "source": [
    "#To Dataframe\n",
    "df_raw = pd.DataFrame(data = data)\n",
    "\n",
    "df_raw.to_csv(\"Squats.csv\" , index = False)\n",
    "df_raw = df_raw.drop(index=range(28))\n",
    "\n",
    "#without Outliers\n",
    "df = df_raw[(df_raw['values'] > df_raw['values'].quantile(q=0.75)) |\n",
    "            (df_raw['values'] < df_raw['values'].quantile(q=0.25)) ]"
   ]
  },
  {
   "cell_type": "code",
   "execution_count": 35,
   "metadata": {},
   "outputs": [
    {
     "data": {
      "text/plain": [
       "<AxesSubplot:xlabel='dates'>"
      ]
     },
     "execution_count": 35,
     "metadata": {},
     "output_type": "execute_result"
    }
   ],
   "source": [
    "%matplotlib qt\n",
    "df.plot(kind='line', y = \"values\", x = \"dates\", style='-o')\n",
    "df_raw.plot(kind='line', y = \"values\", x = \"dates\", style='-o')"
   ]
  },
  {
   "cell_type": "code",
   "execution_count": 61,
   "metadata": {},
   "outputs": [],
   "source": [
    "res = seasonal_decompose(df[\"values\"],model = \"additive\",period=7)\n",
    "res.plot();"
   ]
  },
  {
   "cell_type": "code",
   "execution_count": 72,
   "metadata": {},
   "outputs": [
    {
     "name": "stdout",
     "output_type": "stream",
     "text": [
      "Performing stepwise search to minimize aic\n",
      " ARIMA(2,0,2)(1,0,1)[7] intercept   : AIC=inf, Time=0.59 sec\n",
      " ARIMA(0,0,0)(0,0,0)[7] intercept   : AIC=-93.078, Time=0.04 sec\n",
      " ARIMA(1,0,0)(1,0,0)[7] intercept   : AIC=-134.395, Time=0.34 sec\n",
      " ARIMA(0,0,1)(0,0,1)[7] intercept   : AIC=-139.917, Time=0.13 sec\n",
      " ARIMA(0,0,0)(0,0,0)[7]             : AIC=112.607, Time=0.02 sec\n",
      " ARIMA(0,0,1)(0,0,0)[7] intercept   : AIC=-135.222, Time=0.04 sec\n",
      " ARIMA(0,0,1)(1,0,1)[7] intercept   : AIC=inf, Time=0.36 sec\n",
      " ARIMA(0,0,1)(0,0,2)[7] intercept   : AIC=-138.418, Time=0.33 sec\n",
      " ARIMA(0,0,1)(1,0,0)[7] intercept   : AIC=-138.366, Time=0.23 sec\n",
      " ARIMA(0,0,1)(1,0,2)[7] intercept   : AIC=inf, Time=0.51 sec\n",
      " ARIMA(0,0,0)(0,0,1)[7] intercept   : AIC=-102.209, Time=0.08 sec\n",
      " ARIMA(1,0,1)(0,0,1)[7] intercept   : AIC=-141.701, Time=0.22 sec\n",
      " ARIMA(1,0,1)(0,0,0)[7] intercept   : AIC=-140.067, Time=0.12 sec\n",
      " ARIMA(1,0,1)(1,0,1)[7] intercept   : AIC=inf, Time=0.43 sec\n",
      " ARIMA(1,0,1)(0,0,2)[7] intercept   : AIC=-139.857, Time=0.36 sec\n",
      " ARIMA(1,0,1)(1,0,0)[7] intercept   : AIC=-141.192, Time=0.25 sec\n",
      " ARIMA(1,0,1)(1,0,2)[7] intercept   : AIC=-139.224, Time=0.59 sec\n",
      " ARIMA(1,0,0)(0,0,1)[7] intercept   : AIC=-135.091, Time=0.12 sec\n",
      " ARIMA(2,0,1)(0,0,1)[7] intercept   : AIC=-153.003, Time=0.39 sec\n",
      " ARIMA(2,0,1)(0,0,0)[7] intercept   : AIC=-154.578, Time=0.19 sec\n",
      " ARIMA(2,0,1)(1,0,0)[7] intercept   : AIC=-153.385, Time=0.43 sec\n",
      " ARIMA(2,0,1)(1,0,1)[7] intercept   : AIC=inf, Time=0.46 sec\n",
      " ARIMA(2,0,0)(0,0,0)[7] intercept   : AIC=-145.135, Time=0.07 sec\n",
      " ARIMA(3,0,1)(0,0,0)[7] intercept   : AIC=-143.655, Time=0.28 sec\n",
      " ARIMA(2,0,2)(0,0,0)[7] intercept   : AIC=-141.401, Time=0.24 sec\n",
      " ARIMA(1,0,0)(0,0,0)[7] intercept   : AIC=-133.525, Time=0.05 sec\n",
      " ARIMA(1,0,2)(0,0,0)[7] intercept   : AIC=-143.397, Time=0.13 sec\n",
      " ARIMA(3,0,0)(0,0,0)[7] intercept   : AIC=-144.873, Time=0.09 sec\n",
      " ARIMA(3,0,2)(0,0,0)[7] intercept   : AIC=-151.027, Time=0.30 sec\n",
      " ARIMA(2,0,1)(0,0,0)[7]             : AIC=-106.675, Time=0.11 sec\n",
      "\n",
      "Best model:  ARIMA(2,0,1)(0,0,0)[7] intercept\n",
      "Total fit time: 7.503 seconds\n"
     ]
    },
    {
     "data": {
      "text/html": [
       "<table class=\"simpletable\">\n",
       "<caption>SARIMAX Results</caption>\n",
       "<tr>\n",
       "  <th>Dep. Variable:</th>           <td>y</td>        <th>  No. Observations:  </th>    <td>114</td>  \n",
       "</tr>\n",
       "<tr>\n",
       "  <th>Model:</th>           <td>SARIMAX(2, 0, 1)</td> <th>  Log Likelihood     </th>  <td>82.289</td> \n",
       "</tr>\n",
       "<tr>\n",
       "  <th>Date:</th>            <td>Sun, 05 Mar 2023</td> <th>  AIC                </th> <td>-154.578</td>\n",
       "</tr>\n",
       "<tr>\n",
       "  <th>Time:</th>                <td>19:41:48</td>     <th>  BIC                </th> <td>-140.897</td>\n",
       "</tr>\n",
       "<tr>\n",
       "  <th>Sample:</th>                  <td>0</td>        <th>  HQIC               </th> <td>-149.025</td>\n",
       "</tr>\n",
       "<tr>\n",
       "  <th></th>                      <td> - 114</td>      <th>                     </th>     <td> </td>   \n",
       "</tr>\n",
       "<tr>\n",
       "  <th>Covariance Type:</th>        <td>opg</td>       <th>                     </th>     <td> </td>   \n",
       "</tr>\n",
       "</table>\n",
       "<table class=\"simpletable\">\n",
       "<tr>\n",
       "      <td></td>         <th>coef</th>     <th>std err</th>      <th>z</th>      <th>P>|z|</th>  <th>[0.025</th>    <th>0.975]</th>  \n",
       "</tr>\n",
       "<tr>\n",
       "  <th>intercept</th> <td>    0.1207</td> <td>    0.032</td> <td>    3.829</td> <td> 0.000</td> <td>    0.059</td> <td>    0.183</td>\n",
       "</tr>\n",
       "<tr>\n",
       "  <th>ar.L1</th>     <td>    1.3417</td> <td>    0.159</td> <td>    8.424</td> <td> 0.000</td> <td>    1.030</td> <td>    1.654</td>\n",
       "</tr>\n",
       "<tr>\n",
       "  <th>ar.L2</th>     <td>   -0.6814</td> <td>    0.166</td> <td>   -4.114</td> <td> 0.000</td> <td>   -1.006</td> <td>   -0.357</td>\n",
       "</tr>\n",
       "<tr>\n",
       "  <th>ma.L1</th>     <td>   -0.7504</td> <td>    0.135</td> <td>   -5.548</td> <td> 0.000</td> <td>   -1.016</td> <td>   -0.485</td>\n",
       "</tr>\n",
       "<tr>\n",
       "  <th>sigma2</th>    <td>    0.0137</td> <td>    0.003</td> <td>    4.712</td> <td> 0.000</td> <td>    0.008</td> <td>    0.019</td>\n",
       "</tr>\n",
       "</table>\n",
       "<table class=\"simpletable\">\n",
       "<tr>\n",
       "  <th>Ljung-Box (L1) (Q):</th>     <td>0.00</td> <th>  Jarque-Bera (JB):  </th> <td>1.22</td> \n",
       "</tr>\n",
       "<tr>\n",
       "  <th>Prob(Q):</th>                <td>0.98</td> <th>  Prob(JB):          </th> <td>0.54</td> \n",
       "</tr>\n",
       "<tr>\n",
       "  <th>Heteroskedasticity (H):</th> <td>0.58</td> <th>  Skew:              </th> <td>-0.17</td>\n",
       "</tr>\n",
       "<tr>\n",
       "  <th>Prob(H) (two-sided):</th>    <td>0.10</td> <th>  Kurtosis:          </th> <td>2.62</td> \n",
       "</tr>\n",
       "</table><br/><br/>Warnings:<br/>[1] Covariance matrix calculated using the outer product of gradients (complex-step)."
      ],
      "text/plain": [
       "<class 'statsmodels.iolib.summary.Summary'>\n",
       "\"\"\"\n",
       "                               SARIMAX Results                                \n",
       "==============================================================================\n",
       "Dep. Variable:                      y   No. Observations:                  114\n",
       "Model:               SARIMAX(2, 0, 1)   Log Likelihood                  82.289\n",
       "Date:                Sun, 05 Mar 2023   AIC                           -154.578\n",
       "Time:                        19:41:48   BIC                           -140.897\n",
       "Sample:                             0   HQIC                          -149.025\n",
       "                                - 114                                         \n",
       "Covariance Type:                  opg                                         \n",
       "==============================================================================\n",
       "                 coef    std err          z      P>|z|      [0.025      0.975]\n",
       "------------------------------------------------------------------------------\n",
       "intercept      0.1207      0.032      3.829      0.000       0.059       0.183\n",
       "ar.L1          1.3417      0.159      8.424      0.000       1.030       1.654\n",
       "ar.L2         -0.6814      0.166     -4.114      0.000      -1.006      -0.357\n",
       "ma.L1         -0.7504      0.135     -5.548      0.000      -1.016      -0.485\n",
       "sigma2         0.0137      0.003      4.712      0.000       0.008       0.019\n",
       "===================================================================================\n",
       "Ljung-Box (L1) (Q):                   0.00   Jarque-Bera (JB):                 1.22\n",
       "Prob(Q):                              0.98   Prob(JB):                         0.54\n",
       "Heteroskedasticity (H):               0.58   Skew:                            -0.17\n",
       "Prob(H) (two-sided):                  0.10   Kurtosis:                         2.62\n",
       "===================================================================================\n",
       "\n",
       "Warnings:\n",
       "[1] Covariance matrix calculated using the outer product of gradients (complex-step).\n",
       "\"\"\""
      ]
     },
     "execution_count": 72,
     "metadata": {},
     "output_type": "execute_result"
    }
   ],
   "source": [
    "auto_arima(df[\"values\"], m=7, trace=True, seasonal=True).summary()"
   ]
  },
  {
   "cell_type": "code",
   "execution_count": 83,
   "metadata": {},
   "outputs": [
    {
     "name": "stderr",
     "output_type": "stream",
     "text": [
      "c:\\Users\\mosac\\anaconda3\\lib\\site-packages\\statsmodels\\tsa\\base\\tsa_model.py:471: ValueWarning: An unsupported index was provided and will be ignored when e.g. forecasting.\n",
      "  self._init_dates(dates, freq)\n",
      "c:\\Users\\mosac\\anaconda3\\lib\\site-packages\\statsmodels\\tsa\\base\\tsa_model.py:471: ValueWarning: An unsupported index was provided and will be ignored when e.g. forecasting.\n",
      "  self._init_dates(dates, freq)\n",
      "c:\\Users\\mosac\\anaconda3\\lib\\site-packages\\statsmodels\\tsa\\statespace\\sarimax.py:966: UserWarning: Non-stationary starting autoregressive parameters found. Using zeros as starting parameters.\n",
      "  warn('Non-stationary starting autoregressive parameters'\n",
      "c:\\Users\\mosac\\anaconda3\\lib\\site-packages\\statsmodels\\tsa\\statespace\\sarimax.py:978: UserWarning: Non-invertible starting MA parameters found. Using zeros as starting parameters.\n",
      "  warn('Non-invertible starting MA parameters found.'\n",
      "c:\\Users\\mosac\\anaconda3\\lib\\site-packages\\statsmodels\\tsa\\base\\tsa_model.py:834: ValueWarning: No supported index is available. Prediction results will be given with an integer index beginning at `start`.\n",
      "  return get_prediction_index(\n"
     ]
    },
    {
     "data": {
      "text/plain": [
       "<AxesSubplot:>"
      ]
     },
     "execution_count": 83,
     "metadata": {},
     "output_type": "execute_result"
    }
   ],
   "source": [
    "train_df = df.iloc[:80]\n",
    "test_df = df.iloc[80:]\n",
    "model = SARIMAX(train_df[\"values\"], order=(2, 0, 1))\n",
    "res = model.fit()\n",
    "start = len(train_df)\n",
    "end = len(train_df) + len(test_df) -1\n",
    "prediction = res.predict(start, end).rename(\"prediction\")\n",
    "ax = test_df[\"values\"].plot(legend=True,figsize=(16,8))\n",
    "prediction.plot(legend=True)\n"
   ]
  },
  {
   "cell_type": "code",
   "execution_count": 84,
   "metadata": {},
   "outputs": [
    {
     "name": "stdout",
     "output_type": "stream",
     "text": [
      "0.6646943137267131\n"
     ]
    }
   ],
   "source": [
    "from statsmodels.tools.eval_measures import rmse\n",
    "accuracy_no_deeps = 1- rmse(test_df[\"values\"], prediction)\n",
    "print(accuracy_no_deeps)"
   ]
  },
  {
   "cell_type": "code",
   "execution_count": 73,
   "metadata": {},
   "outputs": [
    {
     "name": "stdout",
     "output_type": "stream",
     "text": [
      "Performing stepwise search to minimize aic\n",
      " ARIMA(2,0,2)(1,0,1)[7] intercept   : AIC=inf, Time=0.63 sec\n",
      " ARIMA(0,0,0)(0,0,0)[7] intercept   : AIC=-93.078, Time=0.03 sec\n",
      " ARIMA(1,0,0)(1,0,0)[7] intercept   : AIC=-134.395, Time=0.33 sec\n",
      " ARIMA(0,0,1)(0,0,1)[7] intercept   : AIC=-139.917, Time=0.14 sec\n",
      " ARIMA(0,0,0)(0,0,0)[7]             : AIC=112.607, Time=0.02 sec\n",
      " ARIMA(0,0,1)(0,0,0)[7] intercept   : AIC=-135.222, Time=0.04 sec\n",
      " ARIMA(0,0,1)(1,0,1)[7] intercept   : AIC=inf, Time=0.36 sec\n",
      " ARIMA(0,0,1)(0,0,2)[7] intercept   : AIC=-138.418, Time=0.26 sec\n",
      " ARIMA(0,0,1)(1,0,0)[7] intercept   : AIC=-138.366, Time=0.23 sec\n",
      " ARIMA(0,0,1)(1,0,2)[7] intercept   : AIC=inf, Time=0.54 sec\n",
      " ARIMA(0,0,0)(0,0,1)[7] intercept   : AIC=-102.209, Time=0.08 sec\n",
      " ARIMA(1,0,1)(0,0,1)[7] intercept   : AIC=-141.701, Time=0.22 sec\n",
      " ARIMA(1,0,1)(0,0,0)[7] intercept   : AIC=-140.067, Time=0.17 sec\n",
      " ARIMA(1,0,1)(1,0,1)[7] intercept   : AIC=inf, Time=0.56 sec\n",
      " ARIMA(1,0,1)(0,0,2)[7] intercept   : AIC=-139.857, Time=0.40 sec\n",
      " ARIMA(1,0,1)(1,0,0)[7] intercept   : AIC=-141.192, Time=0.24 sec\n",
      " ARIMA(1,0,1)(1,0,2)[7] intercept   : AIC=-139.224, Time=0.59 sec\n",
      " ARIMA(1,0,0)(0,0,1)[7] intercept   : AIC=-135.091, Time=0.10 sec\n",
      " ARIMA(2,0,1)(0,0,1)[7] intercept   : AIC=-153.003, Time=0.37 sec\n",
      " ARIMA(2,0,1)(0,0,0)[7] intercept   : AIC=-154.578, Time=0.17 sec\n",
      " ARIMA(2,0,1)(1,0,0)[7] intercept   : AIC=-153.385, Time=0.48 sec\n",
      " ARIMA(2,0,1)(1,0,1)[7] intercept   : AIC=inf, Time=0.49 sec\n",
      " ARIMA(2,0,0)(0,0,0)[7] intercept   : AIC=-145.135, Time=0.07 sec\n",
      " ARIMA(3,0,1)(0,0,0)[7] intercept   : AIC=-143.655, Time=0.30 sec\n",
      " ARIMA(2,0,2)(0,0,0)[7] intercept   : AIC=-141.401, Time=0.26 sec\n",
      " ARIMA(1,0,0)(0,0,0)[7] intercept   : AIC=-133.525, Time=0.06 sec\n",
      " ARIMA(1,0,2)(0,0,0)[7] intercept   : AIC=-143.397, Time=0.14 sec\n",
      " ARIMA(3,0,0)(0,0,0)[7] intercept   : AIC=-144.873, Time=0.10 sec\n",
      " ARIMA(3,0,2)(0,0,0)[7] intercept   : AIC=-151.027, Time=0.34 sec\n",
      " ARIMA(2,0,1)(0,0,0)[7]             : AIC=-106.675, Time=0.12 sec\n",
      "\n",
      "Best model:  ARIMA(2,0,1)(0,0,0)[7] intercept\n",
      "Total fit time: 7.841 seconds\n"
     ]
    },
    {
     "data": {
      "text/html": [
       "<table class=\"simpletable\">\n",
       "<caption>SARIMAX Results</caption>\n",
       "<tr>\n",
       "  <th>Dep. Variable:</th>           <td>y</td>        <th>  No. Observations:  </th>    <td>114</td>  \n",
       "</tr>\n",
       "<tr>\n",
       "  <th>Model:</th>           <td>SARIMAX(2, 0, 1)</td> <th>  Log Likelihood     </th>  <td>82.289</td> \n",
       "</tr>\n",
       "<tr>\n",
       "  <th>Date:</th>            <td>Sun, 05 Mar 2023</td> <th>  AIC                </th> <td>-154.578</td>\n",
       "</tr>\n",
       "<tr>\n",
       "  <th>Time:</th>                <td>19:42:41</td>     <th>  BIC                </th> <td>-140.897</td>\n",
       "</tr>\n",
       "<tr>\n",
       "  <th>Sample:</th>                  <td>0</td>        <th>  HQIC               </th> <td>-149.025</td>\n",
       "</tr>\n",
       "<tr>\n",
       "  <th></th>                      <td> - 114</td>      <th>                     </th>     <td> </td>   \n",
       "</tr>\n",
       "<tr>\n",
       "  <th>Covariance Type:</th>        <td>opg</td>       <th>                     </th>     <td> </td>   \n",
       "</tr>\n",
       "</table>\n",
       "<table class=\"simpletable\">\n",
       "<tr>\n",
       "      <td></td>         <th>coef</th>     <th>std err</th>      <th>z</th>      <th>P>|z|</th>  <th>[0.025</th>    <th>0.975]</th>  \n",
       "</tr>\n",
       "<tr>\n",
       "  <th>intercept</th> <td>    0.1207</td> <td>    0.032</td> <td>    3.829</td> <td> 0.000</td> <td>    0.059</td> <td>    0.183</td>\n",
       "</tr>\n",
       "<tr>\n",
       "  <th>ar.L1</th>     <td>    1.3417</td> <td>    0.159</td> <td>    8.424</td> <td> 0.000</td> <td>    1.030</td> <td>    1.654</td>\n",
       "</tr>\n",
       "<tr>\n",
       "  <th>ar.L2</th>     <td>   -0.6814</td> <td>    0.166</td> <td>   -4.114</td> <td> 0.000</td> <td>   -1.006</td> <td>   -0.357</td>\n",
       "</tr>\n",
       "<tr>\n",
       "  <th>ma.L1</th>     <td>   -0.7504</td> <td>    0.135</td> <td>   -5.548</td> <td> 0.000</td> <td>   -1.016</td> <td>   -0.485</td>\n",
       "</tr>\n",
       "<tr>\n",
       "  <th>sigma2</th>    <td>    0.0137</td> <td>    0.003</td> <td>    4.712</td> <td> 0.000</td> <td>    0.008</td> <td>    0.019</td>\n",
       "</tr>\n",
       "</table>\n",
       "<table class=\"simpletable\">\n",
       "<tr>\n",
       "  <th>Ljung-Box (L1) (Q):</th>     <td>0.00</td> <th>  Jarque-Bera (JB):  </th> <td>1.22</td> \n",
       "</tr>\n",
       "<tr>\n",
       "  <th>Prob(Q):</th>                <td>0.98</td> <th>  Prob(JB):          </th> <td>0.54</td> \n",
       "</tr>\n",
       "<tr>\n",
       "  <th>Heteroskedasticity (H):</th> <td>0.58</td> <th>  Skew:              </th> <td>-0.17</td>\n",
       "</tr>\n",
       "<tr>\n",
       "  <th>Prob(H) (two-sided):</th>    <td>0.10</td> <th>  Kurtosis:          </th> <td>2.62</td> \n",
       "</tr>\n",
       "</table><br/><br/>Warnings:<br/>[1] Covariance matrix calculated using the outer product of gradients (complex-step)."
      ],
      "text/plain": [
       "<class 'statsmodels.iolib.summary.Summary'>\n",
       "\"\"\"\n",
       "                               SARIMAX Results                                \n",
       "==============================================================================\n",
       "Dep. Variable:                      y   No. Observations:                  114\n",
       "Model:               SARIMAX(2, 0, 1)   Log Likelihood                  82.289\n",
       "Date:                Sun, 05 Mar 2023   AIC                           -154.578\n",
       "Time:                        19:42:41   BIC                           -140.897\n",
       "Sample:                             0   HQIC                          -149.025\n",
       "                                - 114                                         \n",
       "Covariance Type:                  opg                                         \n",
       "==============================================================================\n",
       "                 coef    std err          z      P>|z|      [0.025      0.975]\n",
       "------------------------------------------------------------------------------\n",
       "intercept      0.1207      0.032      3.829      0.000       0.059       0.183\n",
       "ar.L1          1.3417      0.159      8.424      0.000       1.030       1.654\n",
       "ar.L2         -0.6814      0.166     -4.114      0.000      -1.006      -0.357\n",
       "ma.L1         -0.7504      0.135     -5.548      0.000      -1.016      -0.485\n",
       "sigma2         0.0137      0.003      4.712      0.000       0.008       0.019\n",
       "===================================================================================\n",
       "Ljung-Box (L1) (Q):                   0.00   Jarque-Bera (JB):                 1.22\n",
       "Prob(Q):                              0.98   Prob(JB):                         0.54\n",
       "Heteroskedasticity (H):               0.58   Skew:                            -0.17\n",
       "Prob(H) (two-sided):                  0.10   Kurtosis:                         2.62\n",
       "===================================================================================\n",
       "\n",
       "Warnings:\n",
       "[1] Covariance matrix calculated using the outer product of gradients (complex-step).\n",
       "\"\"\""
      ]
     },
     "execution_count": 73,
     "metadata": {},
     "output_type": "execute_result"
    }
   ],
   "source": [
    "auto_arima(df[\"values\"], exogenous=df[\"spike/deep\"], seasonal=True , m = 7, trace  =True).summary()"
   ]
  },
  {
   "cell_type": "code",
   "execution_count": 98,
   "metadata": {},
   "outputs": [
    {
     "name": "stderr",
     "output_type": "stream",
     "text": [
      "c:\\Users\\mosac\\anaconda3\\lib\\site-packages\\statsmodels\\tsa\\base\\tsa_model.py:471: ValueWarning: An unsupported index was provided and will be ignored when e.g. forecasting.\n",
      "  self._init_dates(dates, freq)\n",
      "c:\\Users\\mosac\\anaconda3\\lib\\site-packages\\statsmodels\\tsa\\base\\tsa_model.py:471: ValueWarning: An unsupported index was provided and will be ignored when e.g. forecasting.\n",
      "  self._init_dates(dates, freq)\n",
      "c:\\Users\\mosac\\anaconda3\\lib\\site-packages\\statsmodels\\tsa\\statespace\\sarimax.py:966: UserWarning: Non-stationary starting autoregressive parameters found. Using zeros as starting parameters.\n",
      "  warn('Non-stationary starting autoregressive parameters'\n",
      "c:\\Users\\mosac\\anaconda3\\lib\\site-packages\\statsmodels\\base\\model.py:604: ConvergenceWarning: Maximum Likelihood optimization failed to converge. Check mle_retvals\n",
      "  warnings.warn(\"Maximum Likelihood optimization failed to \"\n",
      "c:\\Users\\mosac\\anaconda3\\lib\\site-packages\\statsmodels\\tsa\\base\\tsa_model.py:834: ValueWarning: No supported index is available. Prediction results will be given with an integer index beginning at `start`.\n",
      "  return get_prediction_index(\n"
     ]
    },
    {
     "data": {
      "text/plain": [
       "<AxesSubplot:>"
      ]
     },
     "execution_count": 98,
     "metadata": {},
     "output_type": "execute_result"
    }
   ],
   "source": [
    "train_df = df.iloc[:80]\n",
    "test_df = df.iloc[80:]\n",
    "model = SARIMAX(endog=train_df[\"values\"], order=(2, 0, 1), exog=train_df[\"spike/deep\"])\n",
    "res = model.fit()\n",
    "start = len(train_df)\n",
    "end = len(train_df) + len(test_df) -1\n",
    "prediction = res.predict(start, end,exog = test_df[\"spike/deep\"]).rename(\"prediction\")\n",
    "ax = test_df[\"values\"].plot(legend=True,figsize=(16,8))\n",
    "prediction.plot(legend=True)"
   ]
  },
  {
   "cell_type": "code",
   "execution_count": 100,
   "metadata": {},
   "outputs": [
    {
     "data": {
      "text/plain": [
       "80     0.559652\n",
       "81     0.420653\n",
       "82     0.276963\n",
       "83     0.278831\n",
       "84     0.276496\n",
       "85     0.278139\n",
       "86     0.558251\n",
       "87     0.559694\n",
       "88     0.557763\n",
       "89     0.559026\n",
       "90     0.557265\n",
       "91     0.276133\n",
       "92     0.274526\n",
       "93     0.275484\n",
       "94     0.274014\n",
       "95     0.274842\n",
       "96     0.555730\n",
       "97     0.556442\n",
       "98     0.555206\n",
       "99     0.555815\n",
       "100    0.554678\n",
       "101    0.555194\n",
       "102    0.271912\n",
       "103    0.272344\n",
       "104    0.271375\n",
       "105    0.271733\n",
       "106    0.270836\n",
       "107    0.553361\n",
       "108    0.552528\n",
       "109    0.552759\n",
       "110    0.551983\n",
       "111    0.269927\n",
       "112    0.551436\n",
       "113    0.551567\n",
       "Name: prediction, dtype: float64"
      ]
     },
     "execution_count": 100,
     "metadata": {},
     "output_type": "execute_result"
    }
   ],
   "source": [
    "prediction"
   ]
  },
  {
   "cell_type": "code",
   "execution_count": 99,
   "metadata": {},
   "outputs": [
    {
     "name": "stdout",
     "output_type": "stream",
     "text": [
      "0.9173200783498131\n"
     ]
    }
   ],
   "source": [
    "accuracy = 1- rmse(test_df[\"values\"], prediction)\n",
    "print(accuracy)"
   ]
  },
  {
   "cell_type": "code",
   "execution_count": null,
   "metadata": {},
   "outputs": [],
   "source": [
    "order = (1, 1, 1)\n",
    "seasonal_order = (1, 1, 1, 12)\n",
    "\n",
    "# fit SARIMA model to time series\n",
    "model = sm.tsa.statespace.SARIMAX(df[\"values\"], order=order, seasonal_order=seasonal_order)\n",
    "results = model.fit()\n",
    "\n",
    "# make predictions for next 30 seconds (assuming last observation was at 15:20:30)\n",
    "start_time = df.index[-1] + 1\n",
    "end_time = start_time + 30\n",
    "forecast = results.predict(start=df.index[0], end=df.index[-1])\n",
    "df[\"forecast\"] = forecast\n",
    "print(forecast)"
   ]
  }
 ],
 "metadata": {
  "kernelspec": {
   "display_name": "base",
   "language": "python",
   "name": "python3"
  },
  "language_info": {
   "codemirror_mode": {
    "name": "ipython",
    "version": 3
   },
   "file_extension": ".py",
   "mimetype": "text/x-python",
   "name": "python",
   "nbconvert_exporter": "python",
   "pygments_lexer": "ipython3",
   "version": "3.9.13"
  },
  "orig_nbformat": 4,
  "vscode": {
   "interpreter": {
    "hash": "f5b67c9e65e85b062b109a88586b2b67e0addb02b929eef4fdc3d6408875abdd"
   }
  }
 },
 "nbformat": 4,
 "nbformat_minor": 2
}
