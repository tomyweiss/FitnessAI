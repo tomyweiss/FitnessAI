{
 "cells": [
  {
   "cell_type": "code",
   "execution_count": null,
   "metadata": {},
   "outputs": [
    {
     "ename": "",
     "evalue": "",
     "output_type": "error",
     "traceback": [
      "\u001b[1;31mRunning cells with 'base' requires ipykernel package.\n",
      "\u001b[1;31mRun the following command to install 'ipykernel' into the Python environment. \n",
      "\u001b[1;31mCommand: 'conda install -n base ipykernel --update-deps --force-reinstall'"
     ]
    }
   ],
   "source": [
    "import statsmodels.api as sm\n",
    "import numpy as np\n",
    "\n",
    "# Generate some time series data\n",
    "np.random.seed(123)\n",
    "n = 100\n",
    "data = np.random.normal(0, 1, n)\n",
    "\n",
    "# Seasonal difference the data\n",
    "diff_data = [data[i] - data[i-12] for i in range(12, n)]\n",
    "\n",
    "# Fit the SARIMA model\n",
    "model = sm.tsa.SARIMAX(data, order=(1,1,1), seasonal_order=(0,1,1,12))\n",
    "results = model.fit()\n",
    "\n",
    "# Make predictions\n",
    "predictions = results.get_prediction(start=90, end=100, dynamic=False)\n",
    "pred_conf = predictions.conf_int()\n",
    "\n",
    "# Plot the predictions\n",
    "import matplotlib.pyplot as plt\n",
    "plt.plot(data)\n",
    "plt.plot(predictions.predicted_mean, 'r', alpha=.5)\n",
    "plt.fill_between(pred_conf.index, pred_conf.iloc[:, 0], pred_conf.iloc[:, 1], color='r', alpha=.2)\n",
    "plt.show()"
   ]
  }
 ],
 "metadata": {
  "kernelspec": {
   "display_name": "base",
   "language": "python",
   "name": "python3"
  },
  "language_info": {
   "name": "python",
   "version": "3.9.13 (main, Aug 25 2022, 23:51:50) [MSC v.1916 64 bit (AMD64)]"
  },
  "orig_nbformat": 4,
  "vscode": {
   "interpreter": {
    "hash": "f5b67c9e65e85b062b109a88586b2b67e0addb02b929eef4fdc3d6408875abdd"
   }
  }
 },
 "nbformat": 4,
 "nbformat_minor": 2
}
