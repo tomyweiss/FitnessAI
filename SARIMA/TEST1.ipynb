{
 "cells": [
  {
   "cell_type": "code",
   "execution_count": 128,
   "metadata": {},
   "outputs": [],
   "source": [
    "import mediapipe as mp\n",
    "import cv2\n",
    "import numpy as np\n",
    "from  matplotlib import pyplot as plt\n",
    "import matplotlib.image as mpimg\n",
    "import pandas as pd\n",
    "mp_drawing = mp.solutions.drawing_utils\n",
    "mp_pose = mp.solutions.pose\n",
    "import datetime\n",
    "import pandas as pd\n",
    "from datetime import datetime"
   ]
  },
  {
   "cell_type": "code",
   "execution_count": 60,
   "metadata": {},
   "outputs": [],
   "source": [
    "data = {\"dates\" : [],\n",
    "        \"values\" : []\n",
    "        }"
   ]
  },
  {
   "cell_type": "code",
   "execution_count": 61,
   "metadata": {},
   "outputs": [],
   "source": [
    "cap = cv2.VideoCapture(0)\n",
    "with mp_pose.Pose(min_detection_confidence=0.5, min_tracking_confidence=0.5) as pose:\n",
    "    counter = 0\n",
    "    iter = 0\n",
    "    while cap.isOpened():\n",
    "        ret, frame = cap.read()\n",
    "\n",
    "        image = cv2.cvtColor(frame, cv2.COLOR_BGR2RGB)\n",
    "        image.flags.writeable = False\n",
    "      \n",
    "        results = pose.process(image)\n",
    "\n",
    "        image.flags.writeable = True\n",
    "        image = cv2.cvtColor(image, cv2.COLOR_RGB2BGR)\n",
    "\n",
    "        #Extract landmarks\n",
    "        try:\n",
    "            landmarks = results.pose_landmarks.landmark\n",
    "        except:\n",
    "            pass\n",
    "\n",
    "\n",
    "        mp_drawing.draw_landmarks(image, results.pose_landmarks, mp_pose.POSE_CONNECTIONS,\n",
    "                                mp_drawing.DrawingSpec(color=(245,117,66), thickness=2, circle_radius=2), \n",
    "                                mp_drawing.DrawingSpec(color=(245,66,230), thickness=2, circle_radius=2) \n",
    "                                 )          \n",
    "             \n",
    "        counter+=1\n",
    "\n",
    "        if counter == 5:\n",
    "            counter = 0\n",
    "            iter += 1\n",
    "            avg_y = (landmarks[15].y+landmarks[16].y+landmarks[17].y+landmarks[18].y+\n",
    "                        landmarks[19].y+landmarks[20].y+landmarks[21].y+landmarks[22].y)/8\n",
    "\n",
    "            data[\"values\"].append(avg_y)\n",
    "            data[\"dates\"].append(datetime.datetime.today().strftime(\"%d-%m-%y %H:%M:%S\"))\n",
    "            if iter == 180:\n",
    "                break\n",
    "        \n",
    "        cv2.imshow('Mediapipe Feed', image)\n",
    "        \n",
    "        if cv2.waitKey(10) & 0xFF == ord('q'):\n",
    "            break\n",
    "\n",
    "    cap.release()\n",
    "    cv2.destroyAllWindows()"
   ]
  },
  {
   "cell_type": "code",
   "execution_count": 103,
   "metadata": {},
   "outputs": [],
   "source": [
    "df_raw = pd.DataFrame(data = data)"
   ]
  },
  {
   "cell_type": "code",
   "execution_count": 64,
   "metadata": {},
   "outputs": [],
   "source": [
    "df_raw.to_csv(\"y_axis_bench.csv\" , index = False)"
   ]
  },
  {
   "cell_type": "code",
   "execution_count": 118,
   "metadata": {},
   "outputs": [
    {
     "data": {
      "text/plain": [
       "<AxesSubplot:xlabel='dates'>"
      ]
     },
     "execution_count": 118,
     "metadata": {},
     "output_type": "execute_result"
    }
   ],
   "source": [
    "df = df_raw[(df_raw['values'] > df_raw['values'].quantile(q=0.75)) |\n",
    "            (df_raw['values'] < df_raw['values'].quantile(q=0.25)) ]"
   ]
  },
  {
   "cell_type": "code",
   "execution_count": 257,
   "metadata": {},
   "outputs": [
    {
     "data": {
      "text/plain": [
       "<AxesSubplot:xlabel='dates'>"
      ]
     },
     "execution_count": 257,
     "metadata": {},
     "output_type": "execute_result"
    }
   ],
   "source": [
    "%matplotlib qt\n",
    "df.plot(kind='line', y = \"values\", x = \"dates\", style='-o')\n",
    "df_raw.plot(kind='line', y = \"values\", x = \"dates\", style='-o')"
   ]
  },
  {
   "cell_type": "code",
   "execution_count": 266,
   "metadata": {},
   "outputs": [
    {
     "name": "stdout",
     "output_type": "stream",
     "text": [
      "[1, 1, 2, 5, 2, 1, 1, 1, 1, 5, 2, 4, 2, 4, 3, 1, 3, 4, 4, 3, 3, 4]\n"
     ]
    },
    {
     "name": "stderr",
     "output_type": "stream",
     "text": [
      "C:\\Users\\mosac\\AppData\\Local\\Temp\\ipykernel_15096\\1774298178.py:3: SettingWithCopyWarning: \n",
      "A value is trying to be set on a copy of a slice from a DataFrame.\n",
      "Try using .loc[row_indexer,col_indexer] = value instead\n",
      "\n",
      "See the caveats in the documentation: https://pandas.pydata.org/pandas-docs/stable/user_guide/indexing.html#returning-a-view-versus-a-copy\n",
      "  df['Speed'] = df['values'].diff() / df['values'].count()\n",
      "C:\\Users\\mosac\\AppData\\Local\\Temp\\ipykernel_15096\\1774298178.py:5: SettingWithCopyWarning: \n",
      "A value is trying to be set on a copy of a slice from a DataFrame.\n",
      "Try using .loc[row_indexer,col_indexer] = value instead\n",
      "\n",
      "See the caveats in the documentation: https://pandas.pydata.org/pandas-docs/stable/user_guide/indexing.html#returning-a-view-versus-a-copy\n",
      "  df['Rest_Time'] = times.diff()\n",
      "C:\\Users\\mosac\\AppData\\Local\\Temp\\ipykernel_15096\\1774298178.py:6: SettingWithCopyWarning: \n",
      "A value is trying to be set on a copy of a slice from a DataFrame.\n",
      "Try using .loc[row_indexer,col_indexer] = value instead\n",
      "\n",
      "See the caveats in the documentation: https://pandas.pydata.org/pandas-docs/stable/user_guide/indexing.html#returning-a-view-versus-a-copy\n",
      "  df['Intensity'] = (df['Speed'] + df['values']) / 2\n",
      "C:\\Users\\mosac\\AppData\\Local\\Temp\\ipykernel_15096\\1774298178.py:7: SettingWithCopyWarning: \n",
      "A value is trying to be set on a copy of a slice from a DataFrame.\n",
      "Try using .loc[row_indexer,col_indexer] = value instead\n",
      "\n",
      "See the caveats in the documentation: https://pandas.pydata.org/pandas-docs/stable/user_guide/indexing.html#returning-a-view-versus-a-copy\n",
      "  df['Fatigue'] = df['Intensity'].diff()\n"
     ]
    }
   ],
   "source": [
    "\n",
    "import math\n",
    "\n",
    "df['Speed'] = df['values'].diff() / df['values'].count()\n",
    "times = pd.Series(datetime.strptime(df['dates'][0],\"%d-%m-%y %H:%M:%S\"))\n",
    "df['Rest_Time'] = times.diff()\n",
    "df['Intensity'] = (df['Speed'] + df['values']) / 2\n",
    "df['Fatigue'] = df['Intensity'].diff()\n",
    "\n",
    "s = df['Speed'].values\n",
    "\n",
    "results = []\n",
    "counter = 0\n",
    "for i in range(len(s)-1):\n",
    "    s[i] *= 100000\n",
    "    if math.isnan(s[i]):\n",
    "        s[i] = 0\n",
    "    if abs(s[i]) < 60:\n",
    "        counter+=1\n",
    "    else:\n",
    "        if abs(s[i-1]) < 60 :\n",
    "            results.append(counter)\n",
    "            counter=0\n",
    "\n",
    "print(results)"
   ]
  },
  {
   "cell_type": "code",
   "execution_count": 264,
   "metadata": {},
   "outputs": [
    {
     "data": {
      "text/plain": [
       "[1, 1, 2, 5, 2, 1, 1, 1, 1, 5, 2, 4, 2, 4, 3, 1, 3, 4, 4, 3, 3, 4]"
      ]
     },
     "execution_count": 264,
     "metadata": {},
     "output_type": "execute_result"
    }
   ],
   "source": [
    "results"
   ]
  }
 ],
 "metadata": {
  "kernelspec": {
   "display_name": "base",
   "language": "python",
   "name": "python3"
  },
  "language_info": {
   "codemirror_mode": {
    "name": "ipython",
    "version": 3
   },
   "file_extension": ".py",
   "mimetype": "text/x-python",
   "name": "python",
   "nbconvert_exporter": "python",
   "pygments_lexer": "ipython3",
   "version": "3.9.13"
  },
  "orig_nbformat": 4,
  "vscode": {
   "interpreter": {
    "hash": "f5b67c9e65e85b062b109a88586b2b67e0addb02b929eef4fdc3d6408875abdd"
   }
  }
 },
 "nbformat": 4,
 "nbformat_minor": 2
}
