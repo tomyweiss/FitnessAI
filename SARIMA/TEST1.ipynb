{
 "cells": [
  {
   "cell_type": "code",
   "execution_count": 128,
   "metadata": {},
   "outputs": [],
   "source": [
    "import mediapipe as mp\n",
    "import cv2\n",
    "import numpy as np\n",
    "from  matplotlib import pyplot as plt\n",
    "import matplotlib.image as mpimg\n",
    "import pandas as pd\n",
    "mp_drawing = mp.solutions.drawing_utils\n",
    "mp_pose = mp.solutions.pose\n",
    "import datetime\n",
    "import pandas as pd\n",
    "from datetime import datetime"
   ]
  },
  {
   "cell_type": "code",
   "execution_count": 60,
   "metadata": {},
   "outputs": [],
   "source": [
    "data = {\"dates\" : [],\n",
    "        \"values\" : []\n",
    "        }"
   ]
  },
  {
   "cell_type": "code",
   "execution_count": 61,
   "metadata": {},
   "outputs": [],
   "source": [
    "cap = cv2.VideoCapture(0)\n",
    "with mp_pose.Pose(min_detection_confidence=0.5, min_tracking_confidence=0.5) as pose:\n",
    "    counter = 0\n",
    "    iter = 0\n",
    "    while cap.isOpened():\n",
    "        ret, frame = cap.read()\n",
    "\n",
    "        image = cv2.cvtColor(frame, cv2.COLOR_BGR2RGB)\n",
    "        image.flags.writeable = False\n",
    "      \n",
    "        results = pose.process(image)\n",
    "\n",
    "        image.flags.writeable = True\n",
    "        image = cv2.cvtColor(image, cv2.COLOR_RGB2BGR)\n",
    "\n",
    "        #Extract landmarks\n",
    "        try:\n",
    "            landmarks = results.pose_landmarks.landmark\n",
    "        except:\n",
    "            pass\n",
    "\n",
    "\n",
    "        mp_drawing.draw_landmarks(image, results.pose_landmarks, mp_pose.POSE_CONNECTIONS,\n",
    "                                mp_drawing.DrawingSpec(color=(245,117,66), thickness=2, circle_radius=2), \n",
    "                                mp_drawing.DrawingSpec(color=(245,66,230), thickness=2, circle_radius=2) \n",
    "                                 )          \n",
    "             \n",
    "        counter+=1\n",
    "\n",
    "        if counter == 5:\n",
    "            counter = 0\n",
    "            iter += 1\n",
    "            avg_y = (landmarks[15].y+landmarks[16].y+landmarks[17].y+landmarks[18].y+\n",
    "                        landmarks[19].y+landmarks[20].y+landmarks[21].y+landmarks[22].y)/8\n",
    "\n",
    "            data[\"values\"].append(avg_y)\n",
    "            data[\"dates\"].append(datetime.datetime.today().strftime(\"%d-%m-%y %H:%M:%S\"))\n",
    "            if iter == 180:\n",
    "                break\n",
    "        \n",
    "        cv2.imshow('Mediapipe Feed', image)\n",
    "        \n",
    "        if cv2.waitKey(10) & 0xFF == ord('q'):\n",
    "            break\n",
    "\n",
    "    cap.release()\n",
    "    cv2.destroyAllWindows()"
   ]
  },
  {
   "cell_type": "code",
   "execution_count": 103,
   "metadata": {},
   "outputs": [],
   "source": [
    "df_raw = pd.DataFrame(data = data)"
   ]
  },
  {
   "cell_type": "code",
   "execution_count": 64,
   "metadata": {},
   "outputs": [],
   "source": [
    "df_raw.to_csv(\"y_axis_bench.csv\" , index = False)"
   ]
  },
  {
   "cell_type": "code",
   "execution_count": 118,
   "metadata": {},
   "outputs": [
    {
     "data": {
      "text/plain": [
       "<AxesSubplot:xlabel='dates'>"
      ]
     },
     "execution_count": 118,
     "metadata": {},
     "output_type": "execute_result"
    }
   ],
   "source": [
    "df = df_raw[(df_raw['values'] > df_raw['values'].quantile(q=0.75)) |\n",
    "            (df_raw['values'] < df_raw['values'].quantile(q=0.25)) ]"
   ]
  },
  {
   "cell_type": "code",
   "execution_count": 257,
   "metadata": {},
   "outputs": [
    {
     "data": {
      "text/plain": [
       "<AxesSubplot:xlabel='dates'>"
      ]
     },
     "execution_count": 257,
     "metadata": {},
     "output_type": "execute_result"
    }
   ],
   "source": [
    "%matplotlib qt\n",
    "df.plot(kind='line', y = \"values\", x = \"dates\", style='-o')\n",
    "df_raw.plot(kind='line', y = \"values\", x = \"dates\", style='-o')"
   ]
  },
  {
   "cell_type": "code",
   "execution_count": 266,
   "metadata": {},
   "outputs": [
    {
     "name": "stdout",
     "output_type": "stream",
     "text": [
      "[1, 1, 2, 5, 2, 1, 1, 1, 1, 5, 2, 4, 2, 4, 3, 1, 3, 4, 4, 3, 3, 4]\n"
     ]
    },
    {
     "name": "stderr",
     "output_type": "stream",
     "text": [
      "C:\\Users\\mosac\\AppData\\Local\\Temp\\ipykernel_15096\\1774298178.py:3: SettingWithCopyWarning: \n",
      "A value is trying to be set on a copy of a slice from a DataFrame.\n",
      "Try using .loc[row_indexer,col_indexer] = value instead\n",
      "\n",
      "See the caveats in the documentation: https://pandas.pydata.org/pandas-docs/stable/user_guide/indexing.html#returning-a-view-versus-a-copy\n",
      "  df['Speed'] = df['values'].diff() / df['values'].count()\n",
      "C:\\Users\\mosac\\AppData\\Local\\Temp\\ipykernel_15096\\1774298178.py:5: SettingWithCopyWarning: \n",
      "A value is trying to be set on a copy of a slice from a DataFrame.\n",
      "Try using .loc[row_indexer,col_indexer] = value instead\n",
      "\n",
      "See the caveats in the documentation: https://pandas.pydata.org/pandas-docs/stable/user_guide/indexing.html#returning-a-view-versus-a-copy\n",
      "  df['Rest_Time'] = times.diff()\n",
      "C:\\Users\\mosac\\AppData\\Local\\Temp\\ipykernel_15096\\1774298178.py:6: SettingWithCopyWarning: \n",
      "A value is trying to be set on a copy of a slice from a DataFrame.\n",
      "Try using .loc[row_indexer,col_indexer] = value instead\n",
      "\n",
      "See the caveats in the documentation: https://pandas.pydata.org/pandas-docs/stable/user_guide/indexing.html#returning-a-view-versus-a-copy\n",
      "  df['Intensity'] = (df['Speed'] + df['values']) / 2\n",
      "C:\\Users\\mosac\\AppData\\Local\\Temp\\ipykernel_15096\\1774298178.py:7: SettingWithCopyWarning: \n",
      "A value is trying to be set on a copy of a slice from a DataFrame.\n",
      "Try using .loc[row_indexer,col_indexer] = value instead\n",
      "\n",
      "See the caveats in the documentation: https://pandas.pydata.org/pandas-docs/stable/user_guide/indexing.html#returning-a-view-versus-a-copy\n",
      "  df['Fatigue'] = df['Intensity'].diff()\n"
     ]
    }
   ],
   "source": [
    "\n",
    "import math\n",
    "\n",
    "df['Speed'] = df['values'].diff() / df['values'].count()\n",
    "times = pd.Series(datetime.strptime(df['dates'][0],\"%d-%m-%y %H:%M:%S\"))\n",
    "df['Rest_Time'] = times.diff()\n",
    "df['Intensity'] = (df['Speed'] + df['values']) / 2\n",
    "df['Fatigue'] = df['Intensity'].diff()\n",
    "\n",
    "s = df['Speed'].values\n",
    "\n",
    "results = []\n",
    "counter = 0\n",
    "for i in range(len(s)-1):\n",
    "    s[i] *= 100000\n",
    "    if math.isnan(s[i]):\n",
    "        s[i] = 0\n",
    "    if abs(s[i]) < 60:\n",
    "        counter+=1\n",
    "    else:\n",
    "        if abs(s[i-1]) < 60 :\n",
    "            results.append(counter)\n",
    "            counter=0\n",
    "\n",
    "print(results)"
   ]
  },
  {
   "cell_type": "code",
   "execution_count": 264,
   "metadata": {},
   "outputs": [
    {
     "data": {
      "text/plain": [
       "[1, 1, 2, 5, 2, 1, 1, 1, 1, 5, 2, 4, 2, 4, 3, 1, 3, 4, 4, 3, 3, 4]"
      ]
     },
     "execution_count": 264,
     "metadata": {},
     "output_type": "execute_result"
    }
   ],
   "source": [
    "results"
   ]
  },
  {
   "cell_type": "code",
   "execution_count": 268,
   "metadata": {},
   "outputs": [
    {
     "data": {
      "text/html": [
       "<div>\n",
       "<style scoped>\n",
       "    .dataframe tbody tr th:only-of-type {\n",
       "        vertical-align: middle;\n",
       "    }\n",
       "\n",
       "    .dataframe tbody tr th {\n",
       "        vertical-align: top;\n",
       "    }\n",
       "\n",
       "    .dataframe thead th {\n",
       "        text-align: right;\n",
       "    }\n",
       "</style>\n",
       "<table border=\"1\" class=\"dataframe\">\n",
       "  <thead>\n",
       "    <tr style=\"text-align: right;\">\n",
       "      <th></th>\n",
       "      <th>dates</th>\n",
       "      <th>values</th>\n",
       "      <th>Speed</th>\n",
       "      <th>Rest_Time</th>\n",
       "      <th>Intensity</th>\n",
       "      <th>Fatigue</th>\n",
       "    </tr>\n",
       "  </thead>\n",
       "  <tbody>\n",
       "    <tr>\n",
       "      <th>0</th>\n",
       "      <td>12-02-23 10:34:42</td>\n",
       "      <td>0.692126</td>\n",
       "      <td>0.000000</td>\n",
       "      <td>NaT</td>\n",
       "      <td>NaN</td>\n",
       "      <td>NaN</td>\n",
       "    </tr>\n",
       "    <tr>\n",
       "      <th>2</th>\n",
       "      <td>12-02-23 10:34:42</td>\n",
       "      <td>0.588290</td>\n",
       "      <td>-115.373848</td>\n",
       "      <td>NaT</td>\n",
       "      <td>0.293568</td>\n",
       "      <td>NaN</td>\n",
       "    </tr>\n",
       "    <tr>\n",
       "      <th>3</th>\n",
       "      <td>12-02-23 10:34:43</td>\n",
       "      <td>0.577750</td>\n",
       "      <td>-11.710767</td>\n",
       "      <td>NaT</td>\n",
       "      <td>0.288817</td>\n",
       "      <td>-0.004752</td>\n",
       "    </tr>\n",
       "    <tr>\n",
       "      <th>5</th>\n",
       "      <td>12-02-23 10:34:43</td>\n",
       "      <td>0.442471</td>\n",
       "      <td>-150.310798</td>\n",
       "      <td>NaT</td>\n",
       "      <td>0.220484</td>\n",
       "      <td>-0.068333</td>\n",
       "    </tr>\n",
       "    <tr>\n",
       "      <th>6</th>\n",
       "      <td>12-02-23 10:34:44</td>\n",
       "      <td>0.402356</td>\n",
       "      <td>-44.571216</td>\n",
       "      <td>NaT</td>\n",
       "      <td>0.200955</td>\n",
       "      <td>-0.019528</td>\n",
       "    </tr>\n",
       "    <tr>\n",
       "      <th>...</th>\n",
       "      <td>...</td>\n",
       "      <td>...</td>\n",
       "      <td>...</td>\n",
       "      <td>...</td>\n",
       "      <td>...</td>\n",
       "      <td>...</td>\n",
       "    </tr>\n",
       "    <tr>\n",
       "      <th>175</th>\n",
       "      <td>12-02-23 10:35:33</td>\n",
       "      <td>0.437713</td>\n",
       "      <td>2.748352</td>\n",
       "      <td>NaT</td>\n",
       "      <td>0.218870</td>\n",
       "      <td>0.001259</td>\n",
       "    </tr>\n",
       "    <tr>\n",
       "      <th>176</th>\n",
       "      <td>12-02-23 10:35:34</td>\n",
       "      <td>0.434830</td>\n",
       "      <td>-3.203327</td>\n",
       "      <td>NaT</td>\n",
       "      <td>0.217399</td>\n",
       "      <td>-0.001471</td>\n",
       "    </tr>\n",
       "    <tr>\n",
       "      <th>177</th>\n",
       "      <td>12-02-23 10:35:34</td>\n",
       "      <td>0.435694</td>\n",
       "      <td>0.959105</td>\n",
       "      <td>NaT</td>\n",
       "      <td>0.217852</td>\n",
       "      <td>0.000452</td>\n",
       "    </tr>\n",
       "    <tr>\n",
       "      <th>178</th>\n",
       "      <td>12-02-23 10:35:34</td>\n",
       "      <td>0.439504</td>\n",
       "      <td>4.234137</td>\n",
       "      <td>NaT</td>\n",
       "      <td>0.219773</td>\n",
       "      <td>0.001922</td>\n",
       "    </tr>\n",
       "    <tr>\n",
       "      <th>179</th>\n",
       "      <td>12-02-23 10:35:35</td>\n",
       "      <td>0.448614</td>\n",
       "      <td>0.000101</td>\n",
       "      <td>NaT</td>\n",
       "      <td>0.224358</td>\n",
       "      <td>0.004584</td>\n",
       "    </tr>\n",
       "  </tbody>\n",
       "</table>\n",
       "<p>90 rows × 6 columns</p>\n",
       "</div>"
      ],
      "text/plain": [
       "                 dates    values       Speed Rest_Time  Intensity   Fatigue\n",
       "0    12-02-23 10:34:42  0.692126    0.000000       NaT        NaN       NaN\n",
       "2    12-02-23 10:34:42  0.588290 -115.373848       NaT   0.293568       NaN\n",
       "3    12-02-23 10:34:43  0.577750  -11.710767       NaT   0.288817 -0.004752\n",
       "5    12-02-23 10:34:43  0.442471 -150.310798       NaT   0.220484 -0.068333\n",
       "6    12-02-23 10:34:44  0.402356  -44.571216       NaT   0.200955 -0.019528\n",
       "..                 ...       ...         ...       ...        ...       ...\n",
       "175  12-02-23 10:35:33  0.437713    2.748352       NaT   0.218870  0.001259\n",
       "176  12-02-23 10:35:34  0.434830   -3.203327       NaT   0.217399 -0.001471\n",
       "177  12-02-23 10:35:34  0.435694    0.959105       NaT   0.217852  0.000452\n",
       "178  12-02-23 10:35:34  0.439504    4.234137       NaT   0.219773  0.001922\n",
       "179  12-02-23 10:35:35  0.448614    0.000101       NaT   0.224358  0.004584\n",
       "\n",
       "[90 rows x 6 columns]"
      ]
     },
     "execution_count": 268,
     "metadata": {},
     "output_type": "execute_result"
    }
   ],
   "source": [
    "df"
   ]
  }
 ],
 "metadata": {
  "kernelspec": {
   "display_name": "base",
   "language": "python",
   "name": "python3"
  },
  "language_info": {
   "codemirror_mode": {
    "name": "ipython",
    "version": 3
   },
   "file_extension": ".py",
   "mimetype": "text/x-python",
   "name": "python",
   "nbconvert_exporter": "python",
   "pygments_lexer": "ipython3",
   "version": "3.9.13"
  },
  "orig_nbformat": 4,
  "vscode": {
   "interpreter": {
    "hash": "f5b67c9e65e85b062b109a88586b2b67e0addb02b929eef4fdc3d6408875abdd"
   }
  }
 },
 "nbformat": 4,
 "nbformat_minor": 2
}
