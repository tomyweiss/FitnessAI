{
 "cells": [
  {
   "cell_type": "code",
   "execution_count": null,
   "metadata": {},
   "outputs": [],
   "source": [
    "#%pip install xgboost"
   ]
  },
  {
   "attachments": {},
   "cell_type": "markdown",
   "metadata": {},
   "source": [
    "Collecting xgboost\n",
    "  Downloading xgboost-1.7.3-py3-none-win_amd64.whl (89.1 MB)\n",
    "     --------------------------------------- 89.1/89.1 MB 12.8 MB/s eta 0:00:00\n",
    "Requirement already satisfied: numpy in c:\\users\\mosac\\anaconda3\\lib\\site-packages (from xgboost) (1.21.5)\n",
    "Requirement already satisfied: scipy in c:\\users\\mosac\\anaconda3\\lib\\site-packages (from xgboost) (1.9.1)\n",
    "Installing collected packages: xgboost\n",
    "Successfully installed xgboost-1.7.3\n",
    "Note: you may need to restart the kernel to use updated packages."
   ]
  },
  {
   "cell_type": "code",
   "execution_count": null,
   "metadata": {},
   "outputs": [],
   "source": []
  }
 ],
 "metadata": {
  "language_info": {
   "name": "python"
  },
  "orig_nbformat": 4
 },
 "nbformat": 4,
 "nbformat_minor": 2
}
