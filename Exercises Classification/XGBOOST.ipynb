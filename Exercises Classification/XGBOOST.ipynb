{
 "cells": [
  {
   "cell_type": "code",
   "execution_count": null,
   "metadata": {},
   "outputs": [],
   "source": [
    "#%pip install xgboost"
   ]
  },
  {
   "attachments": {},
   "cell_type": "markdown",
   "metadata": {},
   "source": [
    "Collecting xgboost\n",
    "  Downloading xgboost-1.7.3-py3-none-win_amd64.whl (89.1 MB)\n",
    "     --------------------------------------- 89.1/89.1 MB 12.8 MB/s eta 0:00:00\n",
    "Requirement already satisfied: numpy in c:\\users\\mosac\\anaconda3\\lib\\site-packages (from xgboost) (1.21.5)\n",
    "Requirement already satisfied: scipy in c:\\users\\mosac\\anaconda3\\lib\\site-packages (from xgboost) (1.9.1)\n",
    "Installing collected packages: xgboost\n",
    "Successfully installed xgboost-1.7.3\n",
    "Note: you may need to restart the kernel to use updated packages."
   ]
  },
  {
   "cell_type": "code",
   "execution_count": null,
   "metadata": {},
   "outputs": [],
   "source": [
    "%pip install opencv-python"
   ]
  },
  {
   "attachments": {},
   "cell_type": "markdown",
   "metadata": {},
   "source": [
    "Defaulting to user installation because normal site-packages is not writeable\n",
    "Collecting opencv-python\n",
    "  Downloading opencv_python-4.7.0.68-cp37-abi3-macosx_11_0_arm64.whl (31.1 MB)\n",
    "     |████████████████████████████████| 31.1 MB 15.1 MB/s eta 0:00:01\n",
    "Requirement already satisfied: numpy>=1.21.0 in /Users/rotemcohen/Library/Python/3.9/lib/python/site-packages (from opencv-python) (1.23.5)\n",
    "Installing collected packages: opencv-python\n",
    "Successfully installed opencv-python-4.7.0.68\n",
    "WARNING: You are using pip version 21.2.4; however, version 23.0 is available.\n",
    "You should consider upgrading via the '/Library/Developer/CommandLineTools/usr/bin/python3 -m pip install --upgrade pip' command.\n",
    "Note: you may need to restart the kernel to use updated packages."
   ]
  },
  {
   "cell_type": "code",
   "execution_count": null,
   "metadata": {},
   "outputs": [],
   "source": [
    "%pip install mediapipe "
   ]
  },
  {
   "cell_type": "markdown",
   "metadata": {},
   "source": []
  },
  {
   "cell_type": "code",
   "execution_count": null,
   "metadata": {},
   "outputs": [],
   "source": [
    "import mediapipe as mp\n",
    "import cv2\n",
    "import numpy as np\n",
    "from  matplotlib import pyplot as plt\n",
    "import matplotlib.image as mpimg\n",
    "import pandas as pd\n",
    "from  xgboost import XGBClassifier\n",
    "import xgboost\n",
    "from sklearn.metrics import r2_score\n",
    "import os\n",
    "from sklearn.preprocessing import LabelEncoder\n",
    "from sklearn.model_selection import train_test_split\n",
    "from sklearn.metrics import accuracy_score\n",
    "mp_drawing = mp.solutions.drawing_utils\n",
    "mp_pose = mp.solutions.pose"
   ]
  }
 ],
 "metadata": {
  "language_info": {
   "name": "python"
  },
  "orig_nbformat": 4
 },
 "nbformat": 4,
 "nbformat_minor": 2
}
