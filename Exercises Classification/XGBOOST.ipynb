{
 "cells": [
  {
   "cell_type": "code",
   "execution_count": 24,
   "metadata": {},
   "outputs": [
    {
     "name": "stdout",
     "output_type": "stream",
     "text": [
      "Requirement already satisfied: xgboost in c:\\users\\orel\\appdata\\local\\packages\\pythonsoftwarefoundation.python.3.10_qbz5n2kfra8p0\\localcache\\local-packages\\python310\\site-packages (1.7.4)\n",
      "Requirement already satisfied: scipy in c:\\users\\orel\\appdata\\local\\packages\\pythonsoftwarefoundation.python.3.10_qbz5n2kfra8p0\\localcache\\local-packages\\python310\\site-packages (from xgboost) (1.10.1)\n",
      "Requirement already satisfied: numpy in c:\\users\\orel\\appdata\\local\\packages\\pythonsoftwarefoundation.python.3.10_qbz5n2kfra8p0\\localcache\\local-packages\\python310\\site-packages (from xgboost) (1.24.1)\n",
      "Note: you may need to restart the kernel to use updated packages.\n"
     ]
    },
    {
     "name": "stderr",
     "output_type": "stream",
     "text": [
      "\n",
      "[notice] A new release of pip available: 22.3.1 -> 23.0.1\n",
      "[notice] To update, run: C:\\Users\\Orel\\AppData\\Local\\Microsoft\\WindowsApps\\PythonSoftwareFoundation.Python.3.10_qbz5n2kfra8p0\\python.exe -m pip install --upgrade pip\n"
     ]
    }
   ],
   "source": [
    "%pip install xgboost"
   ]
  },
  {
   "attachments": {},
   "cell_type": "markdown",
   "metadata": {},
   "source": [
    "Collecting xgboost\n",
    "  Downloading xgboost-1.7.3-py3-none-win_amd64.whl (89.1 MB)\n",
    "     --------------------------------------- 89.1/89.1 MB 12.8 MB/s eta 0:00:00\n",
    "Requirement already satisfied: numpy in c:\\users\\mosac\\anaconda3\\lib\\site-packages (from xgboost) (1.21.5)\n",
    "Requirement already satisfied: scipy in c:\\users\\mosac\\anaconda3\\lib\\site-packages (from xgboost) (1.9.1)\n",
    "Installing collected packages: xgboost\n",
    "Successfully installed xgboost-1.7.3\n",
    "Note: you may need to restart the kernel to use updated packages."
   ]
  },
  {
   "cell_type": "code",
   "execution_count": 25,
   "metadata": {},
   "outputs": [
    {
     "name": "stdout",
     "output_type": "stream",
     "text": [
      "Requirement already satisfied: opencv-python in c:\\users\\orel\\appdata\\local\\packages\\pythonsoftwarefoundation.python.3.10_qbz5n2kfra8p0\\localcache\\local-packages\\python310\\site-packages (4.7.0.68)Note: you may need to restart the kernel to use updated packages.\n",
      "\n",
      "Requirement already satisfied: numpy>=1.17.0 in c:\\users\\orel\\appdata\\local\\packages\\pythonsoftwarefoundation.python.3.10_qbz5n2kfra8p0\\localcache\\local-packages\\python310\\site-packages (from opencv-python) (1.24.1)\n"
     ]
    },
    {
     "name": "stderr",
     "output_type": "stream",
     "text": [
      "\n",
      "[notice] A new release of pip available: 22.3.1 -> 23.0.1\n",
      "[notice] To update, run: C:\\Users\\Orel\\AppData\\Local\\Microsoft\\WindowsApps\\PythonSoftwareFoundation.Python.3.10_qbz5n2kfra8p0\\python.exe -m pip install --upgrade pip\n"
     ]
    }
   ],
   "source": [
    "%pip install opencv-python"
   ]
  },
  {
   "cell_type": "code",
   "execution_count": 26,
   "metadata": {},
   "outputs": [
    {
     "name": "stdout",
     "output_type": "stream",
     "text": [
      "Requirement already satisfied: mediapipe in c:\\users\\orel\\appdata\\local\\packages\\pythonsoftwarefoundation.python.3.10_qbz5n2kfra8p0\\localcache\\local-packages\\python310\\site-packages (0.9.1.0)\n",
      "Requirement already satisfied: absl-py in c:\\users\\orel\\appdata\\local\\packages\\pythonsoftwarefoundation.python.3.10_qbz5n2kfra8p0\\localcache\\local-packages\\python310\\site-packages (from mediapipe) (1.4.0)\n",
      "Requirement already satisfied: matplotlib in c:\\users\\orel\\appdata\\local\\packages\\pythonsoftwarefoundation.python.3.10_qbz5n2kfra8p0\\localcache\\local-packages\\python310\\site-packages (from mediapipe) (3.6.3)\n",
      "Requirement already satisfied: opencv-contrib-python in c:\\users\\orel\\appdata\\local\\packages\\pythonsoftwarefoundation.python.3.10_qbz5n2kfra8p0\\localcache\\local-packages\\python310\\site-packages (from mediapipe) (4.7.0.68)\n",
      "Requirement already satisfied: flatbuffers>=2.0 in c:\\users\\orel\\appdata\\local\\packages\\pythonsoftwarefoundation.python.3.10_qbz5n2kfra8p0\\localcache\\local-packages\\python310\\site-packages (from mediapipe) (23.1.21)\n",
      "Requirement already satisfied: numpy in c:\\users\\orel\\appdata\\local\\packages\\pythonsoftwarefoundation.python.3.10_qbz5n2kfra8p0\\localcache\\local-packages\\python310\\site-packages (from mediapipe) (1.24.1)\n",
      "Requirement already satisfied: protobuf<4,>=3.11 in c:\\users\\orel\\appdata\\local\\packages\\pythonsoftwarefoundation.python.3.10_qbz5n2kfra8p0\\localcache\\local-packages\\python310\\site-packages (from mediapipe) (3.20.3)\n",
      "Requirement already satisfied: attrs>=19.1.0 in c:\\users\\orel\\appdata\\local\\packages\\pythonsoftwarefoundation.python.3.10_qbz5n2kfra8p0\\localcache\\local-packages\\python310\\site-packages (from mediapipe) (22.2.0)\n",
      "Requirement already satisfied: packaging>=20.0 in c:\\users\\orel\\appdata\\local\\packages\\pythonsoftwarefoundation.python.3.10_qbz5n2kfra8p0\\localcache\\local-packages\\python310\\site-packages (from matplotlib->mediapipe) (23.0)\n",
      "Requirement already satisfied: pillow>=6.2.0 in c:\\users\\orel\\appdata\\local\\packages\\pythonsoftwarefoundation.python.3.10_qbz5n2kfra8p0\\localcache\\local-packages\\python310\\site-packages (from matplotlib->mediapipe) (9.4.0)\n",
      "Requirement already satisfied: contourpy>=1.0.1 in c:\\users\\orel\\appdata\\local\\packages\\pythonsoftwarefoundation.python.3.10_qbz5n2kfra8p0\\localcache\\local-packages\\python310\\site-packages (from matplotlib->mediapipe) (1.0.7)\n",
      "Requirement already satisfied: fonttools>=4.22.0 in c:\\users\\orel\\appdata\\local\\packages\\pythonsoftwarefoundation.python.3.10_qbz5n2kfra8p0\\localcache\\local-packages\\python310\\site-packages (from matplotlib->mediapipe) (4.38.0)\n",
      "Requirement already satisfied: pyparsing>=2.2.1 in c:\\users\\orel\\appdata\\local\\packages\\pythonsoftwarefoundation.python.3.10_qbz5n2kfra8p0\\localcache\\local-packages\\python310\\site-packages (from matplotlib->mediapipe) (3.0.9)\n",
      "Requirement already satisfied: python-dateutil>=2.7 in c:\\users\\orel\\appdata\\local\\packages\\pythonsoftwarefoundation.python.3.10_qbz5n2kfra8p0\\localcache\\local-packages\\python310\\site-packages (from matplotlib->mediapipe) (2.8.2)\n",
      "Requirement already satisfied: kiwisolver>=1.0.1 in c:\\users\\orel\\appdata\\local\\packages\\pythonsoftwarefoundation.python.3.10_qbz5n2kfra8p0\\localcache\\local-packages\\python310\\site-packages (from matplotlib->mediapipe) (1.4.4)\n",
      "Requirement already satisfied: cycler>=0.10 in c:\\users\\orel\\appdata\\local\\packages\\pythonsoftwarefoundation.python.3.10_qbz5n2kfra8p0\\localcache\\local-packages\\python310\\site-packages (from matplotlib->mediapipe) (0.11.0)\n",
      "Requirement already satisfied: six>=1.5 in c:\\users\\orel\\appdata\\local\\packages\\pythonsoftwarefoundation.python.3.10_qbz5n2kfra8p0\\localcache\\local-packages\\python310\\site-packages (from python-dateutil>=2.7->matplotlib->mediapipe) (1.16.0)\n",
      "Note: you may need to restart the kernel to use updated packages.\n"
     ]
    },
    {
     "name": "stderr",
     "output_type": "stream",
     "text": [
      "\n",
      "[notice] A new release of pip available: 22.3.1 -> 23.0.1\n",
      "[notice] To update, run: C:\\Users\\Orel\\AppData\\Local\\Microsoft\\WindowsApps\\PythonSoftwareFoundation.Python.3.10_qbz5n2kfra8p0\\python.exe -m pip install --upgrade pip\n"
     ]
    }
   ],
   "source": [
    "%pip install mediapipe "
   ]
  },
  {
   "cell_type": "code",
   "execution_count": 27,
   "metadata": {},
   "outputs": [],
   "source": [
    "import mediapipe as mp\n",
    "import cv2\n",
    "import numpy as np\n",
    "from  matplotlib import pyplot as plt\n",
    "import matplotlib.image as mpimg\n",
    "import pandas as pd\n",
    "from  xgboost import XGBClassifier\n",
    "import xgboost\n",
    "from sklearn.metrics import r2_score\n",
    "import os\n",
    "from sklearn.preprocessing import LabelEncoder\n",
    "from sklearn.model_selection import train_test_split\n",
    "from sklearn.metrics import accuracy_score\n",
    "mp_drawing = mp.solutions.drawing_utils\n",
    "mp_pose = mp.solutions.pose"
   ]
  },
  {
   "cell_type": "code",
   "execution_count": 28,
   "metadata": {},
   "outputs": [],
   "source": [
    "def calculate_angles(a,b,c):\n",
    "    a = np.array(a) #hip\n",
    "    b = np.array(b) #knee\n",
    "    c = np.array(c) #heel\n",
    "    #Calculates the angle formed by the three dots\n",
    "    radians = np.arctan2(c[1]-b[1], c[0]-b[0]) - np.arctan2(a[1]-b[1], a[0]-b[0])\n",
    "    angle = np.abs(radians*180.0/np.pi)#Convert to degrees\n",
    "    #An angle cannot be more than 180\n",
    "    if angle > 180.0:\n",
    "        angle = 360- angle\n",
    "\n",
    "    return angle"
   ]
  },
  {
   "cell_type": "code",
   "execution_count": null,
   "metadata": {},
   "outputs": [],
   "source": [
    "#3 angale\n",
    "data = {\n",
    "    'albow': [],    \n",
    "    'knee': [],    \n",
    "    'shoulder': [],\n",
    "              \n",
    "    'label': [] #The value of the character in terms of the X-axis\n",
    "}\n",
    "\n"
   ]
  },
  {
   "cell_type": "code",
   "execution_count": null,
   "metadata": {},
   "outputs": [],
   "source": []
  },
  {
   "cell_type": "code",
   "execution_count": null,
   "metadata": {},
   "outputs": [],
   "source": [
    "#run over all the images in images folder\n",
    "directory = r'C:\\Users\\Orel\\Documents\\GitHub\\FitnessAI\\images'\n",
    "label = ''\n",
    "# iterate over files in\n",
    "# that directory\n",
    "for filename in os.listdir(directory):\n",
    "    f = os.path.join(directory, filename)\n",
    "    # checking if it is a file\n",
    "    if os.path.isfile(f):\n",
    "    \n",
    "        with mp_pose.Pose(min_detection_confidence=0.5, min_tracking_confidence=0.5) as pose:\n",
    "            #run over the images inside the folders\n",
    "            #takes every image and put it inside a frame,f=image\n",
    "            frame = cv2.imread(f, cv2.IMREAD_ANYCOLOR)#read the image to frame of cv2\n",
    "\n",
    "            image = cv2.cvtColor(frame, cv2.COLOR_BGR2RGB)#paint the pose\n",
    "            image.flags.writeable = False\n",
    "      \n",
    "            results = pose.process(image)#the picther with the scale and dots\n",
    "\n",
    "            image.flags.writeable = True\n",
    "            image = cv2.cvtColor(image, cv2.COLOR_RGB2BGR)#change the color format\n",
    "\n",
    "            #Extract  the dots from the image,every dots contain x,y,z,visabillity and saved in arr\n",
    "            try:\n",
    "                landmarks = results.pose_landmarks.landmark\n",
    "            except:\n",
    "                pass\n",
    "\n",
    "            #drew the dots\n",
    "            mp_drawing.draw_landmarks(image, results.pose_landmarks, mp_pose.POSE_CONNECTIONS,\n",
    "                        mp_drawing.DrawingSpec(color=(245,117,66), thickness=2, circle_radius=2), #different color-blue\n",
    "                        mp_drawing.DrawingSpec(color=(245,66,230), thickness=2, circle_radius=2) #different color-pink\n",
    "                            )\n",
    "         #binary classification between d,s,b\n",
    "         #ask in the folder give label by the name written in the image\n",
    "        if 'deadlift' in f:\n",
    "            label = 'deadlift'\n",
    "        elif 'squat' in f:\n",
    "            label = 'squat'\n",
    "        elif 'bench' in f:\n",
    "            label = 'bench'\n",
    "        else:\n",
    "            continue\n",
    "        \n",
    "        \n",
    "        #calculate desired angels.\n",
    "        #add those angels values to the data array.\n",
    "        #33 landmark,11 is the first landmark that she isnt face\n",
    "        #Can Be Deleted\n",
    "        for i in range(11,len(mp_pose.PoseLandmark)-10):#run over all the lendmark of one imag\n",
    "            data[\"albow\"].append(landmarks[i].x)#add the landmark\n",
    "            data[\"knee\"].append(landmarks[i].y)\n",
    "            data[\"shoulder\"].append(landmarks[i].z)\n",
    "            data[\"label\"].append(label)"
   ]
  }
 ],
 "metadata": {
  "kernelspec": {
   "display_name": "Python 3",
   "language": "python",
   "name": "python3"
  },
  "language_info": {
   "codemirror_mode": {
    "name": "ipython",
    "version": 3
   },
   "file_extension": ".py",
   "mimetype": "text/x-python",
   "name": "python",
   "nbconvert_exporter": "python",
   "pygments_lexer": "ipython3",
   "version": "3.10.10"
  },
  "orig_nbformat": 4
 },
 "nbformat": 4,
 "nbformat_minor": 2
}
