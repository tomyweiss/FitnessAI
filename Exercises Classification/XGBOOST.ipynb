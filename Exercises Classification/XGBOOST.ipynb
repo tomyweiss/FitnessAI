{
 "cells": [
  {
   "cell_type": "code",
   "execution_count": 24,
   "metadata": {},
   "outputs": [
    {
     "name": "stdout",
     "output_type": "stream",
     "text": [
      "Requirement already satisfied: xgboost in c:\\users\\orel\\appdata\\local\\packages\\pythonsoftwarefoundation.python.3.10_qbz5n2kfra8p0\\localcache\\local-packages\\python310\\site-packages (1.7.4)\n",
      "Requirement already satisfied: scipy in c:\\users\\orel\\appdata\\local\\packages\\pythonsoftwarefoundation.python.3.10_qbz5n2kfra8p0\\localcache\\local-packages\\python310\\site-packages (from xgboost) (1.10.1)\n",
      "Requirement already satisfied: numpy in c:\\users\\orel\\appdata\\local\\packages\\pythonsoftwarefoundation.python.3.10_qbz5n2kfra8p0\\localcache\\local-packages\\python310\\site-packages (from xgboost) (1.24.1)\n",
      "Note: you may need to restart the kernel to use updated packages.\n"
     ]
    },
    {
     "name": "stderr",
     "output_type": "stream",
     "text": [
      "\n",
      "[notice] A new release of pip available: 22.3.1 -> 23.0.1\n",
      "[notice] To update, run: C:\\Users\\Orel\\AppData\\Local\\Microsoft\\WindowsApps\\PythonSoftwareFoundation.Python.3.10_qbz5n2kfra8p0\\python.exe -m pip install --upgrade pip\n"
     ]
    }
   ],
   "source": [
    "%pip install xgboost"
   ]
  },
  {
   "attachments": {},
   "cell_type": "markdown",
   "metadata": {},
   "source": [
    "Collecting xgboost\n",
    "  Downloading xgboost-1.7.3-py3-none-win_amd64.whl (89.1 MB)\n",
    "     --------------------------------------- 89.1/89.1 MB 12.8 MB/s eta 0:00:00\n",
    "Requirement already satisfied: numpy in c:\\users\\mosac\\anaconda3\\lib\\site-packages (from xgboost) (1.21.5)\n",
    "Requirement already satisfied: scipy in c:\\users\\mosac\\anaconda3\\lib\\site-packages (from xgboost) (1.9.1)\n",
    "Installing collected packages: xgboost\n",
    "Successfully installed xgboost-1.7.3\n",
    "Note: you may need to restart the kernel to use updated packages."
   ]
  },
  {
   "cell_type": "code",
   "execution_count": 25,
   "metadata": {},
   "outputs": [
    {
     "name": "stdout",
     "output_type": "stream",
     "text": [
      "Requirement already satisfied: opencv-python in c:\\users\\orel\\appdata\\local\\packages\\pythonsoftwarefoundation.python.3.10_qbz5n2kfra8p0\\localcache\\local-packages\\python310\\site-packages (4.7.0.68)Note: you may need to restart the kernel to use updated packages.\n",
      "\n",
      "Requirement already satisfied: numpy>=1.17.0 in c:\\users\\orel\\appdata\\local\\packages\\pythonsoftwarefoundation.python.3.10_qbz5n2kfra8p0\\localcache\\local-packages\\python310\\site-packages (from opencv-python) (1.24.1)\n"
     ]
    },
    {
     "name": "stderr",
     "output_type": "stream",
     "text": [
      "\n",
      "[notice] A new release of pip available: 22.3.1 -> 23.0.1\n",
      "[notice] To update, run: C:\\Users\\Orel\\AppData\\Local\\Microsoft\\WindowsApps\\PythonSoftwareFoundation.Python.3.10_qbz5n2kfra8p0\\python.exe -m pip install --upgrade pip\n"
     ]
    }
   ],
   "source": [
    "%pip install opencv-python"
   ]
  },
  {
   "cell_type": "code",
   "execution_count": 26,
   "metadata": {},
   "outputs": [
    {
     "name": "stdout",
     "output_type": "stream",
     "text": [
      "Requirement already satisfied: mediapipe in c:\\users\\orel\\appdata\\local\\packages\\pythonsoftwarefoundation.python.3.10_qbz5n2kfra8p0\\localcache\\local-packages\\python310\\site-packages (0.9.1.0)\n",
      "Requirement already satisfied: absl-py in c:\\users\\orel\\appdata\\local\\packages\\pythonsoftwarefoundation.python.3.10_qbz5n2kfra8p0\\localcache\\local-packages\\python310\\site-packages (from mediapipe) (1.4.0)\n",
      "Requirement already satisfied: matplotlib in c:\\users\\orel\\appdata\\local\\packages\\pythonsoftwarefoundation.python.3.10_qbz5n2kfra8p0\\localcache\\local-packages\\python310\\site-packages (from mediapipe) (3.6.3)\n",
      "Requirement already satisfied: opencv-contrib-python in c:\\users\\orel\\appdata\\local\\packages\\pythonsoftwarefoundation.python.3.10_qbz5n2kfra8p0\\localcache\\local-packages\\python310\\site-packages (from mediapipe) (4.7.0.68)\n",
      "Requirement already satisfied: flatbuffers>=2.0 in c:\\users\\orel\\appdata\\local\\packages\\pythonsoftwarefoundation.python.3.10_qbz5n2kfra8p0\\localcache\\local-packages\\python310\\site-packages (from mediapipe) (23.1.21)\n",
      "Requirement already satisfied: numpy in c:\\users\\orel\\appdata\\local\\packages\\pythonsoftwarefoundation.python.3.10_qbz5n2kfra8p0\\localcache\\local-packages\\python310\\site-packages (from mediapipe) (1.24.1)\n",
      "Requirement already satisfied: protobuf<4,>=3.11 in c:\\users\\orel\\appdata\\local\\packages\\pythonsoftwarefoundation.python.3.10_qbz5n2kfra8p0\\localcache\\local-packages\\python310\\site-packages (from mediapipe) (3.20.3)\n",
      "Requirement already satisfied: attrs>=19.1.0 in c:\\users\\orel\\appdata\\local\\packages\\pythonsoftwarefoundation.python.3.10_qbz5n2kfra8p0\\localcache\\local-packages\\python310\\site-packages (from mediapipe) (22.2.0)\n",
      "Requirement already satisfied: packaging>=20.0 in c:\\users\\orel\\appdata\\local\\packages\\pythonsoftwarefoundation.python.3.10_qbz5n2kfra8p0\\localcache\\local-packages\\python310\\site-packages (from matplotlib->mediapipe) (23.0)\n",
      "Requirement already satisfied: pillow>=6.2.0 in c:\\users\\orel\\appdata\\local\\packages\\pythonsoftwarefoundation.python.3.10_qbz5n2kfra8p0\\localcache\\local-packages\\python310\\site-packages (from matplotlib->mediapipe) (9.4.0)\n",
      "Requirement already satisfied: contourpy>=1.0.1 in c:\\users\\orel\\appdata\\local\\packages\\pythonsoftwarefoundation.python.3.10_qbz5n2kfra8p0\\localcache\\local-packages\\python310\\site-packages (from matplotlib->mediapipe) (1.0.7)\n",
      "Requirement already satisfied: fonttools>=4.22.0 in c:\\users\\orel\\appdata\\local\\packages\\pythonsoftwarefoundation.python.3.10_qbz5n2kfra8p0\\localcache\\local-packages\\python310\\site-packages (from matplotlib->mediapipe) (4.38.0)\n",
      "Requirement already satisfied: pyparsing>=2.2.1 in c:\\users\\orel\\appdata\\local\\packages\\pythonsoftwarefoundation.python.3.10_qbz5n2kfra8p0\\localcache\\local-packages\\python310\\site-packages (from matplotlib->mediapipe) (3.0.9)\n",
      "Requirement already satisfied: python-dateutil>=2.7 in c:\\users\\orel\\appdata\\local\\packages\\pythonsoftwarefoundation.python.3.10_qbz5n2kfra8p0\\localcache\\local-packages\\python310\\site-packages (from matplotlib->mediapipe) (2.8.2)\n",
      "Requirement already satisfied: kiwisolver>=1.0.1 in c:\\users\\orel\\appdata\\local\\packages\\pythonsoftwarefoundation.python.3.10_qbz5n2kfra8p0\\localcache\\local-packages\\python310\\site-packages (from matplotlib->mediapipe) (1.4.4)\n",
      "Requirement already satisfied: cycler>=0.10 in c:\\users\\orel\\appdata\\local\\packages\\pythonsoftwarefoundation.python.3.10_qbz5n2kfra8p0\\localcache\\local-packages\\python310\\site-packages (from matplotlib->mediapipe) (0.11.0)\n",
      "Requirement already satisfied: six>=1.5 in c:\\users\\orel\\appdata\\local\\packages\\pythonsoftwarefoundation.python.3.10_qbz5n2kfra8p0\\localcache\\local-packages\\python310\\site-packages (from python-dateutil>=2.7->matplotlib->mediapipe) (1.16.0)\n",
      "Note: you may need to restart the kernel to use updated packages.\n"
     ]
    },
    {
     "name": "stderr",
     "output_type": "stream",
     "text": [
      "\n",
      "[notice] A new release of pip available: 22.3.1 -> 23.0.1\n",
      "[notice] To update, run: C:\\Users\\Orel\\AppData\\Local\\Microsoft\\WindowsApps\\PythonSoftwareFoundation.Python.3.10_qbz5n2kfra8p0\\python.exe -m pip install --upgrade pip\n"
     ]
    }
   ],
   "source": [
    "%pip install mediapipe "
   ]
  },
  {
   "cell_type": "code",
   "execution_count": 1,
   "metadata": {},
   "outputs": [],
   "source": [
    "import mediapipe as mp\n",
    "import cv2\n",
    "import numpy as np\n",
    "from  matplotlib import pyplot as plt\n",
    "import matplotlib.image as mpimg\n",
    "import pandas as pd\n",
    "from  xgboost import XGBClassifier\n",
    "import xgboost\n",
    "from sklearn.metrics import r2_score\n",
    "import os\n",
    "from sklearn.preprocessing import LabelEncoder\n",
    "from sklearn.model_selection import train_test_split\n",
    "from sklearn.metrics import accuracy_score\n",
    "from sklearn.utils import shuffle\n",
    "mp_drawing = mp.solutions.drawing_utils\n",
    "mp_pose = mp.solutions.pose"
   ]
  },
  {
   "cell_type": "code",
   "execution_count": 2,
   "metadata": {},
   "outputs": [],
   "source": [
    "def calculate_angles(a,b,c):\n",
    "    a = np.array(a) #first\n",
    "    b = np.array(b) #middle\n",
    "    c = np.array(c) #last\n",
    "    #Calculates the angle formed by the three dots\n",
    "    radians = np.arctan2(c[1]-b[1], c[0]-b[0]) - np.arctan2(a[1]-b[1], a[0]-b[0])\n",
    "    angle = np.abs(radians*180.0/np.pi)#Convert to degrees\n",
    "    #An angle cannot be more than 180\n",
    "    if angle > 180.0:\n",
    "        angle = 360- angle\n",
    "\n",
    "    return angle"
   ]
  },
  {
   "attachments": {},
   "cell_type": "markdown",
   "metadata": {},
   "source": [
    "Direction of trainer in the image "
   ]
  },
  {
   "attachments": {},
   "cell_type": "markdown",
   "metadata": {},
   "source": [
    "Calculate the angels"
   ]
  },
  {
   "cell_type": "code",
   "execution_count": 3,
   "metadata": {},
   "outputs": [],
   "source": [
    "#3 angale\n",
    "#every anagle creates from:a,b,c\n",
    "data = {\n",
    "    'elbow': [],    \n",
    "    'knee': [],    \n",
    "    'shoulder': [],    \n",
    "    'label': [] #The value of the character in terms of the X-axis\n",
    "}\n",
    "\n",
    "#run over all the images in images folder\n",
    "#'C:\\Users\\Orel\\Documents\\GitHub\\FitnessAI\\images'\n",
    "directory = r'C:\\Users\\mosac\\Git Repositories\\FitnessAI\\images'\n",
    "label = ''\n",
    "# iterate over files in\n",
    "# that directory\n",
    "for filename in os.listdir(directory):\n",
    "    f = os.path.join(directory, filename)\n",
    "    # checking if it is a file\n",
    "    if os.path.isfile(f):\n",
    "         \n",
    "        with mp_pose.Pose(min_detection_confidence=0.5, min_tracking_confidence=0.5) as pose:\n",
    "         \n",
    "            #run over the images inside the folders\n",
    "            #takes every image and put it inside a frame,f=image\n",
    "            frame = cv2.imread(f, cv2.IMREAD_ANYCOLOR)#read the image to frame of cv2\n",
    "\n",
    "            image = cv2.cvtColor(frame, cv2.COLOR_BGR2RGB)#paint the pose\n",
    "            image.flags.writeable = False\n",
    "      \n",
    "            results = pose.process(image)#the picther with the scale and dots\n",
    "\n",
    "            image.flags.writeable = True\n",
    "            image = cv2.cvtColor(image, cv2.COLOR_RGB2BGR)#change the color format\n",
    "\n",
    "            #Extract  the dots from the image,every dots contain x,y,z,visabillity and saved in arr\n",
    "            try:\n",
    "                landmarks = results.pose_landmarks.landmark\n",
    "            except:\n",
    "                pass\n",
    "             \n",
    "            #drew the dots\n",
    "            mp_drawing.draw_landmarks(image, results.pose_landmarks, mp_pose.POSE_CONNECTIONS,\n",
    "                        mp_drawing.DrawingSpec(color=(245,117,66), thickness=2, circle_radius=2), #different color-blue\n",
    "                        mp_drawing.DrawingSpec(color=(245,66,230), thickness=2, circle_radius=2) #different color-pink\n",
    "                            )\n",
    "            # Get coordinates \n",
    "            R_elbow = [landmarks[mp_pose.PoseLandmark.RIGHT_ELBOW.value].x,landmarks[mp_pose.PoseLandmark.RIGHT_ELBOW.value].y]\n",
    "            R_shoulder = [landmarks[mp_pose.PoseLandmark.RIGHT_SHOULDER.value].x,landmarks[mp_pose.PoseLandmark.RIGHT_SHOULDER.value].y]\n",
    "            R_hip = [landmarks[mp_pose.PoseLandmark.RIGHT_HIP.value].x,landmarks[mp_pose.PoseLandmark.RIGHT_HIP.value].y]\n",
    "            R_wrist = [landmarks[mp_pose.PoseLandmark.RIGHT_WRIST.value].x,landmarks[mp_pose.PoseLandmark.RIGHT_WRIST.value].y]\n",
    "            R_knee = [landmarks[mp_pose.PoseLandmark.RIGHT_KNEE.value].x,landmarks[mp_pose.PoseLandmark.RIGHT_KNEE.value].y]\n",
    "            R_ankle = [landmarks[mp_pose.PoseLandmark.RIGHT_ANKLE.value].x,landmarks[mp_pose.PoseLandmark.RIGHT_ANKLE.value].y]\n",
    "        \n",
    "            #Visibility Extraction\n",
    "            R_K_V = landmarks[mp_pose.PoseLandmark.RIGHT_HIP.value].visibility + landmarks[mp_pose.PoseLandmark.RIGHT_KNEE.value].visibility + landmarks[mp_pose.PoseLandmark.RIGHT_ANKLE.value].visibility\n",
    "            R_E_V = landmarks[mp_pose.PoseLandmark.RIGHT_SHOULDER.value].visibility + landmarks[mp_pose.PoseLandmark.RIGHT_ELBOW.value].visibility + landmarks[mp_pose.PoseLandmark.RIGHT_WRIST.value].visibility\n",
    "            R_S_V = landmarks[mp_pose.PoseLandmark.RIGHT_ELBOW.value].visibility + landmarks[mp_pose.PoseLandmark.RIGHT_SHOULDER.value].visibility + landmarks[mp_pose.PoseLandmark.RIGHT_HIP.value].visibility\n",
    "            \n",
    "\n",
    "            L_elbow = [landmarks[mp_pose.PoseLandmark.LEFT_ELBOW.value].x,landmarks[mp_pose.PoseLandmark.LEFT_ELBOW.value].y]\n",
    "            L_shoulder = [landmarks[mp_pose.PoseLandmark.LEFT_SHOULDER.value].x,landmarks[mp_pose.PoseLandmark.LEFT_SHOULDER.value].y]\n",
    "            L_hip = [landmarks[mp_pose.PoseLandmark.LEFT_HIP.value].x,landmarks[mp_pose.PoseLandmark.LEFT_HIP.value].y]\n",
    "            L_wrist = [landmarks[mp_pose.PoseLandmark.LEFT_WRIST.value].x,landmarks[mp_pose.PoseLandmark.LEFT_WRIST.value].y]\n",
    "            L_knee = [landmarks[mp_pose.PoseLandmark.LEFT_KNEE.value].x,landmarks[mp_pose.PoseLandmark.LEFT_KNEE.value].y]\n",
    "            L_ankle = [landmarks[mp_pose.PoseLandmark.LEFT_ANKLE.value].x,landmarks[mp_pose.PoseLandmark.LEFT_ANKLE.value].y]\n",
    "            #Visibility Extraction\n",
    "            L_K_V = landmarks[mp_pose.PoseLandmark.LEFT_HIP.value].visibility + landmarks[mp_pose.PoseLandmark.LEFT_KNEE.value].visibility + landmarks[mp_pose.PoseLandmark.LEFT_ANKLE.value].visibility\n",
    "            L_E_V = landmarks[mp_pose.PoseLandmark.LEFT_SHOULDER.value].visibility + landmarks[mp_pose.PoseLandmark.LEFT_ELBOW.value].visibility + landmarks[mp_pose.PoseLandmark.LEFT_WRIST.value].visibility\n",
    "            L_S_V = landmarks[mp_pose.PoseLandmark.LEFT_ELBOW.value].visibility + landmarks[mp_pose.PoseLandmark.LEFT_SHOULDER.value].visibility + landmarks[mp_pose.PoseLandmark.LEFT_HIP.value].visibility\n",
    "                \n",
    "\n",
    "                # Calculate angles\n",
    "            if  R_K_V > L_K_V:\n",
    "                angle_K = calculate_angles(R_hip, R_knee, R_ankle)\n",
    "            else:\n",
    "                angle_K = calculate_angles(L_hip, L_knee, L_ankle)\n",
    "\n",
    "            if R_E_V > L_E_V:\n",
    "                angle_E = calculate_angles(R_shoulder, R_elbow, R_wrist)\n",
    "            else:\n",
    "                angle_E = calculate_angles(L_shoulder, L_elbow, L_wrist)\n",
    "            \n",
    "            if  R_S_V >  L_S_V:\n",
    "                angle_S = calculate_angles(R_elbow, R_shoulder, R_hip)\n",
    "            else:\n",
    "                angle_S = calculate_angles(L_elbow, L_shoulder, L_hip)\n",
    "        \n",
    "\n",
    "         #binary classification between d,s,b\n",
    "         #ask in the folder give label by the name written in the image\n",
    "        if 'deadlift' in f:\n",
    "            label = 'deadlift'\n",
    "        elif 'squat' in f:\n",
    "            label = 'squat'\n",
    "        elif 'bench' in f:\n",
    "            label = 'bench'\n",
    "        else:\n",
    "            continue\n",
    "      \n",
    "        #add those angels values to the data array.\n",
    "    data[\"elbow\"].append(angle_E)\n",
    "    data[\"knee\"].append(angle_K)\n",
    "    data[\"shoulder\"].append(angle_S) \n",
    "    data[\"label\"].append(label)       \n",
    "\n",
    "            \n"
   ]
  },
  {
   "cell_type": "code",
   "execution_count": 5,
   "metadata": {},
   "outputs": [],
   "source": [
    "#Make data array into pandas DataFrame array\n",
    "df = pd.DataFrame(data=data)"
   ]
  },
  {
   "cell_type": "code",
   "execution_count": 6,
   "metadata": {},
   "outputs": [
    {
     "data": {
      "text/html": [
       "<div>\n",
       "<style scoped>\n",
       "    .dataframe tbody tr th:only-of-type {\n",
       "        vertical-align: middle;\n",
       "    }\n",
       "\n",
       "    .dataframe tbody tr th {\n",
       "        vertical-align: top;\n",
       "    }\n",
       "\n",
       "    .dataframe thead th {\n",
       "        text-align: right;\n",
       "    }\n",
       "</style>\n",
       "<table border=\"1\" class=\"dataframe\">\n",
       "  <thead>\n",
       "    <tr style=\"text-align: right;\">\n",
       "      <th></th>\n",
       "      <th>elbow</th>\n",
       "      <th>knee</th>\n",
       "      <th>shoulder</th>\n",
       "      <th>label</th>\n",
       "    </tr>\n",
       "  </thead>\n",
       "  <tbody>\n",
       "    <tr>\n",
       "      <th>281</th>\n",
       "      <td>48.113965</td>\n",
       "      <td>162.201790</td>\n",
       "      <td>41.110027</td>\n",
       "      <td>2</td>\n",
       "    </tr>\n",
       "    <tr>\n",
       "      <th>282</th>\n",
       "      <td>31.535423</td>\n",
       "      <td>179.439008</td>\n",
       "      <td>43.293464</td>\n",
       "      <td>2</td>\n",
       "    </tr>\n",
       "    <tr>\n",
       "      <th>283</th>\n",
       "      <td>72.571456</td>\n",
       "      <td>173.702683</td>\n",
       "      <td>57.322578</td>\n",
       "      <td>2</td>\n",
       "    </tr>\n",
       "    <tr>\n",
       "      <th>284</th>\n",
       "      <td>48.115591</td>\n",
       "      <td>149.335647</td>\n",
       "      <td>33.674356</td>\n",
       "      <td>2</td>\n",
       "    </tr>\n",
       "    <tr>\n",
       "      <th>285</th>\n",
       "      <td>45.321530</td>\n",
       "      <td>157.426115</td>\n",
       "      <td>31.453297</td>\n",
       "      <td>2</td>\n",
       "    </tr>\n",
       "  </tbody>\n",
       "</table>\n",
       "</div>"
      ],
      "text/plain": [
       "         elbow        knee   shoulder  label\n",
       "281  48.113965  162.201790  41.110027      2\n",
       "282  31.535423  179.439008  43.293464      2\n",
       "283  72.571456  173.702683  57.322578      2\n",
       "284  48.115591  149.335647  33.674356      2\n",
       "285  45.321530  157.426115  31.453297      2"
      ]
     },
     "execution_count": 6,
     "metadata": {},
     "output_type": "execute_result"
    }
   ],
   "source": [
    "#Encoding categorial features\n",
    "le = LabelEncoder()\n",
    "le.fit(df.loc[:,'label'])\n",
    "df.loc[:,'label'] = le.transform(df.loc[:,'label'])\n",
    "df.tail()\n"
   ]
  },
  {
   "cell_type": "code",
   "execution_count": 36,
   "metadata": {},
   "outputs": [],
   "source": [
    "#train\n",
    "X = df.drop(['label'],axis=1)#3 angels\n",
    "y = df['label']\n",
    "\n",
    "X_train, X_test, y_train, y_test = train_test_split(X, y, test_size=0.3, random_state=42)\n",
    "\n",
    "X_test,y_test = shuffle(X_test,y_test)\n",
    "X_train,y_train = shuffle(X_train,y_train)\n"
   ]
  },
  {
   "cell_type": "code",
   "execution_count": 37,
   "metadata": {},
   "outputs": [
    {
     "name": "stdout",
     "output_type": "stream",
     "text": [
      "Train Accuracy Is: 100.0\n",
      "Test Accuracy Is: 91.86\n",
      "[0 2 2 1 2 2 0 0 0 1 2 0 2 0 0 2 1 2 1 0 0 0 2 2 1 0 0 0 1 0 0 1 1 2 0 2 2\n",
      " 0 2 0 2 0 0 0 2 2 1 0 2 1 0 0 1 0 0 0 0 0 0 0 0 0 0 0 0 1 2 0 1 1 1 2 0 2\n",
      " 0 2 2 0 1 2 1 0 0 1 0 0]\n",
      "[1 0 2 1 2 2 0 0 0 1 2 0 2 0 0 2 1 2 1 0 0 0 0 2 1 0 0 0 1 0 0 1 1 2 0 2 2\n",
      " 0 2 0 2 0 1 2 2 2 1 0 2 1 0 0 1 0 0 0 0 0 0 0 0 1 0 2 0 1 2 0 1 1 1 2 0 2\n",
      " 0 2 2 0 1 2 1 0 0 1 0 0]\n"
     ]
    }
   ],
   "source": [
    "xgb_model = XGBClassifier(learning_rate=1, n_estimators= 100,max_depth = 5)\n",
    "\n",
    "fit = xgb_model.fit(X_train,y_train)\n",
    "\n",
    "fit_pred = fit.predict(X_train)\n",
    "\n",
    "xgb_predictions = xgb_model.predict(X_test)\n",
    "\n",
    "xgb_accuracy = accuracy_score(y_test,xgb_predictions)\n",
    "\n",
    "#Evaluation - calculating accuracy\n",
    "xgb_train_acc = accuracy_score(y_train,fit_pred)\n",
    "\n",
    "#Print accuracy of train and test\n",
    "print(f\"Train Accuracy Is: {round(xgb_train_acc*100,2)}\\nTest Accuracy Is: {round(xgb_accuracy*100,2)}\")\n",
    "\n",
    "print(xgb_predictions)\n",
    "print(y_test.values)\n"
   ]
  }
 ],
 "metadata": {
  "kernelspec": {
   "display_name": "Python 3",
   "language": "python",
   "name": "python3"
  },
  "language_info": {
   "codemirror_mode": {
    "name": "ipython",
    "version": 3
   },
   "file_extension": ".py",
   "mimetype": "text/x-python",
   "name": "python",
   "nbconvert_exporter": "python",
   "pygments_lexer": "ipython3",
   "version": "3.9.13"
  },
  "orig_nbformat": 4
 },
 "nbformat": 4,
 "nbformat_minor": 2
}
