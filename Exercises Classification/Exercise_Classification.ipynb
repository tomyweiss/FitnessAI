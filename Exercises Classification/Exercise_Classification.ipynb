{
 "cells": [
  {
   "cell_type": "code",
   "execution_count": 11,
   "metadata": {},
   "outputs": [
    {
     "name": "stdout",
     "output_type": "stream",
     "text": [
      "Collecting xgboost\n",
      "  Downloading xgboost-1.7.3-py3-none-win_amd64.whl (89.1 MB)\n",
      "     --------------------------------------- 89.1/89.1 MB 12.8 MB/s eta 0:00:00\n",
      "Requirement already satisfied: numpy in c:\\users\\mosac\\anaconda3\\lib\\site-packages (from xgboost) (1.21.5)\n",
      "Requirement already satisfied: scipy in c:\\users\\mosac\\anaconda3\\lib\\site-packages (from xgboost) (1.9.1)\n",
      "Installing collected packages: xgboost\n",
      "Successfully installed xgboost-1.7.3\n",
      "Note: you may need to restart the kernel to use updated packages.\n"
     ]
    }
   ],
   "source": [
    "#%pip install xgboost"
   ]
  },
  {
   "cell_type": "code",
   "execution_count": 152,
   "metadata": {},
   "outputs": [],
   "source": [
    "import mediapipe as mp\n",
    "import cv2\n",
    "import numpy as np\n",
    "from  matplotlib import pyplot as plt\n",
    "import matplotlib.image as mpimg\n",
    "import pandas as pd\n",
    "from  xgboost import XGBClassifier\n",
    "import xgboost\n",
    "from sklearn.metrics import r2_score\n",
    "import os\n",
    "from sklearn.preprocessing import LabelEncoder\n",
    "from sklearn.model_selection import train_test_split\n",
    "from sklearn.metrics import accuracy_score\n",
    "mp_drawing = mp.solutions.drawing_utils\n",
    "mp_pose = mp.solutions.pose"
   ]
  },
  {
   "cell_type": "code",
   "execution_count": null,
   "metadata": {},
   "outputs": [],
   "source": [
    "def calculate_angles(a,b,c):\n",
    "    a = np.array(a) #first\n",
    "    b = np.array(b) \n",
    "    c = np.array(c) #last\n",
    "\n",
    "    radians = np.arctan2(c[1]-b[1], c[0]-b[0]) - np.arctan2(a[1]-b[1], a[0]-b[0])\n",
    "    angle = np.abs(radians*180.0/np.pi)\n",
    "\n",
    "    if angle > 180.0:\n",
    "        angle = 360- angle\n",
    "\n",
    "    return angle"
   ]
  },
  {
   "cell_type": "code",
   "execution_count": 153,
   "metadata": {},
   "outputs": [],
   "source": [
    "data = {\n",
    "    'x': [],    #Knee angle\n",
    "    'y': [],    #Elbow angle\n",
    "    'z': [],    #LEFT AND RIGHT\n",
    "    'visibility': [],\n",
    "    'label': []\n",
    "}\n",
    "\n",
    "test_data = {\n",
    "    'x': [],\n",
    "    'y': [],\n",
    "    'z': [],\n",
    "    'visibility': [],\n",
    "    'label': []\n",
    "}"
   ]
  },
  {
   "cell_type": "code",
   "execution_count": 154,
   "metadata": {},
   "outputs": [],
   "source": [
    "\n",
    "# assign directory\n",
    "directory = r'C:\\Users\\mosac\\Git Repositories\\FitnessAI\\images'\n",
    "label = ''\n",
    "# iterate over files in\n",
    "# that directory\n",
    "for filename in os.listdir(directory):\n",
    "    f = os.path.join(directory, filename)\n",
    "    # checking if it is a file\n",
    "    if os.path.isfile(f):\n",
    "\n",
    "        with mp_pose.Pose(min_detection_confidence=0.5, min_tracking_confidence=0.5) as pose:\n",
    "    \n",
    "            frame = cv2.imread(f, cv2.IMREAD_ANYCOLOR)\n",
    "\n",
    "            image = cv2.cvtColor(frame, cv2.COLOR_BGR2RGB)\n",
    "            image.flags.writeable = False\n",
    "      \n",
    "            results = pose.process(image)\n",
    "\n",
    "            image.flags.writeable = True\n",
    "            image = cv2.cvtColor(image, cv2.COLOR_RGB2BGR)\n",
    "\n",
    "\n",
    "            try:\n",
    "                landmarks = results.pose_landmarks.landmark\n",
    "            except:\n",
    "                pass\n",
    "\n",
    "\n",
    "            mp_drawing.draw_landmarks(image, results.pose_landmarks, mp_pose.POSE_CONNECTIONS,\n",
    "                        mp_drawing.DrawingSpec(color=(245,117,66), thickness=2, circle_radius=2), \n",
    "                        mp_drawing.DrawingSpec(color=(245,66,230), thickness=2, circle_radius=2) \n",
    "                            )\n",
    "\n",
    "        if 'deadlift' in f:\n",
    "            label = 'deadlift'\n",
    "        elif 'squat' in f:\n",
    "            label = 'squat'\n",
    "        elif 'bench' in f:\n",
    "            label = 'bench'\n",
    "        else:\n",
    "            continue\n",
    "        \n",
    "        \n",
    "        #calculate desired angels.\n",
    "        #add those angels values to the data array.\n",
    "\n",
    "        #Can Be Deleted\n",
    "        for i in range(11,len(mp_pose.PoseLandmark)-10):\n",
    "            data[\"x\"].append(landmarks[i].x)\n",
    "            data[\"y\"].append(landmarks[i].y)\n",
    "            data[\"z\"].append(landmarks[i].z)\n",
    "            data[\"visibility\"].append(landmarks[i].visibility)\n",
    "            data[\"label\"].append(label)\n"
   ]
  },
  {
   "attachments": {},
   "cell_type": "markdown",
   "metadata": {},
   "source": [
    "Squat Test Data"
   ]
  },
  {
   "cell_type": "code",
   "execution_count": 155,
   "metadata": {},
   "outputs": [],
   "source": [
    "\n",
    "# assign directory\n",
    "directory = r'C:\\Users\\mosac\\Git Repositories\\FitnessAI\\Test_Squats'\n",
    "# iterate over files in\n",
    "# that directory\n",
    "for filename in os.listdir(directory):\n",
    "    f = os.path.join(directory, filename)\n",
    "    # checking if it is a file\n",
    "    if os.path.isfile(f):\n",
    "\n",
    "        with mp_pose.Pose(min_detection_confidence=0.5, min_tracking_confidence=0.5) as pose:\n",
    "    \n",
    "            frame = cv2.imread(f, cv2.IMREAD_ANYCOLOR)\n",
    "\n",
    "            image = cv2.cvtColor(frame, cv2.COLOR_BGR2RGB)\n",
    "            image.flags.writeable = False\n",
    "      \n",
    "            results = pose.process(image)\n",
    "\n",
    "            image.flags.writeable = True\n",
    "            image = cv2.cvtColor(image, cv2.COLOR_RGB2BGR)\n",
    "\n",
    "\n",
    "            try:\n",
    "                landmarks = results.pose_landmarks.landmark\n",
    "            except:\n",
    "                pass\n",
    "\n",
    "\n",
    "            mp_drawing.draw_landmarks(image, results.pose_landmarks, mp_pose.POSE_CONNECTIONS,\n",
    "                        mp_drawing.DrawingSpec(color=(245,117,66), thickness=2, circle_radius=2), \n",
    "                        mp_drawing.DrawingSpec(color=(245,66,230), thickness=2, circle_radius=2) \n",
    "                            )\n",
    "\n",
    "        label = 'squat'\n",
    "      \n",
    "        \n",
    "        for i in range(11,len(mp_pose.PoseLandmark)-10):\n",
    "            test_data[\"x\"].append(landmarks[i].x)\n",
    "            test_data[\"y\"].append(landmarks[i].y)\n",
    "            test_data[\"z\"].append(landmarks[i].z)\n",
    "            test_data[\"visibility\"].append(landmarks[i].visibility)\n",
    "            test_data[\"label\"].append(label)"
   ]
  },
  {
   "attachments": {},
   "cell_type": "markdown",
   "metadata": {},
   "source": [
    "Deadlift Test Data"
   ]
  },
  {
   "cell_type": "code",
   "execution_count": 116,
   "metadata": {},
   "outputs": [],
   "source": [
    "test_data = {\n",
    "    'x': [],\n",
    "    'y': [],\n",
    "    'z': [],\n",
    "    'visibility': [],\n",
    "    'label': []\n",
    "}\n",
    "\n",
    "# assign directory\n",
    "directory = r'C:\\Users\\mosac\\Git Repositories\\FitnessAI\\Test_deadlift'\n",
    "# iterate over files in\n",
    "# that directory\n",
    "for filename in os.listdir(directory):\n",
    "    f = os.path.join(directory, filename)\n",
    "    # checking if it is a file\n",
    "    if os.path.isfile(f):\n",
    "\n",
    "        with mp_pose.Pose(min_detection_confidence=0.5, min_tracking_confidence=0.5) as pose:\n",
    "    \n",
    "            frame = cv2.imread(f, cv2.IMREAD_ANYCOLOR)\n",
    "\n",
    "            image = cv2.cvtColor(frame, cv2.COLOR_BGR2RGB)\n",
    "            image.flags.writeable = False\n",
    "      \n",
    "            results = pose.process(image)\n",
    "\n",
    "            image.flags.writeable = True\n",
    "            image = cv2.cvtColor(image, cv2.COLOR_RGB2BGR)\n",
    "\n",
    "\n",
    "            try:\n",
    "                landmarks = results.pose_landmarks.landmark\n",
    "            except:\n",
    "                pass\n",
    "\n",
    "\n",
    "            mp_drawing.draw_landmarks(image, results.pose_landmarks, mp_pose.POSE_CONNECTIONS,\n",
    "                        mp_drawing.DrawingSpec(color=(245,117,66), thickness=2, circle_radius=2), \n",
    "                        mp_drawing.DrawingSpec(color=(245,66,230), thickness=2, circle_radius=2) \n",
    "                            )\n",
    "\n",
    "        label = 'deadlift'\n",
    "      \n",
    "        \n",
    "        for i in range(11,len(mp_pose.PoseLandmark)-10):\n",
    "            test_data[\"x\"].append(landmarks[i].x)\n",
    "            test_data[\"y\"].append(landmarks[i].y)\n",
    "            test_data[\"z\"].append(landmarks[i].z)\n",
    "            test_data[\"visibility\"].append(landmarks[i].visibility)\n",
    "            test_data[\"label\"].append(label)"
   ]
  },
  {
   "cell_type": "code",
   "execution_count": 89,
   "metadata": {},
   "outputs": [
    {
     "data": {
      "text/plain": [
       "0.9998136162757874"
      ]
     },
     "execution_count": 89,
     "metadata": {},
     "output_type": "execute_result"
    }
   ],
   "source": [
    "data['visibility'][0]"
   ]
  },
  {
   "cell_type": "code",
   "execution_count": 156,
   "metadata": {},
   "outputs": [],
   "source": [
    "#Make data array into pandas DataFrame\n",
    "df = pd.DataFrame(data=data,columns=data.keys())\n",
    "df_test = pd.DataFrame(data=test_data,columns=test_data.keys())"
   ]
  },
  {
   "cell_type": "code",
   "execution_count": 157,
   "metadata": {},
   "outputs": [
    {
     "name": "stdout",
     "output_type": "stream",
     "text": [
      "0\n",
      "0\n"
     ]
    }
   ],
   "source": [
    "#look for null values\n",
    "total_nulls = df.isnull().sum().sum()\n",
    "print(total_nulls)\n",
    "\n",
    "total_nulls = df_test.isnull().sum().sum()\n",
    "print(total_nulls)\n",
    "#0 nulls found"
   ]
  },
  {
   "cell_type": "code",
   "execution_count": 158,
   "metadata": {},
   "outputs": [
    {
     "name": "stdout",
     "output_type": "stream",
     "text": [
      "label\n",
      "bench       3528\n",
      "deadlift    2592\n",
      "squat       4536\n",
      "Name: label, dtype: int64\n",
      "label\n",
      "squat    36\n",
      "Name: label, dtype: int64\n"
     ]
    }
   ],
   "source": [
    "print(df.groupby(['label'])['label'].count())\n",
    "print(df_test.groupby(['label'])['label'].count())\n",
    "#print(df[df.loc[:,'label']=='squat'])\n",
    "#print(df_test.tail())"
   ]
  },
  {
   "cell_type": "code",
   "execution_count": 160,
   "metadata": {},
   "outputs": [
    {
     "data": {
      "text/html": [
       "<div>\n",
       "<style scoped>\n",
       "    .dataframe tbody tr th:only-of-type {\n",
       "        vertical-align: middle;\n",
       "    }\n",
       "\n",
       "    .dataframe tbody tr th {\n",
       "        vertical-align: top;\n",
       "    }\n",
       "\n",
       "    .dataframe thead th {\n",
       "        text-align: right;\n",
       "    }\n",
       "</style>\n",
       "<table border=\"1\" class=\"dataframe\">\n",
       "  <thead>\n",
       "    <tr style=\"text-align: right;\">\n",
       "      <th></th>\n",
       "      <th>x</th>\n",
       "      <th>y</th>\n",
       "      <th>z</th>\n",
       "      <th>visibility</th>\n",
       "      <th>label</th>\n",
       "    </tr>\n",
       "  </thead>\n",
       "  <tbody>\n",
       "    <tr>\n",
       "      <th>31</th>\n",
       "      <td>0.468979</td>\n",
       "      <td>0.403448</td>\n",
       "      <td>0.392113</td>\n",
       "      <td>0.056002</td>\n",
       "      <td>2</td>\n",
       "    </tr>\n",
       "    <tr>\n",
       "      <th>32</th>\n",
       "      <td>0.440374</td>\n",
       "      <td>0.370204</td>\n",
       "      <td>0.117034</td>\n",
       "      <td>0.407221</td>\n",
       "      <td>2</td>\n",
       "    </tr>\n",
       "    <tr>\n",
       "      <th>33</th>\n",
       "      <td>0.475659</td>\n",
       "      <td>0.399690</td>\n",
       "      <td>0.374155</td>\n",
       "      <td>0.060266</td>\n",
       "      <td>2</td>\n",
       "    </tr>\n",
       "    <tr>\n",
       "      <th>34</th>\n",
       "      <td>0.445132</td>\n",
       "      <td>0.373112</td>\n",
       "      <td>0.131432</td>\n",
       "      <td>0.430681</td>\n",
       "      <td>2</td>\n",
       "    </tr>\n",
       "    <tr>\n",
       "      <th>35</th>\n",
       "      <td>0.479795</td>\n",
       "      <td>0.402587</td>\n",
       "      <td>0.373305</td>\n",
       "      <td>0.063188</td>\n",
       "      <td>2</td>\n",
       "    </tr>\n",
       "  </tbody>\n",
       "</table>\n",
       "</div>"
      ],
      "text/plain": [
       "           x         y         z  visibility  label\n",
       "31  0.468979  0.403448  0.392113    0.056002      2\n",
       "32  0.440374  0.370204  0.117034    0.407221      2\n",
       "33  0.475659  0.399690  0.374155    0.060266      2\n",
       "34  0.445132  0.373112  0.131432    0.430681      2\n",
       "35  0.479795  0.402587  0.373305    0.063188      2"
      ]
     },
     "execution_count": 160,
     "metadata": {},
     "output_type": "execute_result"
    }
   ],
   "source": [
    "#Encoding categorial features\n",
    "le = LabelEncoder()\n",
    "le.fit(df.loc[:,'label'])\n",
    "df.loc[:,'label'] = le.transform(df.loc[:,'label'])\n",
    "df.tail()\n",
    "\n",
    "df_test.loc[:,'label'] = le.transform(df_test.loc[:,'label'])\n",
    "df_test.tail()"
   ]
  },
  {
   "cell_type": "code",
   "execution_count": 161,
   "metadata": {},
   "outputs": [
    {
     "name": "stdout",
     "output_type": "stream",
     "text": [
      "          x         y         z  visibility  label\n",
      "0  0.595476  0.340851 -0.318189    0.999814      0\n",
      "1  0.540570  0.333555  0.161531    0.999434      0\n",
      "2  0.532153  0.205141 -0.490691    0.991011      0\n",
      "3  0.488872  0.238865  0.287628    0.511165      0\n",
      "4  0.486908  0.080763 -0.505209    0.968490      0\n",
      "              x         y         z  visibility  label\n",
      "10651  0.346274  0.475674 -0.078109    0.048087      2\n",
      "10652  0.352617  0.411087 -0.032660    0.083758      2\n",
      "10653  0.345670  0.467875 -0.079193    0.049886      2\n",
      "10654  0.354187  0.413280 -0.024628    0.074859      2\n",
      "10655  0.346774  0.465587 -0.077620    0.047159      2\n",
      "           x         y         z  visibility  label\n",
      "31  0.468979  0.403448  0.392113    0.056002      2\n",
      "32  0.440374  0.370204  0.117034    0.407221      2\n",
      "33  0.475659  0.399690  0.374155    0.060266      2\n",
      "34  0.445132  0.373112  0.131432    0.430681      2\n",
      "35  0.479795  0.402587  0.373305    0.063188      2\n"
     ]
    }
   ],
   "source": [
    "print(df.head())\n",
    "print(df.tail())\n",
    "print(df_test.tail())"
   ]
  },
  {
   "cell_type": "code",
   "execution_count": null,
   "metadata": {},
   "outputs": [],
   "source": [
    "data"
   ]
  },
  {
   "cell_type": "code",
   "execution_count": 162,
   "metadata": {},
   "outputs": [],
   "source": [
    "indeces=[]\n",
    "for i in range(len(data['visibility'])):\n",
    "    if data['visibility'][i] < 0.9:\n",
    "        indeces.append(i)"
   ]
  },
  {
   "cell_type": "code",
   "execution_count": 163,
   "metadata": {},
   "outputs": [
    {
     "name": "stdout",
     "output_type": "stream",
     "text": [
      "10656\n",
      "6408\n"
     ]
    }
   ],
   "source": [
    "print(len(df))\n",
    "df = df.drop(index=indeces)\n",
    "print(len(df))"
   ]
  },
  {
   "cell_type": "code",
   "execution_count": null,
   "metadata": {},
   "outputs": [],
   "source": [
    "#Outlier handling\n",
    "\"\"\"\n",
    "for i in range(len(df.columns)-5):\n",
    "  col_name = df.columns[i]\n",
    "  col = df[col_name]\n",
    "  Q1 = col.quantile(0.25)\n",
    "  Q3 = col.quantile(0.75)\n",
    "  IQR = Q3 - Q1\n",
    "  lower_bound = Q1 - 2 * IQR\n",
    "  upper_bound = Q3 + 2 * IQR\n",
    "\n",
    "  # Replace values outside the bounds with the bound values\n",
    "  col_winsorized = col.clip(lower_bound, upper_bound)\n",
    "\n",
    "  # Replace the original column with the winsorized data\n",
    "  df[col_name] = col_winsorized\n",
    "\"\"\""
   ]
  },
  {
   "cell_type": "code",
   "execution_count": 164,
   "metadata": {},
   "outputs": [],
   "source": [
    "from sklearn.utils import shuffle\n",
    "\n",
    "X_train = df.drop(['label','visibility'],axis=1)\n",
    "y_train = df['label']\n",
    "\n",
    "X_test = df_test.drop(['label','visibility'],axis=1)\n",
    "y_test = df_test['label']\n",
    "\n",
    "X_test,y_test = shuffle(X_test,y_test)\n",
    "X_train,y_train = shuffle(X_train,y_train)\n"
   ]
  },
  {
   "cell_type": "code",
   "execution_count": 165,
   "metadata": {},
   "outputs": [
    {
     "name": "stdout",
     "output_type": "stream",
     "text": [
      "              x         y         z\n",
      "10121  0.381948  0.437174 -0.741139\n",
      "1677   0.289193  0.350661  0.215509\n",
      "446    0.539378  0.488278 -0.239149\n",
      "1467   0.358232  0.386019 -0.676417\n",
      "2      0.532153  0.205141 -0.490691\n",
      "...         ...       ...       ...\n",
      "7510   0.604157  0.284615 -0.763245\n",
      "1393   0.418881  0.619507  0.390456\n",
      "9633   0.487716  0.186091 -0.991793\n",
      "10515  0.532691  0.416727 -0.076315\n",
      "8008   0.641916  0.199597 -0.746113\n",
      "\n",
      "[6408 rows x 3 columns]\n",
      "36\n"
     ]
    }
   ],
   "source": [
    "print(X_train)\n",
    "print(len(y_test))"
   ]
  },
  {
   "cell_type": "code",
   "execution_count": 171,
   "metadata": {},
   "outputs": [
    {
     "name": "stdout",
     "output_type": "stream",
     "text": [
      "Train Accuracy Is: 99.41\n",
      "Test Accuracy Is: 30.56\n",
      "[0 0 0 1 0 1 0 0 0 1 1 2 2 0 0 1 2 2 2 1 1 1 2 0 0 0 2 2 0 0 2 0 2 0 2 0]\n"
     ]
    }
   ],
   "source": [
    "xgb_model = XGBClassifier(learning_rate=1, n_estimators= 100,max_depth = 5)\n",
    "\n",
    "fit = xgb_model.fit(X_train,y_train)\n",
    "\n",
    "fit_pred = fit.predict(X_train)\n",
    "\n",
    "xgb_predictions = xgb_model.predict(X_test)\n",
    "\n",
    "xgb_accuracy = accuracy_score(y_test,xgb_predictions)\n",
    "\n",
    "#Evaluation - calculating accuracy\n",
    "xgb_train_acc = accuracy_score(y_train,fit_pred)\n",
    "\n",
    "#Print accuracy of train and test\n",
    "print(f\"Train Accuracy Is: {round(xgb_train_acc*100,2)}\\nTest Accuracy Is: {round(xgb_accuracy*100,2)}\")\n",
    "\n",
    "print(xgb_predictions)"
   ]
  }
 ],
 "metadata": {
  "kernelspec": {
   "display_name": "base",
   "language": "python",
   "name": "python3"
  },
  "language_info": {
   "codemirror_mode": {
    "name": "ipython",
    "version": 3
   },
   "file_extension": ".py",
   "mimetype": "text/x-python",
   "name": "python",
   "nbconvert_exporter": "python",
   "pygments_lexer": "ipython3",
   "version": "3.9.13 (main, Aug 25 2022, 18:29:29) \n[Clang 12.0.0 ]"
  },
  "orig_nbformat": 4,
  "vscode": {
   "interpreter": {
    "hash": "8a5edab282632443219e051e4ade2d1d5bbc671c781051bf1437897cbdfea0f1"
   }
  }
 },
 "nbformat": 4,
 "nbformat_minor": 2
}
